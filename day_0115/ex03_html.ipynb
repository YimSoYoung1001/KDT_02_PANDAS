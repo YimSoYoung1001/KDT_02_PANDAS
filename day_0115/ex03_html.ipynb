{
 "cells": [
  {
   "cell_type": "markdown",
   "id": "a0cee42c-693a-4d58-a101-e5cb611fc37e",
   "metadata": {},
   "source": [
    "## [HTML ==> DataFrame으로 저장]"
   ]
  },
  {
   "cell_type": "markdown",
   "id": "22c5aa98-b27a-400e-bd97-21adb74a0932",
   "metadata": {},
   "source": [
    "(1) 모듈 로딩 <hr>"
   ]
  },
  {
   "cell_type": "code",
   "execution_count": 9,
   "id": "36cfeec5-cb32-485a-9258-bff0c09ffba4",
   "metadata": {},
   "outputs": [],
   "source": [
    "import pandas as pd"
   ]
  },
  {
   "cell_type": "markdown",
   "id": "d7d02b09-f666-4ab8-a667-95b8b1f8a4ae",
   "metadata": {},
   "source": [
    "(2) 데이터 준비 <hr>"
   ]
  },
  {
   "cell_type": "code",
   "execution_count": 10,
   "id": "ad1a6a72-586e-4900-9c91-9795c563d34c",
   "metadata": {},
   "outputs": [],
   "source": [
    "file = '../DATA/test.html'"
   ]
  },
  {
   "cell_type": "markdown",
   "id": "8ca78bcc-fcd0-416a-9a02-37b474c8968b",
   "metadata": {},
   "source": [
    "(3) HTML => DataFrame 저장"
   ]
  },
  {
   "cell_type": "code",
   "execution_count": 11,
   "id": "3ae57e4e-f733-49a2-ba36-68d587f46251",
   "metadata": {},
   "outputs": [
    {
     "data": {
      "text/plain": [
       "[    0      1   2\n",
       " 0  번호     이름  전공\n",
       " 1   1    홍길동  의적\n",
       " 2   2    마징가  로봇\n",
       " 3   4    베트맨  박쥐\n",
       " 4   5  스파이더맨  거미,\n",
       "      0     1   2\n",
       " 0  과일명    가격  수량\n",
       " 1   사과  1000  32\n",
       " 2  바나나  3000  10\n",
       " 3   수박  5800   2]"
      ]
     },
     "execution_count": 11,
     "metadata": {},
     "output_type": "execute_result"
    }
   ],
   "source": [
    "testDF = pd.read_html(file, encoding='utf-8')\n",
    "testDF"
   ]
  },
  {
   "cell_type": "code",
   "execution_count": 12,
   "id": "d744f87e-565d-4376-850b-a1668c2cad91",
   "metadata": {},
   "outputs": [
    {
     "name": "stdout",
     "output_type": "stream",
     "text": [
      "Defaulting to user installation because normal site-packages is not writeable\n",
      "Requirement already satisfied: lxml in c:\\programdata\\anaconda3\\envs\\my_38\\lib\\site-packages (4.9.3)\n",
      "Note: you may need to restart the kernel to use updated packages.\n"
     ]
    }
   ],
   "source": [
    "pip install lxml"
   ]
  },
  {
   "cell_type": "code",
   "execution_count": 13,
   "id": "96fc7a1c-fe91-49a2-a053-f3ae1cdabc81",
   "metadata": {},
   "outputs": [],
   "source": [
    "import lxml"
   ]
  },
  {
   "cell_type": "code",
   "execution_count": 18,
   "id": "cdc1d974-3f3e-4a10-9b39-2406574cc95c",
   "metadata": {},
   "outputs": [
    {
     "data": {
      "text/plain": [
       "list"
      ]
     },
     "execution_count": 18,
     "metadata": {},
     "output_type": "execute_result"
    }
   ],
   "source": [
    "type(testDF)       #여러개의 데이터 프레인이 리스트에 담겨져있다. 원소가 데이터프레임"
   ]
  },
  {
   "cell_type": "code",
   "execution_count": 21,
   "id": "f00620ea-ad38-4d46-a4dd-6aa08193673a",
   "metadata": {},
   "outputs": [
    {
     "name": "stdout",
     "output_type": "stream",
     "text": [
      "<class 'pandas.core.frame.DataFrame'>\n",
      "RangeIndex: 5 entries, 0 to 4\n",
      "Data columns (total 3 columns):\n",
      " #   Column  Non-Null Count  Dtype \n",
      "---  ------  --------------  ----- \n",
      " 0   0       5 non-null      object\n",
      " 1   1       5 non-null      object\n",
      " 2   2       5 non-null      object\n",
      "dtypes: object(3)\n",
      "memory usage: 248.0+ bytes\n"
     ]
    }
   ],
   "source": [
    "testDF[0]"
   ]
  },
  {
   "cell_type": "code",
   "execution_count": 20,
   "id": "12dafff1-45bf-4cf7-b42b-d5f9c2997544",
   "metadata": {},
   "outputs": [
    {
     "data": {
      "text/html": [
       "<div>\n",
       "<style scoped>\n",
       "    .dataframe tbody tr th:only-of-type {\n",
       "        vertical-align: middle;\n",
       "    }\n",
       "\n",
       "    .dataframe tbody tr th {\n",
       "        vertical-align: top;\n",
       "    }\n",
       "\n",
       "    .dataframe thead th {\n",
       "        text-align: right;\n",
       "    }\n",
       "</style>\n",
       "<table border=\"1\" class=\"dataframe\">\n",
       "  <thead>\n",
       "    <tr style=\"text-align: right;\">\n",
       "      <th></th>\n",
       "      <th>0</th>\n",
       "      <th>1</th>\n",
       "      <th>2</th>\n",
       "    </tr>\n",
       "  </thead>\n",
       "  <tbody>\n",
       "    <tr>\n",
       "      <th>0</th>\n",
       "      <td>과일명</td>\n",
       "      <td>가격</td>\n",
       "      <td>수량</td>\n",
       "    </tr>\n",
       "    <tr>\n",
       "      <th>1</th>\n",
       "      <td>사과</td>\n",
       "      <td>1000</td>\n",
       "      <td>32</td>\n",
       "    </tr>\n",
       "    <tr>\n",
       "      <th>2</th>\n",
       "      <td>바나나</td>\n",
       "      <td>3000</td>\n",
       "      <td>10</td>\n",
       "    </tr>\n",
       "    <tr>\n",
       "      <th>3</th>\n",
       "      <td>수박</td>\n",
       "      <td>5800</td>\n",
       "      <td>2</td>\n",
       "    </tr>\n",
       "  </tbody>\n",
       "</table>\n",
       "</div>"
      ],
      "text/plain": [
       "     0     1   2\n",
       "0  과일명    가격  수량\n",
       "1   사과  1000  32\n",
       "2  바나나  3000  10\n",
       "3   수박  5800   2"
      ]
     },
     "execution_count": 20,
     "metadata": {},
     "output_type": "execute_result"
    }
   ],
   "source": [
    "testDF[1]"
   ]
  },
  {
   "cell_type": "code",
   "execution_count": null,
   "id": "0adedbfa-c822-4738-8ece-7a6a5795e885",
   "metadata": {},
   "outputs": [],
   "source": []
  }
 ],
 "metadata": {
  "kernelspec": {
   "display_name": "Python 3 (ipykernel)",
   "language": "python",
   "name": "python3"
  },
  "language_info": {
   "codemirror_mode": {
    "name": "ipython",
    "version": 3
   },
   "file_extension": ".py",
   "mimetype": "text/x-python",
   "name": "python",
   "nbconvert_exporter": "python",
   "pygments_lexer": "ipython3",
   "version": "3.8.18"
  }
 },
 "nbformat": 4,
 "nbformat_minor": 5
}
