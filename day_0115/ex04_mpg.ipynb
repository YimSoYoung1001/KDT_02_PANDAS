{
 "cells": [
  {
   "cell_type": "markdown",
   "id": "966ffb56-713e-464a-89ff-0821ec5fbf10",
   "metadata": {},
   "source": [
    "## [ 데이터 파일 읽고 분석 ]"
   ]
  },
  {
   "cell_type": "markdown",
   "id": "34098f67-b913-4e20-8d0d-331550826f72",
   "metadata": {},
   "source": [
    "(1) 모듈 로딩"
   ]
  },
  {
   "cell_type": "code",
   "execution_count": 667,
   "id": "50fb1f47-a21a-4486-a562-050431e3e416",
   "metadata": {},
   "outputs": [],
   "source": [
    "import pandas as pd"
   ]
  },
  {
   "cell_type": "markdown",
   "id": "edf6ef47-3ad3-42ba-a587-155b9a2da3e4",
   "metadata": {},
   "source": [
    "(2) 데이터 준비"
   ]
  },
  {
   "cell_type": "code",
   "execution_count": 668,
   "id": "454eade7-4caa-4c05-b99e-b44cfa0ecd71",
   "metadata": {},
   "outputs": [],
   "source": [
    "file = '../DATA/auto-mpg.csv'"
   ]
  },
  {
   "cell_type": "markdown",
   "id": "79f0ec47-ad37-4e11-9cbb-708cb12283c4",
   "metadata": {},
   "source": [
    "(3) 데이터 저장"
   ]
  },
  {
   "cell_type": "code",
   "execution_count": 669,
   "id": "d7de5f29-fe6e-422e-996b-65a772de21d0",
   "metadata": {},
   "outputs": [],
   "source": [
    "# 정규표현식 => '\\s+' : white space 즉, 공백문자 1개 이상으로 된 구분자 문자\n",
    "mpgDF = pd.read_csv(file, header = None, sep='\\s+')\n",
    "\n",
    "#mpgDF = pd.read_csv(file, header = None, sep=' ')       #원본데이터에서는 스페이스바가 1개 이상 난것도 있기때문에 ERROR"
   ]
  },
  {
   "cell_type": "markdown",
   "id": "c73b32aa-2111-4a13-8d52-c2060ab13f3a",
   "metadata": {},
   "source": [
    "(4) 데이터 확인"
   ]
  },
  {
   "cell_type": "code",
   "execution_count": 670,
   "id": "eb194ab3-3bce-447b-bdb0-315fb5dea04e",
   "metadata": {},
   "outputs": [
    {
     "name": "stdout",
     "output_type": "stream",
     "text": [
      "<class 'pandas.core.frame.DataFrame'>\n",
      "RangeIndex: 398 entries, 0 to 397\n",
      "Data columns (total 9 columns):\n",
      " #   Column  Non-Null Count  Dtype  \n",
      "---  ------  --------------  -----  \n",
      " 0   0       398 non-null    float64\n",
      " 1   1       398 non-null    int64  \n",
      " 2   2       398 non-null    float64\n",
      " 3   3       398 non-null    object \n",
      " 4   4       398 non-null    float64\n",
      " 5   5       398 non-null    float64\n",
      " 6   6       398 non-null    int64  \n",
      " 7   7       398 non-null    int64  \n",
      " 8   8       398 non-null    object \n",
      "dtypes: float64(4), int64(3), object(2)\n",
      "memory usage: 28.1+ KB\n"
     ]
    }
   ],
   "source": [
    "# 전체 데이터에 대한 요약 정보\n",
    "mpgDF.info()"
   ]
  },
  {
   "cell_type": "code",
   "execution_count": 671,
   "id": "5d1cd021-e7f9-497e-8583-b0a88349d131",
   "metadata": {},
   "outputs": [
    {
     "data": {
      "text/html": [
       "<div>\n",
       "<style scoped>\n",
       "    .dataframe tbody tr th:only-of-type {\n",
       "        vertical-align: middle;\n",
       "    }\n",
       "\n",
       "    .dataframe tbody tr th {\n",
       "        vertical-align: top;\n",
       "    }\n",
       "\n",
       "    .dataframe thead th {\n",
       "        text-align: right;\n",
       "    }\n",
       "</style>\n",
       "<table border=\"1\" class=\"dataframe\">\n",
       "  <thead>\n",
       "    <tr style=\"text-align: right;\">\n",
       "      <th></th>\n",
       "      <th>0</th>\n",
       "      <th>1</th>\n",
       "      <th>2</th>\n",
       "      <th>3</th>\n",
       "      <th>4</th>\n",
       "      <th>5</th>\n",
       "      <th>6</th>\n",
       "      <th>7</th>\n",
       "      <th>8</th>\n",
       "    </tr>\n",
       "  </thead>\n",
       "  <tbody>\n",
       "    <tr>\n",
       "      <th>0</th>\n",
       "      <td>18.0</td>\n",
       "      <td>8</td>\n",
       "      <td>307.0</td>\n",
       "      <td>130.0</td>\n",
       "      <td>3504.0</td>\n",
       "      <td>12.0</td>\n",
       "      <td>70</td>\n",
       "      <td>1</td>\n",
       "      <td>chevrolet chevelle malibu</td>\n",
       "    </tr>\n",
       "    <tr>\n",
       "      <th>1</th>\n",
       "      <td>15.0</td>\n",
       "      <td>8</td>\n",
       "      <td>350.0</td>\n",
       "      <td>165.0</td>\n",
       "      <td>3693.0</td>\n",
       "      <td>11.5</td>\n",
       "      <td>70</td>\n",
       "      <td>1</td>\n",
       "      <td>buick skylark 320</td>\n",
       "    </tr>\n",
       "    <tr>\n",
       "      <th>2</th>\n",
       "      <td>18.0</td>\n",
       "      <td>8</td>\n",
       "      <td>318.0</td>\n",
       "      <td>150.0</td>\n",
       "      <td>3436.0</td>\n",
       "      <td>11.0</td>\n",
       "      <td>70</td>\n",
       "      <td>1</td>\n",
       "      <td>plymouth satellite</td>\n",
       "    </tr>\n",
       "    <tr>\n",
       "      <th>3</th>\n",
       "      <td>16.0</td>\n",
       "      <td>8</td>\n",
       "      <td>304.0</td>\n",
       "      <td>150.0</td>\n",
       "      <td>3433.0</td>\n",
       "      <td>12.0</td>\n",
       "      <td>70</td>\n",
       "      <td>1</td>\n",
       "      <td>amc rebel sst</td>\n",
       "    </tr>\n",
       "    <tr>\n",
       "      <th>4</th>\n",
       "      <td>17.0</td>\n",
       "      <td>8</td>\n",
       "      <td>302.0</td>\n",
       "      <td>140.0</td>\n",
       "      <td>3449.0</td>\n",
       "      <td>10.5</td>\n",
       "      <td>70</td>\n",
       "      <td>1</td>\n",
       "      <td>ford torino</td>\n",
       "    </tr>\n",
       "  </tbody>\n",
       "</table>\n",
       "</div>"
      ],
      "text/plain": [
       "      0  1      2      3       4     5   6  7                          8\n",
       "0  18.0  8  307.0  130.0  3504.0  12.0  70  1  chevrolet chevelle malibu\n",
       "1  15.0  8  350.0  165.0  3693.0  11.5  70  1          buick skylark 320\n",
       "2  18.0  8  318.0  150.0  3436.0  11.0  70  1         plymouth satellite\n",
       "3  16.0  8  304.0  150.0  3433.0  12.0  70  1              amc rebel sst\n",
       "4  17.0  8  302.0  140.0  3449.0  10.5  70  1                ford torino"
      ]
     },
     "execution_count": 671,
     "metadata": {},
     "output_type": "execute_result"
    }
   ],
   "source": [
    "# 실제 데이터 확인     ===> 3번 컬럼이 타입과 실제 데이터 다름!\n",
    "mpgDF.head()"
   ]
  },
  {
   "cell_type": "markdown",
   "id": "a36a9162-216a-473d-a6e5-dbb60ad5837d",
   "metadata": {},
   "source": [
    "- 컬럼별 데이터 수 확인 => DF.count()"
   ]
  },
  {
   "cell_type": "code",
   "execution_count": 672,
   "id": "a9576a91-ef8d-4d80-beee-d9b69b601a95",
   "metadata": {},
   "outputs": [
    {
     "data": {
      "text/plain": [
       "0    398\n",
       "1    398\n",
       "2    398\n",
       "3    398\n",
       "4    398\n",
       "5    398\n",
       "6    398\n",
       "7    398\n",
       "8    398\n",
       "dtype: int64"
      ]
     },
     "execution_count": 672,
     "metadata": {},
     "output_type": "execute_result"
    }
   ],
   "source": [
    "mpgDF.count()"
   ]
  },
  {
   "cell_type": "markdown",
   "id": "94b7647e-1b4b-4f5c-a816-d45785fb9129",
   "metadata": {},
   "source": [
    "- 컬럼별 데이터 종류 갯수 확인 => DF.value_counts()"
   ]
  },
  {
   "cell_type": "code",
   "execution_count": 673,
   "id": "1fb78cdc-be0a-4fbe-85d6-55d08546c9a2",
   "metadata": {},
   "outputs": [
    {
     "name": "stdout",
     "output_type": "stream",
     "text": [
      "컬럼명 : 0 \n",
      "======> \n",
      "0\n",
      "13.0    20\n",
      "14.0    19\n",
      "18.0    17\n",
      "15.0    16\n",
      "26.0    14\n",
      "        ..\n",
      "31.9     1\n",
      "16.9     1\n",
      "18.2     1\n",
      "22.3     1\n",
      "44.0     1\n",
      "Name: count, Length: 129, dtype: int64\n",
      "\n",
      "컬럼명 : 1 \n",
      "======> \n",
      "1\n",
      "4    204\n",
      "8    103\n",
      "6     84\n",
      "3      4\n",
      "5      3\n",
      "Name: count, dtype: int64\n",
      "\n",
      "컬럼명 : 2 \n",
      "======> \n",
      "2\n",
      "97.0     21\n",
      "98.0     18\n",
      "350.0    18\n",
      "318.0    17\n",
      "250.0    17\n",
      "         ..\n",
      "104.0     1\n",
      "110.0     1\n",
      "130.0     1\n",
      "111.0     1\n",
      "144.0     1\n",
      "Name: count, Length: 82, dtype: int64\n",
      "\n",
      "컬럼명 : 3 \n",
      "======> \n",
      "3\n",
      "150.0    22\n",
      "90.00    20\n",
      "88.00    19\n",
      "110.0    18\n",
      "100.0    17\n",
      "         ..\n",
      "61.00     1\n",
      "93.00     1\n",
      "148.0     1\n",
      "152.0     1\n",
      "82.00     1\n",
      "Name: count, Length: 94, dtype: int64\n",
      "\n",
      "컬럼명 : 4 \n",
      "======> \n",
      "4\n",
      "1985.0    4\n",
      "2130.0    4\n",
      "2125.0    3\n",
      "2945.0    3\n",
      "2265.0    3\n",
      "         ..\n",
      "2875.0    1\n",
      "3102.0    1\n",
      "3664.0    1\n",
      "2807.0    1\n",
      "2625.0    1\n",
      "Name: count, Length: 351, dtype: int64\n",
      "\n",
      "컬럼명 : 5 \n",
      "======> \n",
      "5\n",
      "14.5    23\n",
      "15.5    21\n",
      "14.0    16\n",
      "16.0    16\n",
      "13.5    15\n",
      "        ..\n",
      "11.1     1\n",
      "12.1     1\n",
      "21.9     1\n",
      "22.1     1\n",
      "11.6     1\n",
      "Name: count, Length: 95, dtype: int64\n",
      "\n",
      "컬럼명 : 6 \n",
      "======> \n",
      "6\n",
      "73    40\n",
      "78    36\n",
      "76    34\n",
      "82    31\n",
      "75    30\n",
      "70    29\n",
      "79    29\n",
      "80    29\n",
      "81    29\n",
      "71    28\n",
      "72    28\n",
      "77    28\n",
      "74    27\n",
      "Name: count, dtype: int64\n",
      "\n",
      "컬럼명 : 7 \n",
      "======> \n",
      "7\n",
      "1    249\n",
      "3     79\n",
      "2     70\n",
      "Name: count, dtype: int64\n",
      "\n",
      "컬럼명 : 8 \n",
      "======> \n",
      "8\n",
      "ford pinto             6\n",
      "toyota corolla         5\n",
      "amc matador            5\n",
      "ford maverick          5\n",
      "chevrolet chevette     4\n",
      "                      ..\n",
      "chevrolet monza 2+2    1\n",
      "ford mustang ii        1\n",
      "pontiac astro          1\n",
      "amc pacer              1\n",
      "chevy s-10             1\n",
      "Name: count, Length: 305, dtype: int64\n",
      "\n"
     ]
    }
   ],
   "source": [
    "for col in mpgDF.columns:\n",
    "    print(f\"컬럼명 : {col} \\n======> \\n{mpgDF[col].value_counts()}\")\n",
    "    print()"
   ]
  },
  {
   "cell_type": "code",
   "execution_count": 674,
   "id": "c3f130ab-3139-4e34-b418-3d2f12c4d8d4",
   "metadata": {},
   "outputs": [
    {
     "data": {
      "text/plain": [
       "3\n",
       "150.0    22\n",
       "90.00    20\n",
       "88.00    19\n",
       "110.0    18\n",
       "100.0    17\n",
       "         ..\n",
       "61.00     1\n",
       "93.00     1\n",
       "148.0     1\n",
       "152.0     1\n",
       "82.00     1\n",
       "Name: count, Length: 94, dtype: int64"
      ]
     },
     "execution_count": 674,
     "metadata": {},
     "output_type": "execute_result"
    }
   ],
   "source": [
    "mpgDF[3].value_counts()"
   ]
  },
  {
   "cell_type": "markdown",
   "id": "33bcafef-c3bf-461c-bc6a-7acdc195d0c2",
   "metadata": {},
   "source": [
    "- 컬럼별 고유값 종류 확인"
   ]
  },
  {
   "cell_type": "code",
   "execution_count": 675,
   "id": "39d99660-1a18-4470-9dbf-1952a78262c6",
   "metadata": {},
   "outputs": [
    {
     "name": "stdout",
     "output_type": "stream",
     "text": [
      "컬럼명 : 0 \n",
      "======> \n",
      "[18.  15.  16.  17.  14.  24.  22.  21.  27.  26.  25.  10.  11.   9.\n",
      " 28.  19.  12.  13.  23.  30.  31.  35.  20.  29.  32.  33.  17.5 15.5\n",
      " 14.5 22.5 24.5 18.5 29.5 26.5 16.5 31.5 36.  25.5 33.5 20.5 30.5 21.5\n",
      " 43.1 36.1 32.8 39.4 19.9 19.4 20.2 19.2 25.1 20.6 20.8 18.6 18.1 17.7\n",
      " 27.5 27.2 30.9 21.1 23.2 23.8 23.9 20.3 21.6 16.2 19.8 22.3 17.6 18.2\n",
      " 16.9 31.9 34.1 35.7 27.4 25.4 34.2 34.5 31.8 37.3 28.4 28.8 26.8 41.5\n",
      " 38.1 32.1 37.2 26.4 24.3 19.1 34.3 29.8 31.3 37.  32.2 46.6 27.9 40.8\n",
      " 44.3 43.4 36.4 44.6 40.9 33.8 32.7 23.7 23.6 32.4 26.6 25.8 23.5 39.1\n",
      " 39.  35.1 32.3 37.7 34.7 34.4 29.9 33.7 32.9 31.6 28.1 30.7 24.2 22.4\n",
      " 34.  38.  44. ]\n",
      "\n",
      "컬럼명 : 1 \n",
      "======> \n",
      "[8 4 6 3 5]\n",
      "\n",
      "컬럼명 : 2 \n",
      "======> \n",
      "[307.  350.  318.  304.  302.  429.  454.  440.  455.  390.  383.  340.\n",
      " 400.  113.  198.  199.  200.   97.  110.  107.  104.  121.  360.  140.\n",
      "  98.  232.  225.  250.  351.  258.  122.  116.   79.   88.   71.   72.\n",
      "  91.   97.5  70.  120.   96.  108.  155.   68.  114.  156.   76.   83.\n",
      "  90.  231.  262.  134.  119.  171.  115.  101.  305.   85.  130.  168.\n",
      " 111.  260.  151.  146.   80.   78.  105.  131.  163.   89.  267.   86.\n",
      " 183.  141.  173.  135.   81.  100.  145.  112.  181.  144. ]\n",
      "\n",
      "컬럼명 : 3 \n",
      "======> \n",
      "['130.0' '165.0' '150.0' '140.0' '198.0' '220.0' '215.0' '225.0' '190.0'\n",
      " '170.0' '160.0' '95.00' '97.00' '85.00' '88.00' '46.00' '87.00' '90.00'\n",
      " '113.0' '200.0' '210.0' '193.0' '?' '100.0' '105.0' '175.0' '153.0'\n",
      " '180.0' '110.0' '72.00' '86.00' '70.00' '76.00' '65.00' '69.00' '60.00'\n",
      " '80.00' '54.00' '208.0' '155.0' '112.0' '92.00' '145.0' '137.0' '158.0'\n",
      " '167.0' '94.00' '107.0' '230.0' '49.00' '75.00' '91.00' '122.0' '67.00'\n",
      " '83.00' '78.00' '52.00' '61.00' '93.00' '148.0' '129.0' '96.00' '71.00'\n",
      " '98.00' '115.0' '53.00' '81.00' '79.00' '120.0' '152.0' '102.0' '108.0'\n",
      " '68.00' '58.00' '149.0' '89.00' '63.00' '48.00' '66.00' '139.0' '103.0'\n",
      " '125.0' '133.0' '138.0' '135.0' '142.0' '77.00' '62.00' '132.0' '84.00'\n",
      " '64.00' '74.00' '116.0' '82.00']\n",
      "\n",
      "컬럼명 : 4 \n",
      "======> \n",
      "[3504. 3693. 3436. 3433. 3449. 4341. 4354. 4312. 4425. 3850. 3563. 3609.\n",
      " 3761. 3086. 2372. 2833. 2774. 2587. 2130. 1835. 2672. 2430. 2375. 2234.\n",
      " 2648. 4615. 4376. 4382. 4732. 2264. 2228. 2046. 2634. 3439. 3329. 3302.\n",
      " 3288. 4209. 4464. 4154. 4096. 4955. 4746. 5140. 2962. 2408. 3282. 3139.\n",
      " 2220. 2123. 2074. 2065. 1773. 1613. 1834. 1955. 2278. 2126. 2254. 2226.\n",
      " 4274. 4385. 4135. 4129. 3672. 4633. 4502. 4456. 4422. 2330. 3892. 4098.\n",
      " 4294. 4077. 2933. 2511. 2979. 2189. 2395. 2288. 2506. 2164. 2100. 4100.\n",
      " 3988. 4042. 3777. 4952. 4363. 4237. 4735. 4951. 3821. 3121. 3278. 2945.\n",
      " 3021. 2904. 1950. 4997. 4906. 4654. 4499. 2789. 2279. 2401. 2379. 2124.\n",
      " 2310. 2472. 2265. 4082. 4278. 1867. 2158. 2582. 2868. 3399. 2660. 2807.\n",
      " 3664. 3102. 2875. 2901. 3336. 2451. 1836. 2542. 3781. 3632. 3613. 4141.\n",
      " 4699. 4457. 4638. 4257. 2219. 1963. 2300. 1649. 2003. 2125. 2108. 2246.\n",
      " 2489. 2391. 2000. 3264. 3459. 3432. 3158. 4668. 4440. 4498. 4657. 3907.\n",
      " 3897. 3730. 3785. 3039. 3221. 3169. 2171. 2639. 2914. 2592. 2702. 2223.\n",
      " 2545. 2984. 1937. 3211. 2694. 2957. 2671. 1795. 2464. 2572. 2255. 2202.\n",
      " 4215. 4190. 3962. 3233. 3353. 3012. 3085. 2035. 3651. 3574. 3645. 3193.\n",
      " 1825. 1990. 2155. 2565. 3150. 3940. 3270. 2930. 3820. 4380. 4055. 3870.\n",
      " 3755. 2045. 1945. 3880. 4060. 4140. 4295. 3520. 3425. 3630. 3525. 4220.\n",
      " 4165. 4325. 4335. 1940. 2740. 2755. 2051. 2075. 1985. 2190. 2815. 2600.\n",
      " 2720. 1800. 2070. 3365. 3735. 3570. 3535. 3155. 2965. 3430. 3210. 3380.\n",
      " 3070. 3620. 3410. 3445. 3205. 4080. 2560. 2230. 2515. 2745. 2855. 2405.\n",
      " 2830. 3140. 2795. 2135. 3245. 2990. 2890. 3265. 3360. 3840. 3725. 3955.\n",
      " 3830. 4360. 4054. 3605. 1925. 1975. 1915. 2670. 3530. 3900. 3190. 3420.\n",
      " 2200. 2150. 2020. 2595. 2700. 2556. 2144. 1968. 2120. 2019. 2678. 2870.\n",
      " 3003. 3381. 2188. 2711. 2434. 2110. 2800. 2085. 2335. 2950. 3250. 1850.\n",
      " 2145. 1845. 2910. 2420. 2500. 2905. 2290. 2490. 2635. 2620. 2725. 2385.\n",
      " 1755. 1875. 1760. 2050. 2215. 2380. 2320. 2210. 2350. 2615. 3230. 3160.\n",
      " 2900. 3415. 3060. 3465. 2605. 2640. 2575. 2525. 2735. 2865. 3035. 1980.\n",
      " 2025. 1970. 2160. 2205. 2245. 1965. 1995. 3015. 2585. 2835. 2665. 2370.\n",
      " 2790. 2295. 2625.]\n",
      "\n",
      "컬럼명 : 5 \n",
      "======> \n",
      "[12.  11.5 11.  10.5 10.   9.   8.5  8.   9.5 15.  15.5 16.  14.5 20.5\n",
      " 17.5 12.5 14.  13.5 18.5 19.  13.  19.5 18.  17.  23.5 16.5 21.  16.9\n",
      " 14.9 17.7 15.3 13.9 12.8 15.4 17.6 22.2 22.1 14.2 17.4 16.2 17.8 12.2\n",
      " 16.4 13.6 15.7 13.2 21.9 16.7 12.1 14.8 18.6 16.8 13.7 11.1 11.4 18.2\n",
      " 15.8 15.9 14.1 21.5 14.4 19.4 19.2 17.2 18.7 15.1 13.4 11.2 14.7 16.6\n",
      " 17.3 15.2 14.3 20.1 24.8 11.3 12.9 18.8 18.1 17.9 21.7 23.7 19.9 21.8\n",
      " 13.8 12.6 16.1 20.7 18.3 20.4 19.6 17.1 15.6 24.6 11.6]\n",
      "\n",
      "컬럼명 : 6 \n",
      "======> \n",
      "[70 71 72 73 74 75 76 77 78 79 80 81 82]\n",
      "\n",
      "컬럼명 : 7 \n",
      "======> \n",
      "[1 3 2]\n",
      "\n",
      "컬럼명 : 8 \n",
      "======> \n",
      "['chevrolet chevelle malibu' 'buick skylark 320' 'plymouth satellite'\n",
      " 'amc rebel sst' 'ford torino' 'ford galaxie 500' 'chevrolet impala'\n",
      " 'plymouth fury iii' 'pontiac catalina' 'amc ambassador dpl'\n",
      " 'dodge challenger se' \"plymouth 'cuda 340\" 'chevrolet monte carlo'\n",
      " 'buick estate wagon (sw)' 'toyota corona mark ii' 'plymouth duster'\n",
      " 'amc hornet' 'ford maverick' 'datsun pl510'\n",
      " 'volkswagen 1131 deluxe sedan' 'peugeot 504' 'audi 100 ls' 'saab 99e'\n",
      " 'bmw 2002' 'amc gremlin' 'ford f250' 'chevy c20' 'dodge d200' 'hi 1200d'\n",
      " 'chevrolet vega 2300' 'toyota corona' 'ford pinto'\n",
      " 'plymouth satellite custom' 'ford torino 500' 'amc matador'\n",
      " 'pontiac catalina brougham' 'dodge monaco (sw)'\n",
      " 'ford country squire (sw)' 'pontiac safari (sw)'\n",
      " 'amc hornet sportabout (sw)' 'chevrolet vega (sw)' 'pontiac firebird'\n",
      " 'ford mustang' 'mercury capri 2000' 'opel 1900' 'peugeot 304' 'fiat 124b'\n",
      " 'toyota corolla 1200' 'datsun 1200' 'volkswagen model 111'\n",
      " 'plymouth cricket' 'toyota corona hardtop' 'dodge colt hardtop'\n",
      " 'volkswagen type 3' 'chevrolet vega' 'ford pinto runabout'\n",
      " 'amc ambassador sst' 'mercury marquis' 'buick lesabre custom'\n",
      " 'oldsmobile delta 88 royale' 'chrysler newport royal' 'mazda rx2 coupe'\n",
      " 'amc matador (sw)' 'chevrolet chevelle concours (sw)'\n",
      " 'ford gran torino (sw)' 'plymouth satellite custom (sw)'\n",
      " 'volvo 145e (sw)' 'volkswagen 411 (sw)' 'peugeot 504 (sw)'\n",
      " 'renault 12 (sw)' 'ford pinto (sw)' 'datsun 510 (sw)'\n",
      " 'toyouta corona mark ii (sw)' 'dodge colt (sw)'\n",
      " 'toyota corolla 1600 (sw)' 'buick century 350' 'chevrolet malibu'\n",
      " 'ford gran torino' 'dodge coronet custom' 'mercury marquis brougham'\n",
      " 'chevrolet caprice classic' 'ford ltd' 'plymouth fury gran sedan'\n",
      " 'chrysler new yorker brougham' 'buick electra 225 custom'\n",
      " 'amc ambassador brougham' 'plymouth valiant' 'chevrolet nova custom'\n",
      " 'volkswagen super beetle' 'ford country' 'plymouth custom suburb'\n",
      " 'oldsmobile vista cruiser' 'toyota carina' 'datsun 610' 'maxda rx3'\n",
      " 'mercury capri v6' 'fiat 124 sport coupe' 'chevrolet monte carlo s'\n",
      " 'pontiac grand prix' 'fiat 128' 'opel manta' 'audi 100ls' 'volvo 144ea'\n",
      " 'dodge dart custom' 'saab 99le' 'toyota mark ii' 'oldsmobile omega'\n",
      " 'chevrolet nova' 'datsun b210' 'chevrolet chevelle malibu classic'\n",
      " 'plymouth satellite sebring' 'buick century luxus (sw)'\n",
      " 'dodge coronet custom (sw)' 'audi fox' 'volkswagen dasher' 'datsun 710'\n",
      " 'dodge colt' 'fiat 124 tc' 'honda civic' 'subaru' 'fiat x1.9'\n",
      " 'plymouth valiant custom' 'mercury monarch' 'chevrolet bel air'\n",
      " 'plymouth grand fury' 'buick century' 'chevroelt chevelle malibu'\n",
      " 'plymouth fury' 'buick skyhawk' 'chevrolet monza 2+2' 'ford mustang ii'\n",
      " 'toyota corolla' 'pontiac astro' 'volkswagen rabbit' 'amc pacer'\n",
      " 'volvo 244dl' 'honda civic cvcc' 'fiat 131' 'capri ii' 'renault 12tl'\n",
      " 'dodge coronet brougham' 'chevrolet chevette' 'chevrolet woody'\n",
      " 'vw rabbit' 'dodge aspen se' 'ford granada ghia' 'pontiac ventura sj'\n",
      " 'amc pacer d/l' 'datsun b-210' 'volvo 245' 'plymouth volare premier v8'\n",
      " 'mercedes-benz 280s' 'cadillac seville' 'chevy c10' 'ford f108'\n",
      " 'dodge d100' 'honda accord cvcc' 'buick opel isuzu deluxe'\n",
      " 'renault 5 gtl' 'plymouth arrow gs' 'datsun f-10 hatchback'\n",
      " 'oldsmobile cutlass supreme' 'dodge monaco brougham'\n",
      " 'mercury cougar brougham' 'chevrolet concours' 'buick skylark'\n",
      " 'plymouth volare custom' 'ford granada' 'pontiac grand prix lj'\n",
      " 'chevrolet monte carlo landau' 'chrysler cordoba' 'ford thunderbird'\n",
      " 'volkswagen rabbit custom' 'pontiac sunbird coupe'\n",
      " 'toyota corolla liftback' 'ford mustang ii 2+2' 'dodge colt m/m'\n",
      " 'subaru dl' 'datsun 810' 'bmw 320i' 'mazda rx-4'\n",
      " 'volkswagen rabbit custom diesel' 'ford fiesta' 'mazda glc deluxe'\n",
      " 'datsun b210 gx' 'oldsmobile cutlass salon brougham' 'dodge diplomat'\n",
      " 'mercury monarch ghia' 'pontiac phoenix lj' 'ford fairmont (auto)'\n",
      " 'ford fairmont (man)' 'plymouth volare' 'amc concord'\n",
      " 'buick century special' 'mercury zephyr' 'dodge aspen' 'amc concord d/l'\n",
      " 'buick regal sport coupe (turbo)' 'ford futura' 'dodge magnum xe'\n",
      " 'datsun 510' 'dodge omni' 'toyota celica gt liftback' 'plymouth sapporo'\n",
      " 'oldsmobile starfire sx' 'datsun 200-sx' 'audi 5000' 'volvo 264gl'\n",
      " 'saab 99gle' 'peugeot 604sl' 'volkswagen scirocco' 'honda accord lx'\n",
      " 'pontiac lemans v6' 'mercury zephyr 6' 'ford fairmont 4'\n",
      " 'amc concord dl 6' 'dodge aspen 6' 'ford ltd landau'\n",
      " 'mercury grand marquis' 'dodge st. regis' 'chevrolet malibu classic (sw)'\n",
      " 'chrysler lebaron town @ country (sw)' 'vw rabbit custom'\n",
      " 'maxda glc deluxe' 'dodge colt hatchback custom' 'amc spirit dl'\n",
      " 'mercedes benz 300d' 'cadillac eldorado' 'plymouth horizon'\n",
      " 'plymouth horizon tc3' 'datsun 210' 'fiat strada custom'\n",
      " 'buick skylark limited' 'chevrolet citation' 'oldsmobile omega brougham'\n",
      " 'pontiac phoenix' 'toyota corolla tercel' 'datsun 310' 'ford fairmont'\n",
      " 'audi 4000' 'toyota corona liftback' 'mazda 626' 'datsun 510 hatchback'\n",
      " 'mazda glc' 'vw rabbit c (diesel)' 'vw dasher (diesel)'\n",
      " 'audi 5000s (diesel)' 'mercedes-benz 240d' 'honda civic 1500 gl'\n",
      " 'renault lecar deluxe' 'vokswagen rabbit' 'datsun 280-zx' 'mazda rx-7 gs'\n",
      " 'triumph tr7 coupe' 'ford mustang cobra' 'honda accord'\n",
      " 'plymouth reliant' 'dodge aries wagon (sw)' 'toyota starlet'\n",
      " 'plymouth champ' 'honda civic 1300' 'datsun 210 mpg' 'toyota tercel'\n",
      " 'mazda glc 4' 'plymouth horizon 4' 'ford escort 4w' 'ford escort 2h'\n",
      " 'volkswagen jetta' 'renault 18i' 'honda prelude' 'datsun 200sx'\n",
      " 'peugeot 505s turbo diesel' 'volvo diesel' 'toyota cressida'\n",
      " 'datsun 810 maxima' 'oldsmobile cutlass ls' 'ford granada gl'\n",
      " 'chrysler lebaron salon' 'chevrolet cavalier' 'chevrolet cavalier wagon'\n",
      " 'chevrolet cavalier 2-door' 'pontiac j2000 se hatchback' 'dodge aries se'\n",
      " 'ford fairmont futura' 'amc concord dl' 'volkswagen rabbit l'\n",
      " 'mazda glc custom l' 'mazda glc custom' 'plymouth horizon miser'\n",
      " 'mercury lynx l' 'nissan stanza xe' 'honda civic (auto)' 'datsun 310 gx'\n",
      " 'buick century limited' 'oldsmobile cutlass ciera (diesel)'\n",
      " 'chrysler lebaron medallion' 'ford granada l' 'toyota celica gt'\n",
      " 'dodge charger 2.2' 'chevrolet camaro' 'ford mustang gl' 'vw pickup'\n",
      " 'dodge rampage' 'ford ranger' 'chevy s-10']\n",
      "\n"
     ]
    }
   ],
   "source": [
    "for col in mpgDF.columns:\n",
    "    print(f\"컬럼명 : {col} \\n======> \\n{mpgDF[col].unique()}\")\n",
    "    print()"
   ]
  },
  {
   "cell_type": "markdown",
   "id": "96fff504-4fcb-4298-93b7-23e12ce4928d",
   "metadata": {},
   "source": [
    "- 수치 데이터의 통계값 확인 => describe()"
   ]
  },
  {
   "cell_type": "code",
   "execution_count": 676,
   "id": "2c1729ea-f0cd-4f7f-bb74-2744b344011a",
   "metadata": {},
   "outputs": [
    {
     "data": {
      "text/html": [
       "<div>\n",
       "<style scoped>\n",
       "    .dataframe tbody tr th:only-of-type {\n",
       "        vertical-align: middle;\n",
       "    }\n",
       "\n",
       "    .dataframe tbody tr th {\n",
       "        vertical-align: top;\n",
       "    }\n",
       "\n",
       "    .dataframe thead th {\n",
       "        text-align: right;\n",
       "    }\n",
       "</style>\n",
       "<table border=\"1\" class=\"dataframe\">\n",
       "  <thead>\n",
       "    <tr style=\"text-align: right;\">\n",
       "      <th></th>\n",
       "      <th>0</th>\n",
       "      <th>1</th>\n",
       "      <th>2</th>\n",
       "      <th>4</th>\n",
       "      <th>5</th>\n",
       "      <th>6</th>\n",
       "      <th>7</th>\n",
       "    </tr>\n",
       "  </thead>\n",
       "  <tbody>\n",
       "    <tr>\n",
       "      <th>count</th>\n",
       "      <td>398.000000</td>\n",
       "      <td>398.000000</td>\n",
       "      <td>398.000000</td>\n",
       "      <td>398.000000</td>\n",
       "      <td>398.000000</td>\n",
       "      <td>398.000000</td>\n",
       "      <td>398.000000</td>\n",
       "    </tr>\n",
       "    <tr>\n",
       "      <th>mean</th>\n",
       "      <td>23.514573</td>\n",
       "      <td>5.454774</td>\n",
       "      <td>193.425879</td>\n",
       "      <td>2970.424623</td>\n",
       "      <td>15.568090</td>\n",
       "      <td>76.010050</td>\n",
       "      <td>1.572864</td>\n",
       "    </tr>\n",
       "    <tr>\n",
       "      <th>std</th>\n",
       "      <td>7.815984</td>\n",
       "      <td>1.701004</td>\n",
       "      <td>104.269838</td>\n",
       "      <td>846.841774</td>\n",
       "      <td>2.757689</td>\n",
       "      <td>3.697627</td>\n",
       "      <td>0.802055</td>\n",
       "    </tr>\n",
       "    <tr>\n",
       "      <th>min</th>\n",
       "      <td>9.000000</td>\n",
       "      <td>3.000000</td>\n",
       "      <td>68.000000</td>\n",
       "      <td>1613.000000</td>\n",
       "      <td>8.000000</td>\n",
       "      <td>70.000000</td>\n",
       "      <td>1.000000</td>\n",
       "    </tr>\n",
       "    <tr>\n",
       "      <th>25%</th>\n",
       "      <td>17.500000</td>\n",
       "      <td>4.000000</td>\n",
       "      <td>104.250000</td>\n",
       "      <td>2223.750000</td>\n",
       "      <td>13.825000</td>\n",
       "      <td>73.000000</td>\n",
       "      <td>1.000000</td>\n",
       "    </tr>\n",
       "    <tr>\n",
       "      <th>50%</th>\n",
       "      <td>23.000000</td>\n",
       "      <td>4.000000</td>\n",
       "      <td>148.500000</td>\n",
       "      <td>2803.500000</td>\n",
       "      <td>15.500000</td>\n",
       "      <td>76.000000</td>\n",
       "      <td>1.000000</td>\n",
       "    </tr>\n",
       "    <tr>\n",
       "      <th>75%</th>\n",
       "      <td>29.000000</td>\n",
       "      <td>8.000000</td>\n",
       "      <td>262.000000</td>\n",
       "      <td>3608.000000</td>\n",
       "      <td>17.175000</td>\n",
       "      <td>79.000000</td>\n",
       "      <td>2.000000</td>\n",
       "    </tr>\n",
       "    <tr>\n",
       "      <th>max</th>\n",
       "      <td>46.600000</td>\n",
       "      <td>8.000000</td>\n",
       "      <td>455.000000</td>\n",
       "      <td>5140.000000</td>\n",
       "      <td>24.800000</td>\n",
       "      <td>82.000000</td>\n",
       "      <td>3.000000</td>\n",
       "    </tr>\n",
       "  </tbody>\n",
       "</table>\n",
       "</div>"
      ],
      "text/plain": [
       "                0           1           2            4           5  \\\n",
       "count  398.000000  398.000000  398.000000   398.000000  398.000000   \n",
       "mean    23.514573    5.454774  193.425879  2970.424623   15.568090   \n",
       "std      7.815984    1.701004  104.269838   846.841774    2.757689   \n",
       "min      9.000000    3.000000   68.000000  1613.000000    8.000000   \n",
       "25%     17.500000    4.000000  104.250000  2223.750000   13.825000   \n",
       "50%     23.000000    4.000000  148.500000  2803.500000   15.500000   \n",
       "75%     29.000000    8.000000  262.000000  3608.000000   17.175000   \n",
       "max     46.600000    8.000000  455.000000  5140.000000   24.800000   \n",
       "\n",
       "                6           7  \n",
       "count  398.000000  398.000000  \n",
       "mean    76.010050    1.572864  \n",
       "std      3.697627    0.802055  \n",
       "min     70.000000    1.000000  \n",
       "25%     73.000000    1.000000  \n",
       "50%     76.000000    1.000000  \n",
       "75%     79.000000    2.000000  \n",
       "max     82.000000    3.000000  "
      ]
     },
     "execution_count": 676,
     "metadata": {},
     "output_type": "execute_result"
    }
   ],
   "source": [
    "mpgDF.describe()"
   ]
  },
  {
   "cell_type": "markdown",
   "id": "d91b2edd-fb5f-4153-85f3-a39da86807c6",
   "metadata": {},
   "source": [
    "- 최빈값 계산 메서드 => mode()"
   ]
  },
  {
   "cell_type": "code",
   "execution_count": 677,
   "id": "2c7960fc-1a1a-4199-895e-c815aa2df6d9",
   "metadata": {},
   "outputs": [
    {
     "data": {
      "text/html": [
       "<div>\n",
       "<style scoped>\n",
       "    .dataframe tbody tr th:only-of-type {\n",
       "        vertical-align: middle;\n",
       "    }\n",
       "\n",
       "    .dataframe tbody tr th {\n",
       "        vertical-align: top;\n",
       "    }\n",
       "\n",
       "    .dataframe thead th {\n",
       "        text-align: right;\n",
       "    }\n",
       "</style>\n",
       "<table border=\"1\" class=\"dataframe\">\n",
       "  <thead>\n",
       "    <tr style=\"text-align: right;\">\n",
       "      <th></th>\n",
       "      <th>0</th>\n",
       "      <th>1</th>\n",
       "      <th>2</th>\n",
       "      <th>4</th>\n",
       "      <th>5</th>\n",
       "      <th>6</th>\n",
       "      <th>7</th>\n",
       "    </tr>\n",
       "  </thead>\n",
       "  <tbody>\n",
       "    <tr>\n",
       "      <th>0</th>\n",
       "      <td>13.0</td>\n",
       "      <td>4.0</td>\n",
       "      <td>97.0</td>\n",
       "      <td>1985.0</td>\n",
       "      <td>14.5</td>\n",
       "      <td>73.0</td>\n",
       "      <td>1.0</td>\n",
       "    </tr>\n",
       "    <tr>\n",
       "      <th>1</th>\n",
       "      <td>NaN</td>\n",
       "      <td>NaN</td>\n",
       "      <td>NaN</td>\n",
       "      <td>2130.0</td>\n",
       "      <td>NaN</td>\n",
       "      <td>NaN</td>\n",
       "      <td>NaN</td>\n",
       "    </tr>\n",
       "  </tbody>\n",
       "</table>\n",
       "</div>"
      ],
      "text/plain": [
       "      0    1     2       4     5     6    7\n",
       "0  13.0  4.0  97.0  1985.0  14.5  73.0  1.0\n",
       "1   NaN  NaN   NaN  2130.0   NaN   NaN  NaN"
      ]
     },
     "execution_count": 677,
     "metadata": {},
     "output_type": "execute_result"
    }
   ],
   "source": [
    "mpgDF.mode(numeric_only = True)\n",
    "\n",
    "# 4번 컬럼만 최빈값이 공동1위가 2개라서 ㅇㅇ"
   ]
  },
  {
   "cell_type": "markdown",
   "id": "caccdbcb-c9cf-4e06-8525-9ea740a735a5",
   "metadata": {},
   "source": [
    "- 중앙값 계산 메서드 => median()"
   ]
  },
  {
   "cell_type": "code",
   "execution_count": 678,
   "id": "fc7e8bed-55b6-4fc9-ad79-d47d43d78927",
   "metadata": {},
   "outputs": [
    {
     "data": {
      "text/plain": [
       "0      23.0\n",
       "1       4.0\n",
       "2     148.5\n",
       "4    2803.5\n",
       "5      15.5\n",
       "6      76.0\n",
       "7       1.0\n",
       "dtype: float64"
      ]
     },
     "execution_count": 678,
     "metadata": {},
     "output_type": "execute_result"
    }
   ],
   "source": [
    "mpgDF.median(numeric_only = True)"
   ]
  },
  {
   "cell_type": "code",
   "execution_count": 679,
   "id": "1d140f9d-5fbf-448c-a438-63b1910ca081",
   "metadata": {},
   "outputs": [
    {
     "data": {
      "text/plain": [
       "0      46.6\n",
       "1       8.0\n",
       "2     455.0\n",
       "4    5140.0\n",
       "5      24.8\n",
       "6      82.0\n",
       "7       3.0\n",
       "dtype: float64"
      ]
     },
     "execution_count": 679,
     "metadata": {},
     "output_type": "execute_result"
    }
   ],
   "source": [
    "mpgDF.max(numeric_only = True)"
   ]
  },
  {
   "cell_type": "code",
   "execution_count": 680,
   "id": "21973ce0-df08-411f-acb5-622ce51fa19e",
   "metadata": {},
   "outputs": [
    {
     "data": {
      "text/plain": [
       "0       9.0\n",
       "1       3.0\n",
       "2      68.0\n",
       "4    1613.0\n",
       "5       8.0\n",
       "6      70.0\n",
       "7       1.0\n",
       "dtype: float64"
      ]
     },
     "execution_count": 680,
     "metadata": {},
     "output_type": "execute_result"
    }
   ],
   "source": [
    "mpgDF.min(numeric_only = True)"
   ]
  },
  {
   "cell_type": "markdown",
   "id": "2c9f60ae-1dbb-487c-b157-80d893f1fa91",
   "metadata": {},
   "source": [
    "- 컬럼과 컬럼 사이의 관계를 수치화 해주는 메서드 => corr()"
   ]
  },
  {
   "cell_type": "code",
   "execution_count": 681,
   "id": "9de931ee-bb8d-4c98-af97-3b39f223ff45",
   "metadata": {},
   "outputs": [
    {
     "data": {
      "text/html": [
       "<div>\n",
       "<style scoped>\n",
       "    .dataframe tbody tr th:only-of-type {\n",
       "        vertical-align: middle;\n",
       "    }\n",
       "\n",
       "    .dataframe tbody tr th {\n",
       "        vertical-align: top;\n",
       "    }\n",
       "\n",
       "    .dataframe thead th {\n",
       "        text-align: right;\n",
       "    }\n",
       "</style>\n",
       "<table border=\"1\" class=\"dataframe\">\n",
       "  <thead>\n",
       "    <tr style=\"text-align: right;\">\n",
       "      <th></th>\n",
       "      <th>0</th>\n",
       "      <th>1</th>\n",
       "      <th>2</th>\n",
       "      <th>4</th>\n",
       "      <th>5</th>\n",
       "      <th>6</th>\n",
       "      <th>7</th>\n",
       "    </tr>\n",
       "  </thead>\n",
       "  <tbody>\n",
       "    <tr>\n",
       "      <th>0</th>\n",
       "      <td>1.000000</td>\n",
       "      <td>-0.775396</td>\n",
       "      <td>-0.804203</td>\n",
       "      <td>-0.831741</td>\n",
       "      <td>0.420289</td>\n",
       "      <td>0.579267</td>\n",
       "      <td>0.563450</td>\n",
       "    </tr>\n",
       "    <tr>\n",
       "      <th>1</th>\n",
       "      <td>-0.775396</td>\n",
       "      <td>1.000000</td>\n",
       "      <td>0.950721</td>\n",
       "      <td>0.896017</td>\n",
       "      <td>-0.505419</td>\n",
       "      <td>-0.348746</td>\n",
       "      <td>-0.562543</td>\n",
       "    </tr>\n",
       "    <tr>\n",
       "      <th>2</th>\n",
       "      <td>-0.804203</td>\n",
       "      <td>0.950721</td>\n",
       "      <td>1.000000</td>\n",
       "      <td>0.932824</td>\n",
       "      <td>-0.543684</td>\n",
       "      <td>-0.370164</td>\n",
       "      <td>-0.609409</td>\n",
       "    </tr>\n",
       "    <tr>\n",
       "      <th>4</th>\n",
       "      <td>-0.831741</td>\n",
       "      <td>0.896017</td>\n",
       "      <td>0.932824</td>\n",
       "      <td>1.000000</td>\n",
       "      <td>-0.417457</td>\n",
       "      <td>-0.306564</td>\n",
       "      <td>-0.581024</td>\n",
       "    </tr>\n",
       "    <tr>\n",
       "      <th>5</th>\n",
       "      <td>0.420289</td>\n",
       "      <td>-0.505419</td>\n",
       "      <td>-0.543684</td>\n",
       "      <td>-0.417457</td>\n",
       "      <td>1.000000</td>\n",
       "      <td>0.288137</td>\n",
       "      <td>0.205873</td>\n",
       "    </tr>\n",
       "    <tr>\n",
       "      <th>6</th>\n",
       "      <td>0.579267</td>\n",
       "      <td>-0.348746</td>\n",
       "      <td>-0.370164</td>\n",
       "      <td>-0.306564</td>\n",
       "      <td>0.288137</td>\n",
       "      <td>1.000000</td>\n",
       "      <td>0.180662</td>\n",
       "    </tr>\n",
       "    <tr>\n",
       "      <th>7</th>\n",
       "      <td>0.563450</td>\n",
       "      <td>-0.562543</td>\n",
       "      <td>-0.609409</td>\n",
       "      <td>-0.581024</td>\n",
       "      <td>0.205873</td>\n",
       "      <td>0.180662</td>\n",
       "      <td>1.000000</td>\n",
       "    </tr>\n",
       "  </tbody>\n",
       "</table>\n",
       "</div>"
      ],
      "text/plain": [
       "          0         1         2         4         5         6         7\n",
       "0  1.000000 -0.775396 -0.804203 -0.831741  0.420289  0.579267  0.563450\n",
       "1 -0.775396  1.000000  0.950721  0.896017 -0.505419 -0.348746 -0.562543\n",
       "2 -0.804203  0.950721  1.000000  0.932824 -0.543684 -0.370164 -0.609409\n",
       "4 -0.831741  0.896017  0.932824  1.000000 -0.417457 -0.306564 -0.581024\n",
       "5  0.420289 -0.505419 -0.543684 -0.417457  1.000000  0.288137  0.205873\n",
       "6  0.579267 -0.348746 -0.370164 -0.306564  0.288137  1.000000  0.180662\n",
       "7  0.563450 -0.562543 -0.609409 -0.581024  0.205873  0.180662  1.000000"
      ]
     },
     "execution_count": 681,
     "metadata": {},
     "output_type": "execute_result"
    }
   ],
   "source": [
    "mpgDF.corr(numeric_only = True)"
   ]
  },
  {
   "cell_type": "code",
   "execution_count": 682,
   "id": "a16fba5a-6074-40ee-b12c-c362196a27ee",
   "metadata": {},
   "outputs": [],
   "source": [
    "mpgDF.columns= ['mpg', 'cylinders', 'displacement', 'horsepower', 'weight', 'acceleration', 'model year', 'origin', 'car name']"
   ]
  },
  {
   "cell_type": "code",
   "execution_count": 683,
   "id": "55b9f2e1-0851-46db-aee5-b757d5e90a1f",
   "metadata": {},
   "outputs": [
    {
     "data": {
      "text/html": [
       "<div>\n",
       "<style scoped>\n",
       "    .dataframe tbody tr th:only-of-type {\n",
       "        vertical-align: middle;\n",
       "    }\n",
       "\n",
       "    .dataframe tbody tr th {\n",
       "        vertical-align: top;\n",
       "    }\n",
       "\n",
       "    .dataframe thead th {\n",
       "        text-align: right;\n",
       "    }\n",
       "</style>\n",
       "<table border=\"1\" class=\"dataframe\">\n",
       "  <thead>\n",
       "    <tr style=\"text-align: right;\">\n",
       "      <th></th>\n",
       "      <th>mpg</th>\n",
       "      <th>cylinders</th>\n",
       "      <th>displacement</th>\n",
       "      <th>weight</th>\n",
       "      <th>acceleration</th>\n",
       "      <th>model year</th>\n",
       "      <th>origin</th>\n",
       "    </tr>\n",
       "  </thead>\n",
       "  <tbody>\n",
       "    <tr>\n",
       "      <th>mpg</th>\n",
       "      <td>1.000000</td>\n",
       "      <td>-0.775396</td>\n",
       "      <td>-0.804203</td>\n",
       "      <td>-0.831741</td>\n",
       "      <td>0.420289</td>\n",
       "      <td>0.579267</td>\n",
       "      <td>0.563450</td>\n",
       "    </tr>\n",
       "    <tr>\n",
       "      <th>cylinders</th>\n",
       "      <td>-0.775396</td>\n",
       "      <td>1.000000</td>\n",
       "      <td>0.950721</td>\n",
       "      <td>0.896017</td>\n",
       "      <td>-0.505419</td>\n",
       "      <td>-0.348746</td>\n",
       "      <td>-0.562543</td>\n",
       "    </tr>\n",
       "    <tr>\n",
       "      <th>displacement</th>\n",
       "      <td>-0.804203</td>\n",
       "      <td>0.950721</td>\n",
       "      <td>1.000000</td>\n",
       "      <td>0.932824</td>\n",
       "      <td>-0.543684</td>\n",
       "      <td>-0.370164</td>\n",
       "      <td>-0.609409</td>\n",
       "    </tr>\n",
       "    <tr>\n",
       "      <th>weight</th>\n",
       "      <td>-0.831741</td>\n",
       "      <td>0.896017</td>\n",
       "      <td>0.932824</td>\n",
       "      <td>1.000000</td>\n",
       "      <td>-0.417457</td>\n",
       "      <td>-0.306564</td>\n",
       "      <td>-0.581024</td>\n",
       "    </tr>\n",
       "    <tr>\n",
       "      <th>acceleration</th>\n",
       "      <td>0.420289</td>\n",
       "      <td>-0.505419</td>\n",
       "      <td>-0.543684</td>\n",
       "      <td>-0.417457</td>\n",
       "      <td>1.000000</td>\n",
       "      <td>0.288137</td>\n",
       "      <td>0.205873</td>\n",
       "    </tr>\n",
       "    <tr>\n",
       "      <th>model year</th>\n",
       "      <td>0.579267</td>\n",
       "      <td>-0.348746</td>\n",
       "      <td>-0.370164</td>\n",
       "      <td>-0.306564</td>\n",
       "      <td>0.288137</td>\n",
       "      <td>1.000000</td>\n",
       "      <td>0.180662</td>\n",
       "    </tr>\n",
       "    <tr>\n",
       "      <th>origin</th>\n",
       "      <td>0.563450</td>\n",
       "      <td>-0.562543</td>\n",
       "      <td>-0.609409</td>\n",
       "      <td>-0.581024</td>\n",
       "      <td>0.205873</td>\n",
       "      <td>0.180662</td>\n",
       "      <td>1.000000</td>\n",
       "    </tr>\n",
       "  </tbody>\n",
       "</table>\n",
       "</div>"
      ],
      "text/plain": [
       "                   mpg  cylinders  displacement    weight  acceleration  \\\n",
       "mpg           1.000000  -0.775396     -0.804203 -0.831741      0.420289   \n",
       "cylinders    -0.775396   1.000000      0.950721  0.896017     -0.505419   \n",
       "displacement -0.804203   0.950721      1.000000  0.932824     -0.543684   \n",
       "weight       -0.831741   0.896017      0.932824  1.000000     -0.417457   \n",
       "acceleration  0.420289  -0.505419     -0.543684 -0.417457      1.000000   \n",
       "model year    0.579267  -0.348746     -0.370164 -0.306564      0.288137   \n",
       "origin        0.563450  -0.562543     -0.609409 -0.581024      0.205873   \n",
       "\n",
       "              model year    origin  \n",
       "mpg             0.579267  0.563450  \n",
       "cylinders      -0.348746 -0.562543  \n",
       "displacement   -0.370164 -0.609409  \n",
       "weight         -0.306564 -0.581024  \n",
       "acceleration    0.288137  0.205873  \n",
       "model year      1.000000  0.180662  \n",
       "origin          0.180662  1.000000  "
      ]
     },
     "execution_count": 683,
     "metadata": {},
     "output_type": "execute_result"
    }
   ],
   "source": [
    "mpgDF.corr(numeric_only = True)"
   ]
  },
  {
   "cell_type": "markdown",
   "id": "174dd1d2-6047-4ff8-a490-290a5267b6cd",
   "metadata": {},
   "source": [
    "- 데이터 타입과 실제 데이터가 다른 컬럼 ==> 타입 캐스팅"
   ]
  },
  {
   "cell_type": "code",
   "execution_count": 684,
   "id": "6dc38137-ed7f-4c2f-beb3-baf0a501e55f",
   "metadata": {},
   "outputs": [],
   "source": [
    "# '?'를 어떻게 할건지??\n",
    "#mpgDF.horsepower.astype('float64')"
   ]
  },
  {
   "cell_type": "code",
   "execution_count": 685,
   "id": "dd0b7d8b-1a69-4fa5-ba6d-3f19d7be5b87",
   "metadata": {},
   "outputs": [
    {
     "data": {
      "text/plain": [
       "6"
      ]
     },
     "execution_count": 685,
     "metadata": {},
     "output_type": "execute_result"
    }
   ],
   "source": [
    "(mpgDF.horsepower.value_counts())['?']"
   ]
  },
  {
   "cell_type": "code",
   "execution_count": 686,
   "id": "24ecd4b9-1e6d-457e-8c46-137e84d61513",
   "metadata": {},
   "outputs": [],
   "source": [
    "horseSR = mpgDF.horsepower.copy()                     #컬럼하나를 뽑아서 시리즈가 변수명에 저장됨"
   ]
  },
  {
   "cell_type": "code",
   "execution_count": 687,
   "id": "fca50392-42ed-4300-a832-edfce945c5e4",
   "metadata": {
    "scrolled": true
   },
   "outputs": [],
   "source": [
    "for idx, horse in enumerate(horseSR):\n",
    "    if horse == '?':\n",
    "        horseSR[idx] = '0.0'                          #물음표로 된 데이터를 object 형식의 데이터로 변경"
   ]
  },
  {
   "cell_type": "code",
   "execution_count": 688,
   "id": "a302b42e-1b95-4e00-9cc8-decce74e7096",
   "metadata": {},
   "outputs": [],
   "source": [
    "#horseSR.value_counts()['?']                          #이미 다 바꼈기 때문에 keyERROR 뜸"
   ]
  },
  {
   "cell_type": "code",
   "execution_count": 689,
   "id": "a6490d28-f548-4daf-af0e-578297535154",
   "metadata": {},
   "outputs": [],
   "source": [
    "mpgDF.horsepower = horseSR.astype('float64')          #object를 float으로 형변환 후 데이터프레임에 적용시킴"
   ]
  },
  {
   "cell_type": "code",
   "execution_count": 690,
   "id": "77735a76-3746-4ce1-8c15-b9cb607e2d3f",
   "metadata": {},
   "outputs": [
    {
     "name": "stdout",
     "output_type": "stream",
     "text": [
      "<class 'pandas.core.frame.DataFrame'>\n",
      "RangeIndex: 398 entries, 0 to 397\n",
      "Data columns (total 9 columns):\n",
      " #   Column        Non-Null Count  Dtype  \n",
      "---  ------        --------------  -----  \n",
      " 0   mpg           398 non-null    float64\n",
      " 1   cylinders     398 non-null    int64  \n",
      " 2   displacement  398 non-null    float64\n",
      " 3   horsepower    398 non-null    float64\n",
      " 4   weight        398 non-null    float64\n",
      " 5   acceleration  398 non-null    float64\n",
      " 6   model year    398 non-null    int64  \n",
      " 7   origin        398 non-null    int64  \n",
      " 8   car name      398 non-null    object \n",
      "dtypes: float64(5), int64(3), object(1)\n",
      "memory usage: 28.1+ KB\n"
     ]
    }
   ],
   "source": [
    "mpgDF.info()                                          #horsepower가 object -> float으로 바뀐걸 알수있다"
   ]
  },
  {
   "cell_type": "markdown",
   "id": "59164690-f237-4345-af6b-5c2cf263b4e2",
   "metadata": {},
   "source": [
    "- 모든 컬럼과 mpg 연비의 관계 비교"
   ]
  },
  {
   "cell_type": "code",
   "execution_count": 691,
   "id": "7f2ac915-ece5-4ac7-885d-350e5f74e775",
   "metadata": {},
   "outputs": [
    {
     "data": {
      "text/plain": [
       "mpg             1.000000\n",
       "cylinders      -0.775396\n",
       "displacement   -0.804203\n",
       "horsepower     -0.754276\n",
       "weight         -0.831741\n",
       "acceleration    0.420289\n",
       "model year      0.579267\n",
       "origin          0.563450\n",
       "Name: mpg, dtype: float64"
      ]
     },
     "execution_count": 691,
     "metadata": {},
     "output_type": "execute_result"
    }
   ],
   "source": [
    "mpgDF.corr(numeric_only=True).mpg                      #mpg라는 열을 뽑음"
   ]
  },
  {
   "cell_type": "code",
   "execution_count": 692,
   "id": "a31716a1-1e76-4bce-9119-43ba6c32a1b5",
   "metadata": {},
   "outputs": [
    {
     "data": {
      "text/plain": [
       "weight         -0.831741\n",
       "displacement   -0.804203\n",
       "cylinders      -0.775396\n",
       "horsepower     -0.754276\n",
       "acceleration    0.420289\n",
       "origin          0.563450\n",
       "model year      0.579267\n",
       "mpg             1.000000\n",
       "Name: mpg, dtype: float64"
      ]
     },
     "execution_count": 692,
     "metadata": {},
     "output_type": "execute_result"
    }
   ],
   "source": [
    "mpgDF.corr(numeric_only=True).mpg.sort_values()         #정렬시킴"
   ]
  },
  {
   "cell_type": "code",
   "execution_count": 693,
   "id": "f7d3273d-cb29-4a67-88c0-191de4b64131",
   "metadata": {},
   "outputs": [
    {
     "data": {
      "text/html": [
       "<div>\n",
       "<style scoped>\n",
       "    .dataframe tbody tr th:only-of-type {\n",
       "        vertical-align: middle;\n",
       "    }\n",
       "\n",
       "    .dataframe tbody tr th {\n",
       "        vertical-align: top;\n",
       "    }\n",
       "\n",
       "    .dataframe thead th {\n",
       "        text-align: right;\n",
       "    }\n",
       "</style>\n",
       "<table border=\"1\" class=\"dataframe\">\n",
       "  <thead>\n",
       "    <tr style=\"text-align: right;\">\n",
       "      <th></th>\n",
       "      <th>mpg</th>\n",
       "      <th>cylinders</th>\n",
       "      <th>displacement</th>\n",
       "      <th>horsepower</th>\n",
       "      <th>weight</th>\n",
       "      <th>acceleration</th>\n",
       "      <th>model year</th>\n",
       "      <th>origin</th>\n",
       "      <th>car name</th>\n",
       "    </tr>\n",
       "  </thead>\n",
       "  <tbody>\n",
       "    <tr>\n",
       "      <th>0</th>\n",
       "      <td>18.0</td>\n",
       "      <td>8</td>\n",
       "      <td>307.0</td>\n",
       "      <td>130.0</td>\n",
       "      <td>3504.0</td>\n",
       "      <td>12.0</td>\n",
       "      <td>70</td>\n",
       "      <td>1</td>\n",
       "      <td>chevrolet chevelle malibu</td>\n",
       "    </tr>\n",
       "    <tr>\n",
       "      <th>1</th>\n",
       "      <td>15.0</td>\n",
       "      <td>8</td>\n",
       "      <td>350.0</td>\n",
       "      <td>165.0</td>\n",
       "      <td>3693.0</td>\n",
       "      <td>11.5</td>\n",
       "      <td>70</td>\n",
       "      <td>1</td>\n",
       "      <td>buick skylark 320</td>\n",
       "    </tr>\n",
       "    <tr>\n",
       "      <th>2</th>\n",
       "      <td>18.0</td>\n",
       "      <td>8</td>\n",
       "      <td>318.0</td>\n",
       "      <td>150.0</td>\n",
       "      <td>3436.0</td>\n",
       "      <td>11.0</td>\n",
       "      <td>70</td>\n",
       "      <td>1</td>\n",
       "      <td>plymouth satellite</td>\n",
       "    </tr>\n",
       "    <tr>\n",
       "      <th>3</th>\n",
       "      <td>16.0</td>\n",
       "      <td>8</td>\n",
       "      <td>304.0</td>\n",
       "      <td>150.0</td>\n",
       "      <td>3433.0</td>\n",
       "      <td>12.0</td>\n",
       "      <td>70</td>\n",
       "      <td>1</td>\n",
       "      <td>amc rebel sst</td>\n",
       "    </tr>\n",
       "    <tr>\n",
       "      <th>4</th>\n",
       "      <td>17.0</td>\n",
       "      <td>8</td>\n",
       "      <td>302.0</td>\n",
       "      <td>140.0</td>\n",
       "      <td>3449.0</td>\n",
       "      <td>10.5</td>\n",
       "      <td>70</td>\n",
       "      <td>1</td>\n",
       "      <td>ford torino</td>\n",
       "    </tr>\n",
       "    <tr>\n",
       "      <th>...</th>\n",
       "      <td>...</td>\n",
       "      <td>...</td>\n",
       "      <td>...</td>\n",
       "      <td>...</td>\n",
       "      <td>...</td>\n",
       "      <td>...</td>\n",
       "      <td>...</td>\n",
       "      <td>...</td>\n",
       "      <td>...</td>\n",
       "    </tr>\n",
       "    <tr>\n",
       "      <th>393</th>\n",
       "      <td>27.0</td>\n",
       "      <td>4</td>\n",
       "      <td>140.0</td>\n",
       "      <td>86.0</td>\n",
       "      <td>2790.0</td>\n",
       "      <td>15.6</td>\n",
       "      <td>82</td>\n",
       "      <td>1</td>\n",
       "      <td>ford mustang gl</td>\n",
       "    </tr>\n",
       "    <tr>\n",
       "      <th>394</th>\n",
       "      <td>44.0</td>\n",
       "      <td>4</td>\n",
       "      <td>97.0</td>\n",
       "      <td>52.0</td>\n",
       "      <td>2130.0</td>\n",
       "      <td>24.6</td>\n",
       "      <td>82</td>\n",
       "      <td>2</td>\n",
       "      <td>vw pickup</td>\n",
       "    </tr>\n",
       "    <tr>\n",
       "      <th>395</th>\n",
       "      <td>32.0</td>\n",
       "      <td>4</td>\n",
       "      <td>135.0</td>\n",
       "      <td>84.0</td>\n",
       "      <td>2295.0</td>\n",
       "      <td>11.6</td>\n",
       "      <td>82</td>\n",
       "      <td>1</td>\n",
       "      <td>dodge rampage</td>\n",
       "    </tr>\n",
       "    <tr>\n",
       "      <th>396</th>\n",
       "      <td>28.0</td>\n",
       "      <td>4</td>\n",
       "      <td>120.0</td>\n",
       "      <td>79.0</td>\n",
       "      <td>2625.0</td>\n",
       "      <td>18.6</td>\n",
       "      <td>82</td>\n",
       "      <td>1</td>\n",
       "      <td>ford ranger</td>\n",
       "    </tr>\n",
       "    <tr>\n",
       "      <th>397</th>\n",
       "      <td>31.0</td>\n",
       "      <td>4</td>\n",
       "      <td>119.0</td>\n",
       "      <td>82.0</td>\n",
       "      <td>2720.0</td>\n",
       "      <td>19.4</td>\n",
       "      <td>82</td>\n",
       "      <td>1</td>\n",
       "      <td>chevy s-10</td>\n",
       "    </tr>\n",
       "  </tbody>\n",
       "</table>\n",
       "<p>398 rows × 9 columns</p>\n",
       "</div>"
      ],
      "text/plain": [
       "      mpg  cylinders  displacement  horsepower  weight  acceleration  \\\n",
       "0    18.0          8         307.0       130.0  3504.0          12.0   \n",
       "1    15.0          8         350.0       165.0  3693.0          11.5   \n",
       "2    18.0          8         318.0       150.0  3436.0          11.0   \n",
       "3    16.0          8         304.0       150.0  3433.0          12.0   \n",
       "4    17.0          8         302.0       140.0  3449.0          10.5   \n",
       "..    ...        ...           ...         ...     ...           ...   \n",
       "393  27.0          4         140.0        86.0  2790.0          15.6   \n",
       "394  44.0          4          97.0        52.0  2130.0          24.6   \n",
       "395  32.0          4         135.0        84.0  2295.0          11.6   \n",
       "396  28.0          4         120.0        79.0  2625.0          18.6   \n",
       "397  31.0          4         119.0        82.0  2720.0          19.4   \n",
       "\n",
       "     model year  origin                   car name  \n",
       "0            70       1  chevrolet chevelle malibu  \n",
       "1            70       1          buick skylark 320  \n",
       "2            70       1         plymouth satellite  \n",
       "3            70       1              amc rebel sst  \n",
       "4            70       1                ford torino  \n",
       "..          ...     ...                        ...  \n",
       "393          82       1            ford mustang gl  \n",
       "394          82       2                  vw pickup  \n",
       "395          82       1              dodge rampage  \n",
       "396          82       1                ford ranger  \n",
       "397          82       1                 chevy s-10  \n",
       "\n",
       "[398 rows x 9 columns]"
      ]
     },
     "execution_count": 693,
     "metadata": {},
     "output_type": "execute_result"
    }
   ],
   "source": [
    "mpgDF"
   ]
  },
  {
   "cell_type": "markdown",
   "id": "13640a54-9c61-4374-8d67-6811029cd8f4",
   "metadata": {},
   "source": [
    "- origin 컬럼의 타입을 int64 => category로 변환"
   ]
  },
  {
   "cell_type": "code",
   "execution_count": 694,
   "id": "40f1c455-ca7d-4c75-8bee-f9a5845e22d7",
   "metadata": {},
   "outputs": [],
   "source": [
    "mpgDF.origin = mpgDF.origin.astype('category')"
   ]
  },
  {
   "cell_type": "code",
   "execution_count": 695,
   "id": "cff55de4-a228-45c5-abbe-62836ec21c86",
   "metadata": {},
   "outputs": [
    {
     "name": "stdout",
     "output_type": "stream",
     "text": [
      "<class 'pandas.core.frame.DataFrame'>\n",
      "RangeIndex: 398 entries, 0 to 397\n",
      "Data columns (total 9 columns):\n",
      " #   Column        Non-Null Count  Dtype   \n",
      "---  ------        --------------  -----   \n",
      " 0   mpg           398 non-null    float64 \n",
      " 1   cylinders     398 non-null    int64   \n",
      " 2   displacement  398 non-null    float64 \n",
      " 3   horsepower    398 non-null    float64 \n",
      " 4   weight        398 non-null    float64 \n",
      " 5   acceleration  398 non-null    float64 \n",
      " 6   model year    398 non-null    int64   \n",
      " 7   origin        398 non-null    category\n",
      " 8   car name      398 non-null    object  \n",
      "dtypes: category(1), float64(5), int64(2), object(1)\n",
      "memory usage: 25.5+ KB\n"
     ]
    }
   ],
   "source": [
    "mpgDF.info()"
   ]
  },
  {
   "cell_type": "markdown",
   "id": "4edd4bcf-f63c-4fe4-8e0b-ca1d0a49eeb1",
   "metadata": {},
   "source": [
    "## [ 데이터 원소값 변경 / 타입 변경 한꺼번에 진행 ]"
   ]
  },
  {
   "cell_type": "code",
   "execution_count": 696,
   "id": "37b5d10d-b64d-4c94-a389-dc53171e2d98",
   "metadata": {},
   "outputs": [],
   "source": [
    "# 데이터 읽어와서 바로 컬럼명 지정\n",
    "mpgDF2 = pd.read_csv(file,\n",
    "                     header = None,\n",
    "                     sep ='\\s+',\n",
    "                     names = ['mpg', 'cylinders', 'displacement', 'horsepower', 'weight', 'acceleration', 'model year', 'origin', 'car name'])"
   ]
  },
  {
   "cell_type": "code",
   "execution_count": 697,
   "id": "debabc3b-60e1-433c-b3d0-cd12f63b99c3",
   "metadata": {},
   "outputs": [
    {
     "name": "stdout",
     "output_type": "stream",
     "text": [
      "<class 'pandas.core.frame.DataFrame'>\n",
      "RangeIndex: 398 entries, 0 to 397\n",
      "Data columns (total 9 columns):\n",
      " #   Column        Non-Null Count  Dtype  \n",
      "---  ------        --------------  -----  \n",
      " 0   mpg           398 non-null    float64\n",
      " 1   cylinders     398 non-null    int64  \n",
      " 2   displacement  398 non-null    float64\n",
      " 3   horsepower    398 non-null    object \n",
      " 4   weight        398 non-null    float64\n",
      " 5   acceleration  398 non-null    float64\n",
      " 6   model year    398 non-null    int64  \n",
      " 7   origin        398 non-null    int64  \n",
      " 8   car name      398 non-null    object \n",
      "dtypes: float64(4), int64(3), object(2)\n",
      "memory usage: 28.1+ KB\n"
     ]
    }
   ],
   "source": [
    "# 데이터 정보 확인\n",
    "mpgDF2.info()"
   ]
  },
  {
   "cell_type": "code",
   "execution_count": 698,
   "id": "5ac495d7-6727-4bf3-81c5-70aaa95e7bc9",
   "metadata": {},
   "outputs": [],
   "source": [
    "# 원소값 '?' 변경해주는 메서드 => replace(old, new, inplace)\n",
    "mpgDF2.horsepower.replace('?', '0.0', inplace = True)\n",
    "#inplace를 True로 설정하여 원본이 바뀐다."
   ]
  },
  {
   "cell_type": "code",
   "execution_count": 699,
   "id": "d311c26a-f155-4bb0-8e04-4b97316b495a",
   "metadata": {},
   "outputs": [],
   "source": [
    "# origin 컬럼의 1 - USA, 2 - EU, 3 - JPN\n",
    "mpgDF2.origin.replace({1: 'USA', 2:'EU', 3:'JPN'}, inplace = True)"
   ]
  },
  {
   "cell_type": "code",
   "execution_count": 700,
   "id": "95c33371-ff6b-4c25-99ab-adaf8ac269ae",
   "metadata": {},
   "outputs": [
    {
     "data": {
      "text/plain": [
       "origin\n",
       "USA    249\n",
       "JPN     79\n",
       "EU      70\n",
       "Name: count, dtype: int64"
      ]
     },
     "execution_count": 700,
     "metadata": {},
     "output_type": "execute_result"
    }
   ],
   "source": [
    "# origin 컬럼의 값의 종류별 갯수 확인 => value_counts() / unique()\n",
    "mpgDF2.origin.value_counts()"
   ]
  },
  {
   "cell_type": "code",
   "execution_count": 701,
   "id": "f785bd89-52ef-4bd9-8a51-c91aa569daae",
   "metadata": {},
   "outputs": [
    {
     "name": "stdout",
     "output_type": "stream",
     "text": [
      "['USA' 'JPN' 'EU'] 3\n"
     ]
    }
   ],
   "source": [
    "# 고유값 즉 값의 종류와 갯수\n",
    "print(mpgDF2.origin.unique(), mpgDF2.origin.nunique())"
   ]
  },
  {
   "cell_type": "markdown",
   "id": "460930ba-d0d1-4da3-96cc-d9d3a18faf44",
   "metadata": {},
   "source": [
    "- horsepower 컬럼과 origin 컬럼의 데이터타입 변경"
   ]
  },
  {
   "cell_type": "code",
   "execution_count": 702,
   "id": "892d624d-11d2-4dd4-bc83-274648df06f6",
   "metadata": {},
   "outputs": [],
   "source": [
    "mpgDF2['horsepower'] = mpgDF2['horsepower'].astype('float64')\n",
    "mpgDF2['origin'] = mpgDF2['origin'].astype('category')"
   ]
  },
  {
   "cell_type": "code",
   "execution_count": 703,
   "id": "4c2cc84d-7d40-42d5-b252-ccf3748b7e79",
   "metadata": {},
   "outputs": [
    {
     "name": "stdout",
     "output_type": "stream",
     "text": [
      "<class 'pandas.core.frame.DataFrame'>\n",
      "RangeIndex: 398 entries, 0 to 397\n",
      "Data columns (total 9 columns):\n",
      " #   Column        Non-Null Count  Dtype   \n",
      "---  ------        --------------  -----   \n",
      " 0   mpg           398 non-null    float64 \n",
      " 1   cylinders     398 non-null    int64   \n",
      " 2   displacement  398 non-null    float64 \n",
      " 3   horsepower    398 non-null    float64 \n",
      " 4   weight        398 non-null    float64 \n",
      " 5   acceleration  398 non-null    float64 \n",
      " 6   model year    398 non-null    int64   \n",
      " 7   origin        398 non-null    category\n",
      " 8   car name      398 non-null    object  \n",
      "dtypes: category(1), float64(5), int64(2), object(1)\n",
      "memory usage: 25.5+ KB\n"
     ]
    }
   ],
   "source": [
    "mpgDF2.info()"
   ]
  },
  {
   "cell_type": "markdown",
   "id": "bce281d3-ada3-455f-b19a-654c57d90822",
   "metadata": {},
   "source": [
    "## [ Datatype 변환 또 다른 방법 ]"
   ]
  },
  {
   "cell_type": "code",
   "execution_count": 704,
   "id": "7086ef1e-1df6-4cd3-bf41-4bbbe2c894e5",
   "metadata": {},
   "outputs": [],
   "source": [
    "file2 = '../DATA/employees.csv'"
   ]
  },
  {
   "cell_type": "code",
   "execution_count": 705,
   "id": "6b39153e-faa3-47b8-b83f-4cc6bfa0ff40",
   "metadata": {},
   "outputs": [
    {
     "name": "stdout",
     "output_type": "stream",
     "text": [
      "<class 'pandas.core.frame.DataFrame'>\n",
      "RangeIndex: 1001 entries, 0 to 1000\n",
      "Data columns (total 6 columns):\n",
      " #   Column      Non-Null Count  Dtype         \n",
      "---  ------      --------------  -----         \n",
      " 0   First Name  933 non-null    object        \n",
      " 1   Gender      854 non-null    object        \n",
      " 2   Start Date  999 non-null    datetime64[ns]\n",
      " 3   Salary      999 non-null    float64       \n",
      " 4   Mgmt        933 non-null    object        \n",
      " 5   Team        957 non-null    object        \n",
      "dtypes: datetime64[ns](1), float64(1), object(4)\n",
      "memory usage: 47.0+ KB\n"
     ]
    },
    {
     "name": "stderr",
     "output_type": "stream",
     "text": [
      "C:\\Users\\kdp\\AppData\\Local\\Temp\\ipykernel_10496\\4109954664.py:1: UserWarning: Could not infer format, so each element will be parsed individually, falling back to `dateutil`. To ensure parsing is consistent and as-expected, please specify a format.\n",
      "  empDF = pd.read_csv(file2, parse_dates = [\"Start Date\"])\n"
     ]
    }
   ],
   "source": [
    "empDF = pd.read_csv(file2, parse_dates = [\"Start Date\"])\n",
    "empDF.info()"
   ]
  },
  {
   "cell_type": "markdown",
   "id": "d67a8888-a7b7-4629-8760-d60eb1853569",
   "metadata": {},
   "source": [
    "- 데이터와 타입이 다른 경우 형변환 처리 => astype()    \n",
    "    (1) 해당 컬럼에 빈칸 또는 이상한 값 존재 여부 체크  =>  처리   \n",
    "    (2) 형변환"
   ]
  },
  {
   "cell_type": "code",
   "execution_count": 706,
   "id": "3d9dd19b-0f93-4b50-9e4d-64ca7ea32527",
   "metadata": {},
   "outputs": [
    {
     "data": {
      "text/plain": [
       "0        True\n",
       "1        True\n",
       "2       False\n",
       "3        True\n",
       "4        True\n",
       "        ...  \n",
       "996     False\n",
       "997     False\n",
       "998     False\n",
       "999      True\n",
       "1000     True\n",
       "Name: Mgmt, Length: 1001, dtype: bool"
      ]
     },
     "execution_count": 706,
     "metadata": {},
     "output_type": "execute_result"
    }
   ],
   "source": [
    "empDF.Mgmt = empDF.Mgmt.astype('bool')\n",
    "empDF.Mgmt"
   ]
  },
  {
   "cell_type": "code",
   "execution_count": 707,
   "id": "ac19b0d3-6911-448f-8075-bd81f8c675f0",
   "metadata": {},
   "outputs": [],
   "source": [
    "#empDF.Salary = empDF.Salary.astype('int64')  #결측값 때문에 형변환시 Error 발생"
   ]
  },
  {
   "cell_type": "markdown",
   "id": "beca0af4-ed11-4882-b190-b42bfb9b54d4",
   "metadata": {},
   "source": [
    "## [ 결측치 Missing Value 처리 ]\n",
    "    - 결측치 체크  ==> isna(), isnull()\n",
    "    - 결측치 처리  ==> 삭제 dropna(), 대체 fillna()"
   ]
  },
  {
   "cell_type": "code",
   "execution_count": 708,
   "id": "1af30c1e-c08c-49a3-8606-027b12a50790",
   "metadata": {},
   "outputs": [
    {
     "data": {
      "text/html": [
       "<div>\n",
       "<style scoped>\n",
       "    .dataframe tbody tr th:only-of-type {\n",
       "        vertical-align: middle;\n",
       "    }\n",
       "\n",
       "    .dataframe tbody tr th {\n",
       "        vertical-align: top;\n",
       "    }\n",
       "\n",
       "    .dataframe thead th {\n",
       "        text-align: right;\n",
       "    }\n",
       "</style>\n",
       "<table border=\"1\" class=\"dataframe\">\n",
       "  <thead>\n",
       "    <tr style=\"text-align: right;\">\n",
       "      <th></th>\n",
       "      <th>First Name</th>\n",
       "      <th>Gender</th>\n",
       "      <th>Start Date</th>\n",
       "      <th>Salary</th>\n",
       "      <th>Mgmt</th>\n",
       "      <th>Team</th>\n",
       "    </tr>\n",
       "  </thead>\n",
       "  <tbody>\n",
       "    <tr>\n",
       "      <th>0</th>\n",
       "      <td>False</td>\n",
       "      <td>False</td>\n",
       "      <td>False</td>\n",
       "      <td>True</td>\n",
       "      <td>False</td>\n",
       "      <td>False</td>\n",
       "    </tr>\n",
       "    <tr>\n",
       "      <th>1</th>\n",
       "      <td>False</td>\n",
       "      <td>False</td>\n",
       "      <td>False</td>\n",
       "      <td>False</td>\n",
       "      <td>False</td>\n",
       "      <td>True</td>\n",
       "    </tr>\n",
       "    <tr>\n",
       "      <th>2</th>\n",
       "      <td>False</td>\n",
       "      <td>False</td>\n",
       "      <td>True</td>\n",
       "      <td>False</td>\n",
       "      <td>False</td>\n",
       "      <td>False</td>\n",
       "    </tr>\n",
       "    <tr>\n",
       "      <th>3</th>\n",
       "      <td>False</td>\n",
       "      <td>True</td>\n",
       "      <td>False</td>\n",
       "      <td>False</td>\n",
       "      <td>False</td>\n",
       "      <td>False</td>\n",
       "    </tr>\n",
       "    <tr>\n",
       "      <th>4</th>\n",
       "      <td>False</td>\n",
       "      <td>False</td>\n",
       "      <td>False</td>\n",
       "      <td>False</td>\n",
       "      <td>False</td>\n",
       "      <td>False</td>\n",
       "    </tr>\n",
       "    <tr>\n",
       "      <th>...</th>\n",
       "      <td>...</td>\n",
       "      <td>...</td>\n",
       "      <td>...</td>\n",
       "      <td>...</td>\n",
       "      <td>...</td>\n",
       "      <td>...</td>\n",
       "    </tr>\n",
       "    <tr>\n",
       "      <th>996</th>\n",
       "      <td>False</td>\n",
       "      <td>False</td>\n",
       "      <td>False</td>\n",
       "      <td>False</td>\n",
       "      <td>False</td>\n",
       "      <td>False</td>\n",
       "    </tr>\n",
       "    <tr>\n",
       "      <th>997</th>\n",
       "      <td>False</td>\n",
       "      <td>False</td>\n",
       "      <td>False</td>\n",
       "      <td>False</td>\n",
       "      <td>False</td>\n",
       "      <td>False</td>\n",
       "    </tr>\n",
       "    <tr>\n",
       "      <th>998</th>\n",
       "      <td>False</td>\n",
       "      <td>False</td>\n",
       "      <td>False</td>\n",
       "      <td>False</td>\n",
       "      <td>False</td>\n",
       "      <td>False</td>\n",
       "    </tr>\n",
       "    <tr>\n",
       "      <th>999</th>\n",
       "      <td>False</td>\n",
       "      <td>False</td>\n",
       "      <td>False</td>\n",
       "      <td>False</td>\n",
       "      <td>False</td>\n",
       "      <td>False</td>\n",
       "    </tr>\n",
       "    <tr>\n",
       "      <th>1000</th>\n",
       "      <td>True</td>\n",
       "      <td>True</td>\n",
       "      <td>True</td>\n",
       "      <td>True</td>\n",
       "      <td>False</td>\n",
       "      <td>True</td>\n",
       "    </tr>\n",
       "  </tbody>\n",
       "</table>\n",
       "<p>1001 rows × 6 columns</p>\n",
       "</div>"
      ],
      "text/plain": [
       "      First Name  Gender  Start Date  Salary   Mgmt   Team\n",
       "0          False   False       False    True  False  False\n",
       "1          False   False       False   False  False   True\n",
       "2          False   False        True   False  False  False\n",
       "3          False    True       False   False  False  False\n",
       "4          False   False       False   False  False  False\n",
       "...          ...     ...         ...     ...    ...    ...\n",
       "996        False   False       False   False  False  False\n",
       "997        False   False       False   False  False  False\n",
       "998        False   False       False   False  False  False\n",
       "999        False   False       False   False  False  False\n",
       "1000        True    True        True    True  False   True\n",
       "\n",
       "[1001 rows x 6 columns]"
      ]
     },
     "execution_count": 708,
     "metadata": {},
     "output_type": "execute_result"
    }
   ],
   "source": [
    "empDF.isna()"
   ]
  },
  {
   "cell_type": "code",
   "execution_count": 709,
   "id": "6d2d6422-4087-4c1c-b19c-53594837fcd8",
   "metadata": {},
   "outputs": [
    {
     "data": {
      "text/plain": [
       "First Name     68\n",
       "Gender        147\n",
       "Start Date      2\n",
       "Salary          2\n",
       "Mgmt            0\n",
       "Team           44\n",
       "dtype: int64"
      ]
     },
     "execution_count": 709,
     "metadata": {},
     "output_type": "execute_result"
    }
   ],
   "source": [
    "empDF.isnull().sum()         #true면 1이고 false면 0이니까 다 더하면 결측값 개수 나옴"
   ]
  },
  {
   "cell_type": "markdown",
   "id": "91b0a0e4-375b-437c-b89f-8badcd9bbdb9",
   "metadata": {},
   "source": [
    "- 결측치 처리 => (1) 삭제"
   ]
  },
  {
   "cell_type": "markdown",
   "id": "b98b5076-5c0c-450d-a78e-12ac61932b43",
   "metadata": {},
   "source": [
    "- DF.drop() : 삭제                  #특정 줄을 지우고싶을때"
   ]
  },
  {
   "cell_type": "code",
   "execution_count": 710,
   "id": "1b92a4bd-77f1-4ca5-9253-ca13f754db84",
   "metadata": {},
   "outputs": [
    {
     "name": "stdout",
     "output_type": "stream",
     "text": [
      "RangeIndex(start=0, stop=1001, step=1)\n",
      "\n",
      "Index(['First Name', 'Gender', 'Start Date', 'Salary', 'Mgmt', 'Team'], dtype='object')\n"
     ]
    }
   ],
   "source": [
    "print(empDF.index, empDF.columns, sep = '\\n\\n')"
   ]
  },
  {
   "cell_type": "code",
   "execution_count": 711,
   "id": "c621e513-c2dc-4cc0-953b-f2a8d6f11bda",
   "metadata": {},
   "outputs": [
    {
     "data": {
      "text/html": [
       "<div>\n",
       "<style scoped>\n",
       "    .dataframe tbody tr th:only-of-type {\n",
       "        vertical-align: middle;\n",
       "    }\n",
       "\n",
       "    .dataframe tbody tr th {\n",
       "        vertical-align: top;\n",
       "    }\n",
       "\n",
       "    .dataframe thead th {\n",
       "        text-align: right;\n",
       "    }\n",
       "</style>\n",
       "<table border=\"1\" class=\"dataframe\">\n",
       "  <thead>\n",
       "    <tr style=\"text-align: right;\">\n",
       "      <th></th>\n",
       "      <th>First Name</th>\n",
       "      <th>Gender</th>\n",
       "      <th>Start Date</th>\n",
       "      <th>Salary</th>\n",
       "      <th>Mgmt</th>\n",
       "      <th>Team</th>\n",
       "    </tr>\n",
       "  </thead>\n",
       "  <tbody>\n",
       "    <tr>\n",
       "      <th>1</th>\n",
       "      <td>Thomas</td>\n",
       "      <td>Male</td>\n",
       "      <td>1996-03-31</td>\n",
       "      <td>61933.0</td>\n",
       "      <td>True</td>\n",
       "      <td>NaN</td>\n",
       "    </tr>\n",
       "    <tr>\n",
       "      <th>2</th>\n",
       "      <td>Maria</td>\n",
       "      <td>Female</td>\n",
       "      <td>NaT</td>\n",
       "      <td>130590.0</td>\n",
       "      <td>False</td>\n",
       "      <td>Finance</td>\n",
       "    </tr>\n",
       "    <tr>\n",
       "      <th>3</th>\n",
       "      <td>Jerry</td>\n",
       "      <td>NaN</td>\n",
       "      <td>2005-03-04</td>\n",
       "      <td>138705.0</td>\n",
       "      <td>True</td>\n",
       "      <td>Finance</td>\n",
       "    </tr>\n",
       "    <tr>\n",
       "      <th>4</th>\n",
       "      <td>Larry</td>\n",
       "      <td>Male</td>\n",
       "      <td>1998-01-24</td>\n",
       "      <td>101004.0</td>\n",
       "      <td>True</td>\n",
       "      <td>IT</td>\n",
       "    </tr>\n",
       "    <tr>\n",
       "      <th>6</th>\n",
       "      <td>Ruby</td>\n",
       "      <td>Female</td>\n",
       "      <td>1987-08-17</td>\n",
       "      <td>65476.0</td>\n",
       "      <td>True</td>\n",
       "      <td>Product</td>\n",
       "    </tr>\n",
       "    <tr>\n",
       "      <th>...</th>\n",
       "      <td>...</td>\n",
       "      <td>...</td>\n",
       "      <td>...</td>\n",
       "      <td>...</td>\n",
       "      <td>...</td>\n",
       "      <td>...</td>\n",
       "    </tr>\n",
       "    <tr>\n",
       "      <th>996</th>\n",
       "      <td>Phillip</td>\n",
       "      <td>Male</td>\n",
       "      <td>1984-01-31</td>\n",
       "      <td>42392.0</td>\n",
       "      <td>False</td>\n",
       "      <td>Finance</td>\n",
       "    </tr>\n",
       "    <tr>\n",
       "      <th>997</th>\n",
       "      <td>Russell</td>\n",
       "      <td>Male</td>\n",
       "      <td>2013-05-20</td>\n",
       "      <td>96914.0</td>\n",
       "      <td>False</td>\n",
       "      <td>Product</td>\n",
       "    </tr>\n",
       "    <tr>\n",
       "      <th>998</th>\n",
       "      <td>Larry</td>\n",
       "      <td>Male</td>\n",
       "      <td>2013-04-20</td>\n",
       "      <td>60500.0</td>\n",
       "      <td>False</td>\n",
       "      <td>Business Dev</td>\n",
       "    </tr>\n",
       "    <tr>\n",
       "      <th>999</th>\n",
       "      <td>Albert</td>\n",
       "      <td>Male</td>\n",
       "      <td>2012-05-15</td>\n",
       "      <td>129949.0</td>\n",
       "      <td>True</td>\n",
       "      <td>Sales</td>\n",
       "    </tr>\n",
       "    <tr>\n",
       "      <th>1000</th>\n",
       "      <td>NaN</td>\n",
       "      <td>NaN</td>\n",
       "      <td>NaT</td>\n",
       "      <td>NaN</td>\n",
       "      <td>True</td>\n",
       "      <td>NaN</td>\n",
       "    </tr>\n",
       "  </tbody>\n",
       "</table>\n",
       "<p>999 rows × 6 columns</p>\n",
       "</div>"
      ],
      "text/plain": [
       "     First Name  Gender Start Date    Salary   Mgmt          Team\n",
       "1        Thomas    Male 1996-03-31   61933.0   True           NaN\n",
       "2         Maria  Female        NaT  130590.0  False       Finance\n",
       "3         Jerry     NaN 2005-03-04  138705.0   True       Finance\n",
       "4         Larry    Male 1998-01-24  101004.0   True            IT\n",
       "6          Ruby  Female 1987-08-17   65476.0   True       Product\n",
       "...         ...     ...        ...       ...    ...           ...\n",
       "996     Phillip    Male 1984-01-31   42392.0  False       Finance\n",
       "997     Russell    Male 2013-05-20   96914.0  False       Product\n",
       "998       Larry    Male 2013-04-20   60500.0  False  Business Dev\n",
       "999      Albert    Male 2012-05-15  129949.0   True         Sales\n",
       "1000        NaN     NaN        NaT       NaN   True           NaN\n",
       "\n",
       "[999 rows x 6 columns]"
      ]
     },
     "execution_count": 711,
     "metadata": {},
     "output_type": "execute_result"
    }
   ],
   "source": [
    "# 0, 5번 행 삭제 => inplace 파라미터 존재하므로 원본은 삭제안됨!\n",
    "empDF.drop([0, 5])      #디폴트가 행이니까 저렇게 하면 행이 삭제됨"
   ]
  },
  {
   "cell_type": "code",
   "execution_count": 712,
   "id": "3db273b2-6758-4669-8b0d-8184cdcc9130",
   "metadata": {},
   "outputs": [
    {
     "data": {
      "text/html": [
       "<div>\n",
       "<style scoped>\n",
       "    .dataframe tbody tr th:only-of-type {\n",
       "        vertical-align: middle;\n",
       "    }\n",
       "\n",
       "    .dataframe tbody tr th {\n",
       "        vertical-align: top;\n",
       "    }\n",
       "\n",
       "    .dataframe thead th {\n",
       "        text-align: right;\n",
       "    }\n",
       "</style>\n",
       "<table border=\"1\" class=\"dataframe\">\n",
       "  <thead>\n",
       "    <tr style=\"text-align: right;\">\n",
       "      <th></th>\n",
       "      <th>First Name</th>\n",
       "      <th>Start Date</th>\n",
       "      <th>Salary</th>\n",
       "      <th>Mgmt</th>\n",
       "    </tr>\n",
       "  </thead>\n",
       "  <tbody>\n",
       "    <tr>\n",
       "      <th>0</th>\n",
       "      <td>Douglas</td>\n",
       "      <td>1993-08-06</td>\n",
       "      <td>NaN</td>\n",
       "      <td>True</td>\n",
       "    </tr>\n",
       "    <tr>\n",
       "      <th>1</th>\n",
       "      <td>Thomas</td>\n",
       "      <td>1996-03-31</td>\n",
       "      <td>61933.0</td>\n",
       "      <td>True</td>\n",
       "    </tr>\n",
       "    <tr>\n",
       "      <th>2</th>\n",
       "      <td>Maria</td>\n",
       "      <td>NaT</td>\n",
       "      <td>130590.0</td>\n",
       "      <td>False</td>\n",
       "    </tr>\n",
       "    <tr>\n",
       "      <th>3</th>\n",
       "      <td>Jerry</td>\n",
       "      <td>2005-03-04</td>\n",
       "      <td>138705.0</td>\n",
       "      <td>True</td>\n",
       "    </tr>\n",
       "    <tr>\n",
       "      <th>4</th>\n",
       "      <td>Larry</td>\n",
       "      <td>1998-01-24</td>\n",
       "      <td>101004.0</td>\n",
       "      <td>True</td>\n",
       "    </tr>\n",
       "    <tr>\n",
       "      <th>...</th>\n",
       "      <td>...</td>\n",
       "      <td>...</td>\n",
       "      <td>...</td>\n",
       "      <td>...</td>\n",
       "    </tr>\n",
       "    <tr>\n",
       "      <th>996</th>\n",
       "      <td>Phillip</td>\n",
       "      <td>1984-01-31</td>\n",
       "      <td>42392.0</td>\n",
       "      <td>False</td>\n",
       "    </tr>\n",
       "    <tr>\n",
       "      <th>997</th>\n",
       "      <td>Russell</td>\n",
       "      <td>2013-05-20</td>\n",
       "      <td>96914.0</td>\n",
       "      <td>False</td>\n",
       "    </tr>\n",
       "    <tr>\n",
       "      <th>998</th>\n",
       "      <td>Larry</td>\n",
       "      <td>2013-04-20</td>\n",
       "      <td>60500.0</td>\n",
       "      <td>False</td>\n",
       "    </tr>\n",
       "    <tr>\n",
       "      <th>999</th>\n",
       "      <td>Albert</td>\n",
       "      <td>2012-05-15</td>\n",
       "      <td>129949.0</td>\n",
       "      <td>True</td>\n",
       "    </tr>\n",
       "    <tr>\n",
       "      <th>1000</th>\n",
       "      <td>NaN</td>\n",
       "      <td>NaT</td>\n",
       "      <td>NaN</td>\n",
       "      <td>True</td>\n",
       "    </tr>\n",
       "  </tbody>\n",
       "</table>\n",
       "<p>1001 rows × 4 columns</p>\n",
       "</div>"
      ],
      "text/plain": [
       "     First Name Start Date    Salary   Mgmt\n",
       "0       Douglas 1993-08-06       NaN   True\n",
       "1        Thomas 1996-03-31   61933.0   True\n",
       "2         Maria        NaT  130590.0  False\n",
       "3         Jerry 2005-03-04  138705.0   True\n",
       "4         Larry 1998-01-24  101004.0   True\n",
       "...         ...        ...       ...    ...\n",
       "996     Phillip 1984-01-31   42392.0  False\n",
       "997     Russell 2013-05-20   96914.0  False\n",
       "998       Larry 2013-04-20   60500.0  False\n",
       "999      Albert 2012-05-15  129949.0   True\n",
       "1000        NaN        NaT       NaN   True\n",
       "\n",
       "[1001 rows x 4 columns]"
      ]
     },
     "execution_count": 712,
     "metadata": {},
     "output_type": "execute_result"
    }
   ],
   "source": [
    "# 'Gender', 'Team' 컬럼 삭제 => inplace 파라미터 존재하므로 원본은 삭제안됨!\n",
    "empDF.drop(['Gender', 'Team'], axis = 'columns')"
   ]
  },
  {
   "cell_type": "markdown",
   "id": "58107a95-8d49-48b2-b77e-e9ce64fd611b",
   "metadata": {},
   "source": [
    "- DF.dropna() : na 즉 빈칸 삭제     (na가 있는 줄을 지우고싶을때)"
   ]
  },
  {
   "cell_type": "code",
   "execution_count": 715,
   "id": "0a19550b-46a1-436d-afdc-2e1e8b0d575c",
   "metadata": {},
   "outputs": [],
   "source": [
    "empDF2 = empDF.dropna()"
   ]
  },
  {
   "cell_type": "code",
   "execution_count": 716,
   "id": "1124a32b-e7ab-4667-b4cc-ca28b2771213",
   "metadata": {},
   "outputs": [
    {
     "name": "stdout",
     "output_type": "stream",
     "text": [
      "<class 'pandas.core.frame.DataFrame'>\n",
      "Index: 761 entries, 4 to 999\n",
      "Data columns (total 6 columns):\n",
      " #   Column      Non-Null Count  Dtype         \n",
      "---  ------      --------------  -----         \n",
      " 0   First Name  761 non-null    object        \n",
      " 1   Gender      761 non-null    object        \n",
      " 2   Start Date  761 non-null    datetime64[ns]\n",
      " 3   Salary      761 non-null    float64       \n",
      " 4   Mgmt        761 non-null    bool          \n",
      " 5   Team        761 non-null    object        \n",
      "dtypes: bool(1), datetime64[ns](1), float64(1), object(3)\n",
      "memory usage: 36.4+ KB\n"
     ]
    }
   ],
   "source": [
    "empDF2.info()"
   ]
  },
  {
   "cell_type": "markdown",
   "id": "a83386ab-649e-4b6b-8055-d461197c17b4",
   "metadata": {},
   "source": [
    "- how 파라미터"
   ]
  },
  {
   "cell_type": "code",
   "execution_count": null,
   "id": "d0bc4397-e162-4efe-8968-55d5a8a15c28",
   "metadata": {},
   "outputs": [],
   "source": [
    "empDF.dropna()"
   ]
  }
 ],
 "metadata": {
  "kernelspec": {
   "display_name": "Python 3 (ipykernel)",
   "language": "python",
   "name": "python3"
  },
  "language_info": {
   "codemirror_mode": {
    "name": "ipython",
    "version": 3
   },
   "file_extension": ".py",
   "mimetype": "text/x-python",
   "name": "python",
   "nbconvert_exporter": "python",
   "pygments_lexer": "ipython3",
   "version": "3.8.18"
  }
 },
 "nbformat": 4,
 "nbformat_minor": 5
}
