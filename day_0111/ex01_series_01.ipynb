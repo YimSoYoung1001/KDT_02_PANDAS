{
 "cells": [
  {
   "cell_type": "markdown",
   "id": "c19a758e-1940-434e-af90-5f26015529f8",
   "metadata": {},
   "source": [
    "<h1> 시리즈(series) 살펴보기</h1>\n",
    "\n",
    "- 판다스에서 데이터를 저장하는 자료 구조 중 하나\n",
    "- 동일한 타입의 데이터를 연속된 메모리 공간에 저장함  \n",
    "- 구성: 인덱스 + 데이터  \n",
    "- 생성: Series() 생성자 메서드  "
   ]
  },
  {
   "cell_type": "markdown",
   "id": "69fc627c-dd70-4b2a-95f7-93d5e235d850",
   "metadata": {},
   "source": [
    "#### (1) 모듈 로딩 ----------------------------------------------------------------------------"
   ]
  },
  {
   "cell_type": "code",
   "execution_count": 38,
   "id": "5fcabe77-6417-450e-8af7-f961ec9ea966",
   "metadata": {},
   "outputs": [],
   "source": [
    "import pandas as pd"
   ]
  },
  {
   "cell_type": "markdown",
   "id": "062a0f11-ee9d-4baa-8410-133c5ef5e657",
   "metadata": {},
   "source": [
    "#### (2) 시리즈 객체 생성 --------------------------------------------------------------------------------------"
   ]
  },
  {
   "cell_type": "code",
   "execution_count": 39,
   "id": "6c642b11-661b-4a5e-b8cd-af503242486a",
   "metadata": {},
   "outputs": [],
   "source": [
    "# 객체 생성에 사용되는 메서드 => 생성자 (constructor)\n",
    "# 데이터 타입과 동일한 이름의 메서드 => Series()\n",
    "sr = pd.Series([11,22.,'33'])"
   ]
  },
  {
   "cell_type": "code",
   "execution_count": 40,
   "id": "0fe43065-7f30-4420-852c-da7b83ab37c1",
   "metadata": {},
   "outputs": [
    {
     "data": {
      "text/plain": [
       "0      11\n",
       "1    22.0\n",
       "2      33\n",
       "dtype: object"
      ]
     },
     "execution_count": 40,
     "metadata": {},
     "output_type": "execute_result"
    }
   ],
   "source": [
    "sr"
   ]
  },
  {
   "cell_type": "code",
   "execution_count": 41,
   "id": "ad78b792-474b-4917-8ac9-3eed212d16d2",
   "metadata": {},
   "outputs": [
    {
     "data": {
      "text/plain": [
       "pandas.core.series.Series"
      ]
     },
     "execution_count": 41,
     "metadata": {},
     "output_type": "execute_result"
    }
   ],
   "source": [
    "type(sr)"
   ]
  },
  {
   "cell_type": "markdown",
   "id": "da54c689-c842-4a61-80a4-187e8d3f3035",
   "metadata": {},
   "source": [
    "#### (3) Series 객체의 속성(attributes)/필드(field) 살펴보기\n",
    "    * 기본 : data, index, dtype\n",
    "    * 일기 : 객체변수명.속성명\n",
    "    * 쓰기 : 객체변수명.속성명 = 새로운 값  [모든 속성이 가능한 것은 아님!!/속성바꾼다는거는 덩어리를 바꾼다는 것]"
   ]
  },
  {
   "cell_type": "code",
   "execution_count": 42,
   "id": "6db65b75-e58f-4249-9368-6b1e4fc0ad56",
   "metadata": {},
   "outputs": [
    {
     "data": {
      "text/plain": [
       "RangeIndex(start=0, stop=3, step=1)"
      ]
     },
     "execution_count": 42,
     "metadata": {},
     "output_type": "execute_result"
    }
   ],
   "source": [
    "# 현재 시리즈 객체에 저장된 인덱스 속성 확인\n",
    "sr.index\n",
    "\n",
    "# 인덱스: Series를 출력한 결과의 왼쪽에 있는 증가하는 정수의 컬렉션"
   ]
  },
  {
   "cell_type": "code",
   "execution_count": 43,
   "id": "00c95184-2530-43f1-800d-f1d51349d55a",
   "metadata": {},
   "outputs": [
    {
     "data": {
      "text/plain": [
       "array([11, 22.0, '33'], dtype=object)"
      ]
     },
     "execution_count": 43,
     "metadata": {},
     "output_type": "execute_result"
    }
   ],
   "source": [
    "# 현재 시리즈 객체에 저장된 데이터 즉 값 확인\n",
    "sr.values"
   ]
  },
  {
   "cell_type": "code",
   "execution_count": 44,
   "id": "4ffed93c-33da-4658-9137-2da6203dafd8",
   "metadata": {},
   "outputs": [],
   "source": [
    "# 시리즈 객체의 인덱스 변경 \n",
    "sr.index = [100, 200, 300]"
   ]
  },
  {
   "cell_type": "code",
   "execution_count": 45,
   "id": "8152b3c1-8563-4161-b228-e0eaac5ae9c8",
   "metadata": {},
   "outputs": [
    {
     "data": {
      "text/plain": [
       "100      11\n",
       "200    22.0\n",
       "300      33\n",
       "dtype: object"
      ]
     },
     "execution_count": 45,
     "metadata": {},
     "output_type": "execute_result"
    }
   ],
   "source": [
    "sr"
   ]
  },
  {
   "cell_type": "code",
   "execution_count": 46,
   "id": "a2901028-38ea-4add-82d4-3366c83eff66",
   "metadata": {},
   "outputs": [],
   "source": [
    "sr.index = ['A', 'B', 'C']"
   ]
  },
  {
   "cell_type": "code",
   "execution_count": 47,
   "id": "407c9d24-14be-4211-a6a4-6e523319038b",
   "metadata": {},
   "outputs": [
    {
     "data": {
      "text/plain": [
       "A      11\n",
       "B    22.0\n",
       "C      33\n",
       "dtype: object"
      ]
     },
     "execution_count": 47,
     "metadata": {},
     "output_type": "execute_result"
    }
   ],
   "source": [
    "sr"
   ]
  },
  {
   "cell_type": "code",
   "execution_count": 48,
   "id": "b7945931-8f97-4864-8380-e09fbc679db2",
   "metadata": {},
   "outputs": [],
   "source": [
    "# values 속성은 속성방식으로 변경 불가!!\n",
    "#sr.values = [777,888,999]  #이르케는 안된다. 모든 속성을 이렇게 변경가능한게 아니다"
   ]
  },
  {
   "cell_type": "markdown",
   "id": "a4518706-7c1f-4dfb-957d-693a77468ee2",
   "metadata": {},
   "source": [
    "#### (4) 시리즈 객체의 요소 데이터/값 읽기\n",
    "    * 읽기 : 객체변수명[인덱스]\n",
    "    * 변경 : 객체변수명[인덱스] = 새로운값"
   ]
  },
  {
   "cell_type": "code",
   "execution_count": 49,
   "id": "9bd6ae78-3f53-451a-a9d0-64b4999de3b2",
   "metadata": {},
   "outputs": [
    {
     "data": {
      "text/plain": [
       "11"
      ]
     },
     "execution_count": 49,
     "metadata": {},
     "output_type": "execute_result"
    }
   ],
   "source": [
    "sr ['A']"
   ]
  },
  {
   "cell_type": "code",
   "execution_count": 50,
   "id": "1f326ac9-e07d-43ea-9ff9-8252532e5d01",
   "metadata": {},
   "outputs": [],
   "source": [
    "sr['A'] = 2024"
   ]
  },
  {
   "cell_type": "code",
   "execution_count": 51,
   "id": "fa702f83-0818-4d7c-91b9-065175171723",
   "metadata": {},
   "outputs": [
    {
     "data": {
      "text/plain": [
       "A    2024\n",
       "B    22.0\n",
       "C      33\n",
       "dtype: object"
      ]
     },
     "execution_count": 51,
     "metadata": {},
     "output_type": "execute_result"
    }
   ],
   "source": [
    "sr"
   ]
  },
  {
   "cell_type": "code",
   "execution_count": 52,
   "id": "2561e98f-1a28-4fc3-8f8b-237b439c7fef",
   "metadata": {},
   "outputs": [
    {
     "data": {
      "text/plain": [
       "Index(['A', 'B', 'C'], dtype='object')"
      ]
     },
     "execution_count": 52,
     "metadata": {},
     "output_type": "execute_result"
    }
   ],
   "source": [
    "sr.index"
   ]
  },
  {
   "cell_type": "code",
   "execution_count": 53,
   "id": "81133674-2524-4c34-aeda-02ab4420841c",
   "metadata": {},
   "outputs": [
    {
     "data": {
      "text/plain": [
       "(2024, 2024)"
      ]
     },
     "execution_count": 53,
     "metadata": {},
     "output_type": "execute_result"
    }
   ],
   "source": [
    "sr[0], sr['A']"
   ]
  },
  {
   "cell_type": "code",
   "execution_count": 54,
   "id": "9f484c27-e690-4c28-9a31-8dd4f1f54f34",
   "metadata": {},
   "outputs": [],
   "source": [
    "sr.index = [11, 22, 33]          #변경"
   ]
  },
  {
   "cell_type": "code",
   "execution_count": 55,
   "id": "b600ab49-9a99-48f4-9964-6d63b6aa4e22",
   "metadata": {},
   "outputs": [
    {
     "data": {
      "text/plain": [
       "Index([11, 22, 33], dtype='int64')"
      ]
     },
     "execution_count": 55,
     "metadata": {},
     "output_type": "execute_result"
    }
   ],
   "source": [
    "sr.index                         #읽기"
   ]
  },
  {
   "cell_type": "code",
   "execution_count": 56,
   "id": "65ddcbfc-027e-40fb-b95c-f10c1a93356a",
   "metadata": {},
   "outputs": [
    {
     "data": {
      "text/plain": [
       "2024"
      ]
     },
     "execution_count": 56,
     "metadata": {},
     "output_type": "execute_result"
    }
   ],
   "source": [
    "sr[11]"
   ]
  },
  {
   "cell_type": "code",
   "execution_count": 57,
   "id": "3f1a2981-4b4c-4feb-9d86-e25d2c9ffb7d",
   "metadata": {
    "scrolled": true
   },
   "outputs": [],
   "source": [
    "#sr[0]                   # 원래 위치인덱스번호와 인덱스이름을 구분하기 못하기 때문에 에러발생 (충돌이 일어남)\n",
    "                        # 이럴땐 기본으로 제공되는 위치인덱스가 사라짐\n",
    "                        # 다만 '1' '2' '3' 이런식으로 인덱스 이름을 하면 이건 ㄱㅊ"
   ]
  },
  {
   "cell_type": "code",
   "execution_count": 58,
   "id": "22ecf758-fee0-411d-b282-6de528fbc830",
   "metadata": {},
   "outputs": [
    {
     "name": "stdout",
     "output_type": "stream",
     "text": [
      "11 2024\n",
      "22 22.0\n",
      "33 33\n"
     ]
    }
   ],
   "source": [
    "for idx in sr.index:\n",
    "    print(idx, sr[idx])"
   ]
  },
  {
   "cell_type": "code",
   "execution_count": 59,
   "id": "f1d75aa5-95c1-4f98-a863-4d492868fe19",
   "metadata": {},
   "outputs": [
    {
     "data": {
      "text/plain": [
       "1    2024\n",
       "2    22.0\n",
       "3      33\n",
       "dtype: object"
      ]
     },
     "execution_count": 59,
     "metadata": {},
     "output_type": "execute_result"
    }
   ],
   "source": [
    "# 문자열 숫자로 인덱스 변경\n",
    "sr.index = ['1', '2', '3']\n",
    "sr"
   ]
  },
  {
   "cell_type": "code",
   "execution_count": 60,
   "id": "ade295a2-c25c-476c-98ec-1d76cd77d648",
   "metadata": {},
   "outputs": [
    {
     "data": {
      "text/plain": [
       "(2024, 2024)"
      ]
     },
     "execution_count": 60,
     "metadata": {},
     "output_type": "execute_result"
    }
   ],
   "source": [
    "sr['1'], sr[0]            #이건 문자열이기 때문에 에러가 ㄴㄴ"
   ]
  },
  {
   "cell_type": "code",
   "execution_count": 61,
   "id": "78dce300-7387-4e6e-9b2f-eb99eb840d5b",
   "metadata": {},
   "outputs": [
    {
     "data": {
      "text/plain": [
       "1    2024\n",
       "2    22.0\n",
       "3      33\n",
       "dtype: object"
      ]
     },
     "execution_count": 61,
     "metadata": {},
     "output_type": "execute_result"
    }
   ],
   "source": [
    "# 정수형 숫자로 인덱스 변경 -------------------------------------\n",
    "sr.index = [1, 2, 3]\n",
    "sr"
   ]
  },
  {
   "cell_type": "code",
   "execution_count": 62,
   "id": "ebf7041e-9464-4324-b8b6-132a128e3b05",
   "metadata": {},
   "outputs": [
    {
     "data": {
      "text/plain": [
       "2024"
      ]
     },
     "execution_count": 62,
     "metadata": {},
     "output_type": "execute_result"
    }
   ],
   "source": [
    "sr[1]"
   ]
  },
  {
   "cell_type": "code",
   "execution_count": 63,
   "id": "badedcf3-24d1-46b0-a2af-0af5649c55b2",
   "metadata": {},
   "outputs": [],
   "source": [
    "# 숫자 라벨 인덱스 지정하면 정수 위치 인덱스  => 정수 위치 인덱스 사용 불가\n",
    "#sr[0]"
   ]
  },
  {
   "cell_type": "code",
   "execution_count": null,
   "id": "78521c51-8426-4f3d-be56-089641073af6",
   "metadata": {},
   "outputs": [],
   "source": []
  }
 ],
 "metadata": {
  "kernelspec": {
   "display_name": "Python 3 (ipykernel)",
   "language": "python",
   "name": "python3"
  },
  "language_info": {
   "codemirror_mode": {
    "name": "ipython",
    "version": 3
   },
   "file_extension": ".py",
   "mimetype": "text/x-python",
   "name": "python",
   "nbconvert_exporter": "python",
   "pygments_lexer": "ipython3",
   "version": "3.8.18"
  }
 },
 "nbformat": 4,
 "nbformat_minor": 5
}
