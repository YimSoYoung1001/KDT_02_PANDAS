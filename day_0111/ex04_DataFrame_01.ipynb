{
 "cells": [
  {
   "cell_type": "markdown",
   "id": "a7592e3f-d9e2-4b8a-b2ca-1ebd6e7b38d0",
   "metadata": {},
   "source": [
    "# [ DataFrame 살펴보기 ]\n",
    "* 데이터를 테이블 즉, 표 형태로 저장하는 자료구조\n",
    "* 구성 : 행 + 열\n",
    "* 생성 : pandas.DataFrame() 생성자 메서드"
   ]
  },
  {
   "cell_type": "markdown",
   "id": "0f51f9d7-eb88-43f9-8e3e-c6f92106e43e",
   "metadata": {},
   "source": [
    "(1) 모듈 로딩 ---------------------------------------------------------"
   ]
  },
  {
   "cell_type": "code",
   "execution_count": 328,
   "id": "3f367abe-9a12-44e6-9b94-924d6e1244aa",
   "metadata": {},
   "outputs": [],
   "source": [
    "from pandas import DataFrame           # <- 얘만 import"
   ]
  },
  {
   "cell_type": "markdown",
   "id": "a0e6b278-2fb4-49b4-abc2-71659f50642d",
   "metadata": {},
   "source": [
    "(2) 데이터 준비 -----------------------------------------------------"
   ]
  },
  {
   "cell_type": "code",
   "execution_count": 329,
   "id": "a614bb58-730f-41de-b07f-f15efa61a656",
   "metadata": {},
   "outputs": [],
   "source": [
    "data = [ [11,22,33], [44,55,66], [77,88,99] ]"
   ]
  },
  {
   "cell_type": "markdown",
   "id": "1d062fda-1fb0-4452-b98c-f8360b0c0792",
   "metadata": {},
   "source": [
    "(3) DataFrame으로 저장 즉, DataFrame 객체 생성 ---------------"
   ]
  },
  {
   "cell_type": "code",
   "execution_count": 330,
   "id": "8f5217e5-2af5-4047-a720-16d6af3938a7",
   "metadata": {},
   "outputs": [
    {
     "data": {
      "text/html": [
       "<div>\n",
       "<style scoped>\n",
       "    .dataframe tbody tr th:only-of-type {\n",
       "        vertical-align: middle;\n",
       "    }\n",
       "\n",
       "    .dataframe tbody tr th {\n",
       "        vertical-align: top;\n",
       "    }\n",
       "\n",
       "    .dataframe thead th {\n",
       "        text-align: right;\n",
       "    }\n",
       "</style>\n",
       "<table border=\"1\" class=\"dataframe\">\n",
       "  <thead>\n",
       "    <tr style=\"text-align: right;\">\n",
       "      <th></th>\n",
       "      <th>0</th>\n",
       "      <th>1</th>\n",
       "      <th>2</th>\n",
       "    </tr>\n",
       "  </thead>\n",
       "  <tbody>\n",
       "    <tr>\n",
       "      <th>0</th>\n",
       "      <td>11</td>\n",
       "      <td>22</td>\n",
       "      <td>33</td>\n",
       "    </tr>\n",
       "    <tr>\n",
       "      <th>1</th>\n",
       "      <td>44</td>\n",
       "      <td>55</td>\n",
       "      <td>66</td>\n",
       "    </tr>\n",
       "    <tr>\n",
       "      <th>2</th>\n",
       "      <td>77</td>\n",
       "      <td>88</td>\n",
       "      <td>99</td>\n",
       "    </tr>\n",
       "  </tbody>\n",
       "</table>\n",
       "</div>"
      ],
      "text/plain": [
       "    0   1   2\n",
       "0  11  22  33\n",
       "1  44  55  66\n",
       "2  77  88  99"
      ]
     },
     "execution_count": 330,
     "metadata": {},
     "output_type": "execute_result"
    }
   ],
   "source": [
    "df1 = DataFrame(data)                #얘는 임포트를 다 하지 않아서 pandas. 안함\n",
    "df1"
   ]
  },
  {
   "cell_type": "markdown",
   "id": "b4cd6697-3092-426b-8964-ac0ff7fd744f",
   "metadata": {},
   "source": [
    "(4) DataFrame의 속성 읽기 => 객체변수명.속성명 -------------"
   ]
  },
  {
   "cell_type": "code",
   "execution_count": 331,
   "id": "d3c2f80c-a3d5-4a57-8240-c879e6091b90",
   "metadata": {},
   "outputs": [
    {
     "data": {
      "text/plain": [
       "RangeIndex(start=0, stop=3, step=1)"
      ]
     },
     "execution_count": 331,
     "metadata": {},
     "output_type": "execute_result"
    }
   ],
   "source": [
    "df1.index"
   ]
  },
  {
   "cell_type": "code",
   "execution_count": 332,
   "id": "44cb5b7e-519d-4b18-ae7d-4aed641f8933",
   "metadata": {},
   "outputs": [
    {
     "data": {
      "text/plain": [
       "RangeIndex(start=0, stop=3, step=1)"
      ]
     },
     "execution_count": 332,
     "metadata": {},
     "output_type": "execute_result"
    }
   ],
   "source": [
    "df1.columns"
   ]
  },
  {
   "cell_type": "code",
   "execution_count": 333,
   "id": "e2feba5f-0292-4e71-b77b-992dbd92eb32",
   "metadata": {},
   "outputs": [
    {
     "data": {
      "text/plain": [
       "array([[11, 22, 33],\n",
       "       [44, 55, 66],\n",
       "       [77, 88, 99]], dtype=int64)"
      ]
     },
     "execution_count": 333,
     "metadata": {},
     "output_type": "execute_result"
    }
   ],
   "source": [
    "df1.values"
   ]
  },
  {
   "cell_type": "code",
   "execution_count": 334,
   "id": "071c60fd-9e30-4fd3-b813-05d3a05de60b",
   "metadata": {},
   "outputs": [
    {
     "data": {
      "text/plain": [
       "(3, 3)"
      ]
     },
     "execution_count": 334,
     "metadata": {},
     "output_type": "execute_result"
    }
   ],
   "source": [
    "# 데이터가 저장된 표의 형태 \n",
    "df1.shape                        #표가 몇행 몇열짜리인지 알려줌 => 2행 3열"
   ]
  },
  {
   "cell_type": "code",
   "execution_count": 335,
   "id": "fcf790f9-ee25-4714-bce1-634d99ef8763",
   "metadata": {},
   "outputs": [
    {
     "data": {
      "text/plain": [
       "2"
      ]
     },
     "execution_count": 335,
     "metadata": {},
     "output_type": "execute_result"
    }
   ],
   "source": [
    "# 데이터의 차원 정보 n-dimension\n",
    "df1.ndim                         #dimension : 차원"
   ]
  },
  {
   "cell_type": "code",
   "execution_count": 336,
   "id": "8a4779dc-349b-4ed8-aaef-57d0997f0a01",
   "metadata": {},
   "outputs": [
    {
     "data": {
      "text/plain": [
       "0    int64\n",
       "1    int64\n",
       "2    int64\n",
       "dtype: object"
      ]
     },
     "execution_count": 336,
     "metadata": {},
     "output_type": "execute_result"
    }
   ],
   "source": [
    "# 컬럼별 데이터 타입\n",
    "df1.dtypes                       #한 컬럼 속에는 타입이 같으니까ㅇㅇ 컬럼별 확인\n",
    "                                 #여기서는 다 숫자니까 int64\n",
    "# 저기에 적힌 object라는 것은 컬럼 전체가 object라는 거임 ㅇㅇ"
   ]
  },
  {
   "cell_type": "markdown",
   "id": "a1b29efb-56b5-46d1-8276-376d0cfa7f66",
   "metadata": {},
   "source": [
    "(5) 원소 읽기 ==> 행과 열 지정 ==> 1개 원소  ------------------"
   ]
  },
  {
   "cell_type": "markdown",
   "id": "f618fe70-ceb9-42f9-b6c4-a6069377f01a",
   "metadata": {},
   "source": [
    "- 컬럼 즉 열(column) 읽기   ==> 객체변수명[인덱스]"
   ]
  },
  {
   "cell_type": "code",
   "execution_count": 337,
   "id": "bb284216-dff5-4dac-832c-8028954e63b1",
   "metadata": {},
   "outputs": [
    {
     "data": {
      "text/plain": [
       "0    11\n",
       "1    44\n",
       "2    77\n",
       "Name: 0, dtype: int64"
      ]
     },
     "execution_count": 337,
     "metadata": {},
     "output_type": "execute_result"
    }
   ],
   "source": [
    "df1[0]                              #0번 column의 데이터를 가져옴"
   ]
  },
  {
   "cell_type": "code",
   "execution_count": 338,
   "id": "45a5f618-d44c-4399-b4a9-2e5f72b847cb",
   "metadata": {},
   "outputs": [
    {
     "data": {
      "text/plain": [
       "0    33\n",
       "1    66\n",
       "2    99\n",
       "Name: 2, dtype: int64"
      ]
     },
     "execution_count": 338,
     "metadata": {},
     "output_type": "execute_result"
    }
   ],
   "source": [
    "df1[2]"
   ]
  },
  {
   "cell_type": "code",
   "execution_count": 339,
   "id": "3a893f57-9b98-499d-84e7-0ff53f50b3db",
   "metadata": {},
   "outputs": [],
   "source": [
    "#df1[-1]                            # 에러 발생. 이건 안됨"
   ]
  },
  {
   "cell_type": "code",
   "execution_count": 340,
   "id": "9f8ec1f6-3bab-4c8d-bac7-7d1278b989bb",
   "metadata": {},
   "outputs": [
    {
     "data": {
      "text/html": [
       "<div>\n",
       "<style scoped>\n",
       "    .dataframe tbody tr th:only-of-type {\n",
       "        vertical-align: middle;\n",
       "    }\n",
       "\n",
       "    .dataframe tbody tr th {\n",
       "        vertical-align: top;\n",
       "    }\n",
       "\n",
       "    .dataframe thead th {\n",
       "        text-align: right;\n",
       "    }\n",
       "</style>\n",
       "<table border=\"1\" class=\"dataframe\">\n",
       "  <thead>\n",
       "    <tr style=\"text-align: right;\">\n",
       "      <th></th>\n",
       "      <th>A</th>\n",
       "      <th>B</th>\n",
       "      <th>C</th>\n",
       "    </tr>\n",
       "  </thead>\n",
       "  <tbody>\n",
       "    <tr>\n",
       "      <th>0</th>\n",
       "      <td>11</td>\n",
       "      <td>22</td>\n",
       "      <td>33</td>\n",
       "    </tr>\n",
       "    <tr>\n",
       "      <th>1</th>\n",
       "      <td>44</td>\n",
       "      <td>55</td>\n",
       "      <td>66</td>\n",
       "    </tr>\n",
       "    <tr>\n",
       "      <th>2</th>\n",
       "      <td>77</td>\n",
       "      <td>88</td>\n",
       "      <td>99</td>\n",
       "    </tr>\n",
       "  </tbody>\n",
       "</table>\n",
       "</div>"
      ],
      "text/plain": [
       "    A   B   C\n",
       "0  11  22  33\n",
       "1  44  55  66\n",
       "2  77  88  99"
      ]
     },
     "execution_count": 340,
     "metadata": {},
     "output_type": "execute_result"
    }
   ],
   "source": [
    "## 컬럼변경 =======================================================\n",
    "df1.columns = ['A', 'B', 'C']\n",
    "df1"
   ]
  },
  {
   "cell_type": "code",
   "execution_count": 341,
   "id": "37348c5f-e42f-4d0f-99f1-fc914a43b715",
   "metadata": {},
   "outputs": [
    {
     "data": {
      "text/plain": [
       "0    11\n",
       "1    44\n",
       "2    77\n",
       "Name: A, dtype: int64"
      ]
     },
     "execution_count": 341,
     "metadata": {},
     "output_type": "execute_result"
    }
   ],
   "source": [
    "df1['A']"
   ]
  },
  {
   "cell_type": "code",
   "execution_count": 342,
   "id": "27cb10d4-ab64-43d1-94e7-db123c3e71d1",
   "metadata": {},
   "outputs": [
    {
     "data": {
      "text/plain": [
       "0    11\n",
       "1    44\n",
       "2    77\n",
       "Name: A, dtype: int64"
      ]
     },
     "execution_count": 342,
     "metadata": {},
     "output_type": "execute_result"
    }
   ],
   "source": [
    "df1.A                    # column 가져올때 대괄호없이 마침표하고 컴럼 변수명 바로 적어도 ㄱㅊ"
   ]
  },
  {
   "cell_type": "code",
   "execution_count": 343,
   "id": "5a550489-be35-4d08-a31a-6ec44ed8ba07",
   "metadata": {},
   "outputs": [],
   "source": [
    "#df1[0]                    # column에서는 이게 안먹힘"
   ]
  },
  {
   "cell_type": "code",
   "execution_count": 344,
   "id": "144e4611-2dde-4a07-8eb1-887ca0d4eea6",
   "metadata": {},
   "outputs": [],
   "source": [
    "df1.columns = [0, 1, 2]"
   ]
  },
  {
   "cell_type": "code",
   "execution_count": 345,
   "id": "635226e6-650c-48f6-804f-3dd9814b25d8",
   "metadata": {},
   "outputs": [
    {
     "data": {
      "text/plain": [
       "0    11\n",
       "1    44\n",
       "2    77\n",
       "Name: 0, dtype: int64"
      ]
     },
     "execution_count": 345,
     "metadata": {},
     "output_type": "execute_result"
    }
   ],
   "source": [
    "df1[0]                          # 이르케하면 콜럼 이름이 바뀐거라 ㄱㅊ"
   ]
  },
  {
   "cell_type": "code",
   "execution_count": 346,
   "id": "0f768b53-b96d-4d78-bc07-cfb318a228cd",
   "metadata": {},
   "outputs": [],
   "source": [
    "# 컬럼 레이블 설정 후 정수 인덱싱 불가!!\n",
    "#df1.0                           # 그러나 숫자는 콜럼 이름이라도 이 방식은 불가능"
   ]
  },
  {
   "cell_type": "markdown",
   "id": "d410b9cb-747d-47c1-8721-2bf17d84630e",
   "metadata": {},
   "source": [
    "- 로우 즉 행 (row) 읽기   ==> 방법 2가지\n",
    "  * 위  치 인덱스로 읽기 : 객체변수명.iloc[인덱스]                  (i는 int이다.)\n",
    "  * 레이블 인덱스로 읽기 : 객체변수명.loc[인덱스]"
   ]
  },
  {
   "cell_type": "code",
   "execution_count": 347,
   "id": "a3aa3923-ba05-41b7-8edc-cb511bb7699d",
   "metadata": {},
   "outputs": [
    {
     "data": {
      "text/html": [
       "<div>\n",
       "<style scoped>\n",
       "    .dataframe tbody tr th:only-of-type {\n",
       "        vertical-align: middle;\n",
       "    }\n",
       "\n",
       "    .dataframe tbody tr th {\n",
       "        vertical-align: top;\n",
       "    }\n",
       "\n",
       "    .dataframe thead th {\n",
       "        text-align: right;\n",
       "    }\n",
       "</style>\n",
       "<table border=\"1\" class=\"dataframe\">\n",
       "  <thead>\n",
       "    <tr style=\"text-align: right;\">\n",
       "      <th></th>\n",
       "      <th>0</th>\n",
       "      <th>1</th>\n",
       "      <th>2</th>\n",
       "    </tr>\n",
       "  </thead>\n",
       "  <tbody>\n",
       "    <tr>\n",
       "      <th>0</th>\n",
       "      <td>11</td>\n",
       "      <td>22</td>\n",
       "      <td>33</td>\n",
       "    </tr>\n",
       "    <tr>\n",
       "      <th>1</th>\n",
       "      <td>44</td>\n",
       "      <td>55</td>\n",
       "      <td>66</td>\n",
       "    </tr>\n",
       "    <tr>\n",
       "      <th>2</th>\n",
       "      <td>77</td>\n",
       "      <td>88</td>\n",
       "      <td>99</td>\n",
       "    </tr>\n",
       "  </tbody>\n",
       "</table>\n",
       "</div>"
      ],
      "text/plain": [
       "    0   1   2\n",
       "0  11  22  33\n",
       "1  44  55  66\n",
       "2  77  88  99"
      ]
     },
     "execution_count": 347,
     "metadata": {},
     "output_type": "execute_result"
    }
   ],
   "source": [
    "df1"
   ]
  },
  {
   "cell_type": "code",
   "execution_count": 348,
   "id": "2c7c4b86-83df-4c2b-b697-5ca76a295c9f",
   "metadata": {},
   "outputs": [],
   "source": [
    "df1.index = ['one', 'two', 'three']          # 행 인덱스 변경함"
   ]
  },
  {
   "cell_type": "code",
   "execution_count": 349,
   "id": "d9b4b3f7-d32f-4603-8afa-ecc71077ee7b",
   "metadata": {},
   "outputs": [
    {
     "data": {
      "text/html": [
       "<div>\n",
       "<style scoped>\n",
       "    .dataframe tbody tr th:only-of-type {\n",
       "        vertical-align: middle;\n",
       "    }\n",
       "\n",
       "    .dataframe tbody tr th {\n",
       "        vertical-align: top;\n",
       "    }\n",
       "\n",
       "    .dataframe thead th {\n",
       "        text-align: right;\n",
       "    }\n",
       "</style>\n",
       "<table border=\"1\" class=\"dataframe\">\n",
       "  <thead>\n",
       "    <tr style=\"text-align: right;\">\n",
       "      <th></th>\n",
       "      <th>0</th>\n",
       "      <th>1</th>\n",
       "      <th>2</th>\n",
       "    </tr>\n",
       "  </thead>\n",
       "  <tbody>\n",
       "    <tr>\n",
       "      <th>one</th>\n",
       "      <td>11</td>\n",
       "      <td>22</td>\n",
       "      <td>33</td>\n",
       "    </tr>\n",
       "    <tr>\n",
       "      <th>two</th>\n",
       "      <td>44</td>\n",
       "      <td>55</td>\n",
       "      <td>66</td>\n",
       "    </tr>\n",
       "    <tr>\n",
       "      <th>three</th>\n",
       "      <td>77</td>\n",
       "      <td>88</td>\n",
       "      <td>99</td>\n",
       "    </tr>\n",
       "  </tbody>\n",
       "</table>\n",
       "</div>"
      ],
      "text/plain": [
       "        0   1   2\n",
       "one    11  22  33\n",
       "two    44  55  66\n",
       "three  77  88  99"
      ]
     },
     "execution_count": 349,
     "metadata": {},
     "output_type": "execute_result"
    }
   ],
   "source": [
    "df1"
   ]
  },
  {
   "cell_type": "code",
   "execution_count": 350,
   "id": "cc0cf98f-0752-4b88-a928-e1b6e2034a56",
   "metadata": {},
   "outputs": [
    {
     "data": {
      "text/plain": [
       "pandas.core.series.Series"
      ]
     },
     "execution_count": 350,
     "metadata": {},
     "output_type": "execute_result"
    }
   ],
   "source": [
    "one = df1.loc['one']                  # 레이블 인덱스\n",
    "type(one)"
   ]
  },
  {
   "cell_type": "code",
   "execution_count": 351,
   "id": "578428af-f1b8-4f20-bf65-1bdfa01832c5",
   "metadata": {},
   "outputs": [
    {
     "data": {
      "text/plain": [
       "pandas.core.series.Series"
      ]
     },
     "execution_count": 351,
     "metadata": {},
     "output_type": "execute_result"
    }
   ],
   "source": [
    "zero = df1.iloc[0]                    # 정수 인덱스\n",
    "type(zero)"
   ]
  },
  {
   "cell_type": "markdown",
   "id": "ca9ebc88-ae22-4d1e-9a27-e20971b6ff4d",
   "metadata": {},
   "source": [
    "(6) 모든 원소를 한번에 한개씩만 출력"
   ]
  },
  {
   "cell_type": "code",
   "execution_count": 352,
   "id": "bb0f7db1-b372-4b09-86aa-7d9db07baa52",
   "metadata": {},
   "outputs": [
    {
     "data": {
      "text/html": [
       "<div>\n",
       "<style scoped>\n",
       "    .dataframe tbody tr th:only-of-type {\n",
       "        vertical-align: middle;\n",
       "    }\n",
       "\n",
       "    .dataframe tbody tr th {\n",
       "        vertical-align: top;\n",
       "    }\n",
       "\n",
       "    .dataframe thead th {\n",
       "        text-align: right;\n",
       "    }\n",
       "</style>\n",
       "<table border=\"1\" class=\"dataframe\">\n",
       "  <thead>\n",
       "    <tr style=\"text-align: right;\">\n",
       "      <th></th>\n",
       "      <th>0</th>\n",
       "      <th>1</th>\n",
       "      <th>2</th>\n",
       "    </tr>\n",
       "  </thead>\n",
       "  <tbody>\n",
       "    <tr>\n",
       "      <th>one</th>\n",
       "      <td>11</td>\n",
       "      <td>22</td>\n",
       "      <td>33</td>\n",
       "    </tr>\n",
       "    <tr>\n",
       "      <th>two</th>\n",
       "      <td>44</td>\n",
       "      <td>55</td>\n",
       "      <td>66</td>\n",
       "    </tr>\n",
       "    <tr>\n",
       "      <th>three</th>\n",
       "      <td>77</td>\n",
       "      <td>88</td>\n",
       "      <td>99</td>\n",
       "    </tr>\n",
       "  </tbody>\n",
       "</table>\n",
       "</div>"
      ],
      "text/plain": [
       "        0   1   2\n",
       "one    11  22  33\n",
       "two    44  55  66\n",
       "three  77  88  99"
      ]
     },
     "execution_count": 352,
     "metadata": {},
     "output_type": "execute_result"
    }
   ],
   "source": [
    "df1"
   ]
  },
  {
   "cell_type": "code",
   "execution_count": 353,
   "id": "406a2a41-7a46-4937-a103-ae393066d842",
   "metadata": {},
   "outputs": [
    {
     "data": {
      "text/plain": [
       "(11, 22, 33, 44, 55, 66)"
      ]
     },
     "execution_count": 353,
     "metadata": {},
     "output_type": "execute_result"
    }
   ],
   "source": [
    "# 내가 한 방식\n",
    "list1 = df1.iloc[0]\n",
    "list2 = df1.iloc[1]\n",
    "list1[0], list1[1], list1[2], list2[0], list2[1], list2[2]"
   ]
  },
  {
   "cell_type": "markdown",
   "id": "4f8586d4-ca3e-4120-842d-ae5fc1db7972",
   "metadata": {},
   "source": [
    "- 객체변수명.iloc[행인덱스, 열인덱스]  /  객체변수명.loc[행레이블, 열레이블 or 열인덱스]"
   ]
  },
  {
   "cell_type": "code",
   "execution_count": 354,
   "id": "6c1ae319-7fee-402f-91f1-c1d6d7251bde",
   "metadata": {},
   "outputs": [
    {
     "data": {
      "text/plain": [
       "(11, 33, 44, 66)"
      ]
     },
     "execution_count": 354,
     "metadata": {},
     "output_type": "execute_result"
    }
   ],
   "source": [
    "df1.iloc[0,0], df1.iloc[0,2], df1.iloc[1,0], df1.iloc[1,2]"
   ]
  },
  {
   "cell_type": "code",
   "execution_count": 355,
   "id": "438bfc05-6e6a-4dc2-baff-5ef05c99a756",
   "metadata": {},
   "outputs": [
    {
     "data": {
      "text/plain": [
       "(11, 33, 44)"
      ]
     },
     "execution_count": 355,
     "metadata": {},
     "output_type": "execute_result"
    }
   ],
   "source": [
    "df1.loc['one',0], df1.loc['one',2], df1.loc['two',0]       #열은 따로 레이블이 없으니 그대로 해도 ㄱㅊ (loc이지만 가능)"
   ]
  },
  {
   "cell_type": "code",
   "execution_count": 356,
   "id": "c15e7976-5582-4588-8197-d74c55973ee8",
   "metadata": {},
   "outputs": [
    {
     "data": {
      "text/html": [
       "<div>\n",
       "<style scoped>\n",
       "    .dataframe tbody tr th:only-of-type {\n",
       "        vertical-align: middle;\n",
       "    }\n",
       "\n",
       "    .dataframe tbody tr th {\n",
       "        vertical-align: top;\n",
       "    }\n",
       "\n",
       "    .dataframe thead th {\n",
       "        text-align: right;\n",
       "    }\n",
       "</style>\n",
       "<table border=\"1\" class=\"dataframe\">\n",
       "  <thead>\n",
       "    <tr style=\"text-align: right;\">\n",
       "      <th></th>\n",
       "      <th>A</th>\n",
       "      <th>B</th>\n",
       "      <th>C</th>\n",
       "    </tr>\n",
       "  </thead>\n",
       "  <tbody>\n",
       "    <tr>\n",
       "      <th>one</th>\n",
       "      <td>11</td>\n",
       "      <td>22</td>\n",
       "      <td>33</td>\n",
       "    </tr>\n",
       "    <tr>\n",
       "      <th>two</th>\n",
       "      <td>44</td>\n",
       "      <td>55</td>\n",
       "      <td>66</td>\n",
       "    </tr>\n",
       "    <tr>\n",
       "      <th>three</th>\n",
       "      <td>77</td>\n",
       "      <td>88</td>\n",
       "      <td>99</td>\n",
       "    </tr>\n",
       "  </tbody>\n",
       "</table>\n",
       "</div>"
      ],
      "text/plain": [
       "        A   B   C\n",
       "one    11  22  33\n",
       "two    44  55  66\n",
       "three  77  88  99"
      ]
     },
     "execution_count": 356,
     "metadata": {},
     "output_type": "execute_result"
    }
   ],
   "source": [
    "# 컬럼명 변경 => 객체변수명.columns = 새로운 컬럼명\n",
    "df1.columns = ['A', 'B', 'C']\n",
    "df1"
   ]
  },
  {
   "cell_type": "code",
   "execution_count": 357,
   "id": "47a4c0b8-4e4e-4ab2-a4c2-e8c22a5f47d0",
   "metadata": {},
   "outputs": [
    {
     "data": {
      "text/plain": [
       "(22, 66)"
      ]
     },
     "execution_count": 357,
     "metadata": {},
     "output_type": "execute_result"
    }
   ],
   "source": [
    "# 22와 66만 뽑기\n",
    "\n",
    "df1.loc['one','B'], df1.loc['two','C']"
   ]
  },
  {
   "cell_type": "code",
   "execution_count": 358,
   "id": "9f326b6b-e56c-4864-95f9-1b8c4d381363",
   "metadata": {},
   "outputs": [],
   "source": [
    "#df1.iloc[0, 'B']      #이렇게는 불가능  (iloc에는 무조건 숫자 해줘야함 . loc는 때에 따라 숫자도 같이 되지만)"
   ]
  },
  {
   "cell_type": "code",
   "execution_count": 359,
   "id": "bad0bb8d-72c1-4505-a011-7205fdec3f57",
   "metadata": {},
   "outputs": [
    {
     "data": {
      "text/plain": [
       "(22, 66)"
      ]
     },
     "execution_count": 359,
     "metadata": {},
     "output_type": "execute_result"
    }
   ],
   "source": [
    "df1.iloc[0,1], df1.iloc[1,2]        # 얘는 ㄱㅊ"
   ]
  },
  {
   "cell_type": "code",
   "execution_count": 360,
   "id": "cd35d480-c6e2-46f6-8e4e-c8c5c0faca0e",
   "metadata": {},
   "outputs": [
    {
     "data": {
      "text/plain": [
       "(22, 66)"
      ]
     },
     "execution_count": 360,
     "metadata": {},
     "output_type": "execute_result"
    }
   ],
   "source": [
    "df1.iloc[0][1], df1.iloc[1][2]                    # 이렇게도 가능. 1개의 시리즈에 인덱스로 접근 가능"
   ]
  },
  {
   "cell_type": "code",
   "execution_count": 361,
   "id": "44c0e2af-5b0b-40f6-a4fd-07473a0c5f02",
   "metadata": {},
   "outputs": [
    {
     "data": {
      "text/plain": [
       "(22, 66)"
      ]
     },
     "execution_count": 361,
     "metadata": {},
     "output_type": "execute_result"
    }
   ],
   "source": [
    "df1.loc['one']['B'], df1.loc['two']['C']          # 이렇게도 가능. 1개의 시리즈에 인덱스로 접근 가능"
   ]
  },
  {
   "cell_type": "code",
   "execution_count": 362,
   "id": "dbf8c1a3-e4ec-4bbe-a7f8-c18dc9cc7e1e",
   "metadata": {},
   "outputs": [
    {
     "data": {
      "text/plain": [
       "A    11\n",
       "B    22\n",
       "C    33\n",
       "Name: one, dtype: int64"
      ]
     },
     "execution_count": 362,
     "metadata": {},
     "output_type": "execute_result"
    }
   ],
   "source": [
    "zero = df1.iloc[0]\n",
    "zero                        # 컬럼명이 행인덱스로 그대로 결과값에 나옴. \n",
    "                            # 행이름이 name으로 들어감"
   ]
  },
  {
   "cell_type": "code",
   "execution_count": 363,
   "id": "6dc11430-c222-4bf9-a380-550ab80efaae",
   "metadata": {},
   "outputs": [
    {
     "data": {
      "text/plain": [
       "one      22\n",
       "two      55\n",
       "three    88\n",
       "Name: B, dtype: int64"
      ]
     },
     "execution_count": 363,
     "metadata": {},
     "output_type": "execute_result"
    }
   ],
   "source": [
    "zero = df1['B']\n",
    "zero                        # 행명이 행인덱스로 그대로 결과값에 나옴.\n",
    "                            # 컬럼명이 name으로 들어감"
   ]
  },
  {
   "cell_type": "code",
   "execution_count": 364,
   "id": "7bd50a10-a0ed-47b5-a01b-5363458d2571",
   "metadata": {},
   "outputs": [
    {
     "data": {
      "text/plain": [
       "(Index(['one', 'two', 'three'], dtype='object'),\n",
       " Index(['A', 'B', 'C'], dtype='object'))"
      ]
     },
     "execution_count": 364,
     "metadata": {},
     "output_type": "execute_result"
    }
   ],
   "source": [
    "df1.index, df1.columns"
   ]
  },
  {
   "cell_type": "code",
   "execution_count": 365,
   "id": "e6a38ce9-08a9-434e-8edb-1d9d7ff55e64",
   "metadata": {},
   "outputs": [
    {
     "data": {
      "text/plain": [
       "(3, 3)"
      ]
     },
     "execution_count": 365,
     "metadata": {},
     "output_type": "execute_result"
    }
   ],
   "source": [
    "df1.shape"
   ]
  },
  {
   "cell_type": "code",
   "execution_count": 366,
   "id": "4eeb8328-f2f3-4ecc-9f53-d292b2aacaff",
   "metadata": {},
   "outputs": [
    {
     "data": {
      "text/plain": [
       "(3, 3)"
      ]
     },
     "execution_count": 366,
     "metadata": {},
     "output_type": "execute_result"
    }
   ],
   "source": [
    "df1.shape[0],  df1.shape[1]"
   ]
  },
  {
   "cell_type": "markdown",
   "id": "b09cfd25-5112-4f9a-acfe-047f8a4afd02",
   "metadata": {},
   "source": [
    "- iloc를 활용한 모든 원소 출력 ==> 행과 열의 번호 필요"
   ]
  },
  {
   "cell_type": "code",
   "execution_count": 367,
   "id": "49463402-5183-43df-b6f3-fd1dbaa3fa95",
   "metadata": {},
   "outputs": [
    {
     "name": "stdout",
     "output_type": "stream",
     "text": [
      "0\n",
      "0 0 11\n",
      "0 1 22\n",
      "0 2 33\n",
      "1\n",
      "1 0 44\n",
      "1 1 55\n",
      "1 2 66\n",
      "2\n",
      "2 0 77\n",
      "2 1 88\n",
      "2 2 99\n"
     ]
    }
   ],
   "source": [
    "for row in range(df1.shape[0]):\n",
    "    print(row)\n",
    "    for col in range(df1.shape[1]):\n",
    "        print(row, col, df1.iloc[row,col])"
   ]
  },
  {
   "cell_type": "markdown",
   "id": "29918c52-9049-406c-bcd9-73c0e41a4ea4",
   "metadata": {},
   "source": [
    "- loc를 활용한 모든 원소 출력 ==> 행 레이블/이름과 열 레이블/이름 필요"
   ]
  },
  {
   "cell_type": "code",
   "execution_count": 368,
   "id": "81186763-5e0d-4a1f-9a9f-8780d71e43aa",
   "metadata": {},
   "outputs": [
    {
     "data": {
      "text/plain": [
       "(Index(['one', 'two', 'three'], dtype='object'),\n",
       " Index(['A', 'B', 'C'], dtype='object'))"
      ]
     },
     "execution_count": 368,
     "metadata": {},
     "output_type": "execute_result"
    }
   ],
   "source": [
    "df1.index, df1.columns"
   ]
  },
  {
   "cell_type": "code",
   "execution_count": 369,
   "id": "56730655-087d-4f05-9e50-6c6a925e91dc",
   "metadata": {},
   "outputs": [
    {
     "name": "stdout",
     "output_type": "stream",
     "text": [
      "one\n",
      "--- A 11\n",
      "--- B 22\n",
      "--- C 33\n",
      "two\n",
      "--- A 44\n",
      "--- B 55\n",
      "--- C 66\n",
      "three\n",
      "--- A 77\n",
      "--- B 88\n",
      "--- C 99\n"
     ]
    }
   ],
   "source": [
    "for row in df1.index:\n",
    "    print(row)\n",
    "    for col in df1.columns:\n",
    "        print('---', col, df1.loc[row, col])"
   ]
  },
  {
   "cell_type": "markdown",
   "id": "638b667b-746a-466e-8bb4-c34efa09848f",
   "metadata": {},
   "source": [
    "#### [ 문제 ] one, three 행을 선택 후 저장하기"
   ]
  },
  {
   "cell_type": "code",
   "execution_count": 370,
   "id": "737b6e30-4b64-4a04-a1ea-e49f03706c49",
   "metadata": {},
   "outputs": [
    {
     "data": {
      "text/plain": [
       "(pandas.core.frame.DataFrame,\n",
       "         A   B   C\n",
       " one    11  22  33\n",
       " three  77  88  99)"
      ]
     },
     "execution_count": 370,
     "metadata": {},
     "output_type": "execute_result"
    }
   ],
   "source": [
    "onethreeDF = df1.loc[['one', 'three']]      # 1개만 뽑으면 시리즈이지만 2개이상 뽑으면 데이터프레임이 된다.\n",
    "type(onethreeDF), onethreeDF"
   ]
  },
  {
   "cell_type": "code",
   "execution_count": 371,
   "id": "486c7dcd-76a2-4123-bb4a-c7b9db5c9a0b",
   "metadata": {},
   "outputs": [
    {
     "data": {
      "text/html": [
       "<div>\n",
       "<style scoped>\n",
       "    .dataframe tbody tr th:only-of-type {\n",
       "        vertical-align: middle;\n",
       "    }\n",
       "\n",
       "    .dataframe tbody tr th {\n",
       "        vertical-align: top;\n",
       "    }\n",
       "\n",
       "    .dataframe thead th {\n",
       "        text-align: right;\n",
       "    }\n",
       "</style>\n",
       "<table border=\"1\" class=\"dataframe\">\n",
       "  <thead>\n",
       "    <tr style=\"text-align: right;\">\n",
       "      <th></th>\n",
       "      <th>A</th>\n",
       "      <th>B</th>\n",
       "      <th>C</th>\n",
       "    </tr>\n",
       "  </thead>\n",
       "  <tbody>\n",
       "    <tr>\n",
       "      <th>one</th>\n",
       "      <td>11</td>\n",
       "      <td>22</td>\n",
       "      <td>33</td>\n",
       "    </tr>\n",
       "  </tbody>\n",
       "</table>\n",
       "</div>"
      ],
      "text/plain": [
       "      A   B   C\n",
       "one  11  22  33"
      ]
     },
     "execution_count": 371,
     "metadata": {},
     "output_type": "execute_result"
    }
   ],
   "source": [
    "df1.loc[['one']]                            #이렇게 리스트안에 행이름 넣으면 시리즈가 아닌 데이터프레임이 된다."
   ]
  },
  {
   "cell_type": "code",
   "execution_count": null,
   "id": "33f5bfc4-12cd-4439-aef9-7e44dcff62d7",
   "metadata": {},
   "outputs": [],
   "source": []
  }
 ],
 "metadata": {
  "kernelspec": {
   "display_name": "Python 3 (ipykernel)",
   "language": "python",
   "name": "python3"
  },
  "language_info": {
   "codemirror_mode": {
    "name": "ipython",
    "version": 3
   },
   "file_extension": ".py",
   "mimetype": "text/x-python",
   "name": "python",
   "nbconvert_exporter": "python",
   "pygments_lexer": "ipython3",
   "version": "3.8.18"
  }
 },
 "nbformat": 4,
 "nbformat_minor": 5
}
