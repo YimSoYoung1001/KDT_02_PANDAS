{
 "cells": [
  {
   "cell_type": "markdown",
   "id": "686df4b0-1abd-4ed7-ab38-ddb40d30e363",
   "metadata": {},
   "source": [
    "## [ 다양한 Series 객체 생성 ]"
   ]
  },
  {
   "cell_type": "markdown",
   "id": "52ab66cd-e1d1-455f-8a3d-ceac429d7f6e",
   "metadata": {},
   "source": [
    "#### (1) 모듈 로딩"
   ]
  },
  {
   "cell_type": "code",
   "execution_count": 4,
   "id": "b141cd83-c529-4c67-b76c-8c00f05c6161",
   "metadata": {},
   "outputs": [],
   "source": [
    "import pandas as pd"
   ]
  },
  {
   "cell_type": "markdown",
   "id": "8e0bd10b-24cd-493d-ab84-45d263478f03",
   "metadata": {},
   "source": [
    "#### (2) Series 객체 생성 - 방법1\n",
    "- Series(data, index = 지정)"
   ]
  },
  {
   "cell_type": "code",
   "execution_count": 5,
   "id": "c670434f-ea01-43f7-8dd8-9196852965c8",
   "metadata": {},
   "outputs": [],
   "source": [
    "sr1 = pd.Series([11,22,33], index = ['one','two','three'])"
   ]
  },
  {
   "cell_type": "code",
   "execution_count": 6,
   "id": "7bd747b1-2a07-4133-8ac6-73b3bc642ec9",
   "metadata": {},
   "outputs": [
    {
     "data": {
      "text/plain": [
       "one      11\n",
       "two      22\n",
       "three    33\n",
       "dtype: int64"
      ]
     },
     "execution_count": 6,
     "metadata": {},
     "output_type": "execute_result"
    }
   ],
   "source": [
    "sr1"
   ]
  },
  {
   "cell_type": "markdown",
   "id": "6a89c38e-2d4d-4b31-8703-d6438bdfc19d",
   "metadata": {},
   "source": [
    "#### (2) Series 객체 생성 - 방법2"
   ]
  },
  {
   "cell_type": "code",
   "execution_count": 7,
   "id": "86b77415-6c43-4ed1-b398-c84f2eea31be",
   "metadata": {},
   "outputs": [
    {
     "data": {
      "text/plain": [
       "one      11\n",
       "two      22\n",
       "three    33\n",
       "Name: jumsu, dtype: int64"
      ]
     },
     "execution_count": 7,
     "metadata": {},
     "output_type": "execute_result"
    }
   ],
   "source": [
    "sr1 = pd.Series([11,22,33], index = ['one','two','three'], name = 'jumsu')  \n",
    "#여기서 sr1은 series의 주소를 저장하는 변수명이다. 데이터의 이름은 jumsu로 새롭게 설정함.\n",
    "sr1"
   ]
  },
  {
   "cell_type": "markdown",
   "id": "69d27e2e-4124-4a11-85f5-3994e3531da8",
   "metadata": {},
   "source": [
    "#### (2) Series 객체 생성 - 방법3"
   ]
  },
  {
   "cell_type": "code",
   "execution_count": 8,
   "id": "4706f65e-c43a-4e81-9dfe-635ff983727e",
   "metadata": {},
   "outputs": [
    {
     "data": {
      "text/plain": [
       "one      11\n",
       "two      22\n",
       "three    33\n",
       "Name: jumsu, dtype: int8"
      ]
     },
     "execution_count": 8,
     "metadata": {},
     "output_type": "execute_result"
    }
   ],
   "source": [
    "sr1 = pd.Series([11,22,33], index=['one','two','three'],name='jumsu',dtype='int8')\n",
    "sr1                                                                      # 1바이트로 쓰겠다 (0~255)"
   ]
  },
  {
   "cell_type": "markdown",
   "id": "d55da6f6-7836-473d-9802-25c593b8f596",
   "metadata": {},
   "source": [
    "#### (2) Series 객체 생성 - 방법 4 => 저장되는 데이터 dict"
   ]
  },
  {
   "cell_type": "code",
   "execution_count": 9,
   "id": "4ddd98ad-a104-4c26-972f-4f4b66e16257",
   "metadata": {},
   "outputs": [
    {
     "data": {
      "text/plain": [
       "name    홍길동\n",
       "age      12\n",
       "job      도전\n",
       "dtype: object"
      ]
     },
     "execution_count": 9,
     "metadata": {},
     "output_type": "execute_result"
    }
   ],
   "source": [
    "data = {'name':'홍길동', 'age':12, 'job':'도전'}\n",
    "# 딕셔너리의 키가 레이블로 들어감\n",
    "sr1 = pd.Series(data)\n",
    "sr1"
   ]
  },
  {
   "cell_type": "code",
   "execution_count": 10,
   "id": "def5693a-2417-4038-a506-d7ad5ac21567",
   "metadata": {},
   "outputs": [
    {
     "name": "stdout",
     "output_type": "stream",
     "text": [
      "Index(['name', 'age', 'job'], dtype='object')\n",
      "['홍길동' 12 '도전']\n"
     ]
    }
   ],
   "source": [
    "# 속성 확인하기\n",
    "print(sr1.index , sr1.values, sep ='\\n')     #숫자와 문자열이 섞여있으면 타입은 오브젝트 (이렇게해야 데이터손실이 없음)"
   ]
  },
  {
   "cell_type": "markdown",
   "id": "23beb6d2-b62b-428f-b8f0-c502a3756062",
   "metadata": {},
   "source": [
    "#### (2) Series 객체 생성 - 방법 4 => 저장되는 데이터 set"
   ]
  },
  {
   "cell_type": "code",
   "execution_count": 11,
   "id": "f2265659-d53c-49ce-873e-4ea220beed51",
   "metadata": {},
   "outputs": [
    {
     "data": {
      "text/plain": [
       "1     도적\n",
       "2     12\n",
       "3    홍길동\n",
       "dtype: object"
      ]
     },
     "execution_count": 11,
     "metadata": {},
     "output_type": "execute_result"
    }
   ],
   "source": [
    "data = {'홍길동', 12, '도적'}         #set은 순서가 없고 중복이 불허한 종류임. \n",
    "# 형변환은 걍 기호 갖다쓰는게 아니라 함수를 써야함 ㅋㅋㅋㅋ (내가했던 실수ㅋㅎ)\n",
    "\n",
    "# 형변환 후 객체 생성 가능\n",
    "sr1 = pd.Series(list(data), index = [1,2,3])        \n",
    "sr1"
   ]
  },
  {
   "cell_type": "code",
   "execution_count": null,
   "id": "352a3700-3c7c-4b2c-a1e8-f97514df5ebb",
   "metadata": {},
   "outputs": [],
   "source": []
  }
 ],
 "metadata": {
  "kernelspec": {
   "display_name": "Python 3 (ipykernel)",
   "language": "python",
   "name": "python3"
  },
  "language_info": {
   "codemirror_mode": {
    "name": "ipython",
    "version": 3
   },
   "file_extension": ".py",
   "mimetype": "text/x-python",
   "name": "python",
   "nbconvert_exporter": "python",
   "pygments_lexer": "ipython3",
   "version": "3.8.18"
  }
 },
 "nbformat": 4,
 "nbformat_minor": 5
}
