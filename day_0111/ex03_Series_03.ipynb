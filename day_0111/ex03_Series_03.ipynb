{
 "cells": [
  {
   "cell_type": "markdown",
   "id": "08a14893-63ad-4193-b89e-68b4b87250b1",
   "metadata": {},
   "source": [
    "### [ Series 객체 원소 인덱싱 & 슬라이싱 ]"
   ]
  },
  {
   "cell_type": "markdown",
   "id": "cdef0530-3498-4771-9e36-d1e373969d44",
   "metadata": {},
   "source": [
    "#### (1) 모듈 로딩 ----------------------------------------------------"
   ]
  },
  {
   "cell_type": "code",
   "execution_count": 17,
   "id": "cd307955-e57d-495d-8cde-99f0442a8f85",
   "metadata": {},
   "outputs": [],
   "source": [
    "from pandas import Series"
   ]
  },
  {
   "cell_type": "markdown",
   "id": "cfac80a9-bbc2-4da9-9c8c-f16208c193c0",
   "metadata": {},
   "source": [
    "#### (2) 데이터 준비 ----------------------------------------------------"
   ]
  },
  {
   "cell_type": "code",
   "execution_count": 18,
   "id": "462a445b-465a-4f8c-8636-2c54e536d1e7",
   "metadata": {},
   "outputs": [],
   "source": [
    "datas = {'name':'홍길동', 'age': 12, 'job':'도적'}"
   ]
  },
  {
   "cell_type": "markdown",
   "id": "f4d3119e-b529-4f90-ac11-8fd7a09b460e",
   "metadata": {},
   "source": [
    "#### (3) Series 객체 생성 ----------------------------------------------------"
   ]
  },
  {
   "cell_type": "code",
   "execution_count": 19,
   "id": "229c6563-e4cf-4c4d-92f1-e77b0f88ae55",
   "metadata": {},
   "outputs": [],
   "source": [
    "sr1 = Series(datas)"
   ]
  },
  {
   "cell_type": "code",
   "execution_count": 20,
   "id": "50e95d5e-4ed1-4dcc-bcd3-3e3d6ea89527",
   "metadata": {},
   "outputs": [
    {
     "data": {
      "text/plain": [
       "name    홍길동\n",
       "age      12\n",
       "job      도적\n",
       "dtype: object"
      ]
     },
     "execution_count": 20,
     "metadata": {},
     "output_type": "execute_result"
    }
   ],
   "source": [
    "sr1"
   ]
  },
  {
   "cell_type": "markdown",
   "id": "2d7dab99-d4ee-4be4-9cef-57aeecc080eb",
   "metadata": {},
   "source": [
    "#### (4) 인덱싱으로 원소 읽기 ----------------------------------------------------\n",
    "#### => 1개 원소 읽기"
   ]
  },
  {
   "cell_type": "code",
   "execution_count": 21,
   "id": "d4c2f642-2889-4c57-b391-91d32e9ae3f0",
   "metadata": {},
   "outputs": [
    {
     "data": {
      "text/plain": [
       "(12, 12, Index(['name', 'age', 'job'], dtype='object'))"
      ]
     },
     "execution_count": 21,
     "metadata": {},
     "output_type": "execute_result"
    }
   ],
   "source": [
    "sr1['age'], sr1[1], sr1.index"
   ]
  },
  {
   "cell_type": "markdown",
   "id": "c4864c2c-3216-4c4a-ba56-509276719b17",
   "metadata": {},
   "source": [
    "#### ==> 2개 원소 읽기"
   ]
  },
  {
   "cell_type": "code",
   "execution_count": 22,
   "id": "42b70967-76b3-45a3-8e77-025fdefcf57e",
   "metadata": {},
   "outputs": [
    {
     "data": {
      "text/plain": [
       "('홍길동', '도적', '홍길동', '도적', str)"
      ]
     },
     "execution_count": 22,
     "metadata": {},
     "output_type": "execute_result"
    }
   ],
   "source": [
    "# 이름과 직업 데이터 읽기  ==> 원소 단위로 읽기\n",
    "sr1['name'], sr1['job'], sr1[0], sr1[2], type(sr1[0])"
   ]
  },
  {
   "cell_type": "code",
   "execution_count": 23,
   "id": "78feb771-4078-4eb2-a836-129e9fc794cf",
   "metadata": {},
   "outputs": [],
   "source": [
    "a = [1, 2, 3]\n",
    "b = (11, 22, 33)"
   ]
  },
  {
   "cell_type": "code",
   "execution_count": 24,
   "id": "57057331-30a1-4abe-9185-2fe5af97e289",
   "metadata": {},
   "outputs": [
    {
     "data": {
      "text/plain": [
       "(1, int, [1], list)"
      ]
     },
     "execution_count": 24,
     "metadata": {},
     "output_type": "execute_result"
    }
   ],
   "source": [
    "a[0], type(a[0]), a[:1], type(a[:1])"
   ]
  },
  {
   "cell_type": "code",
   "execution_count": 25,
   "id": "3e4f47a1-74ab-4c05-8070-e0e3441cc09d",
   "metadata": {},
   "outputs": [
    {
     "data": {
      "text/plain": [
       "(pandas.core.series.Series,\n",
       " name    홍길동\n",
       " job      도적\n",
       " dtype: object)"
      ]
     },
     "execution_count": 25,
     "metadata": {},
     "output_type": "execute_result"
    }
   ],
   "source": [
    "# 이름과 직업 데이터 읽기  ==> 리스트 단위로 읽기\n",
    "ret = sr1[['name','job']]      \n",
    "ret2 = sr1[[0, 2]]\n",
    "type(ret), ret\n",
    "\n",
    "# 갖고싶은 인덱스를 리스트로 갖고나오면 시리즈로 인출됨."
   ]
  },
  {
   "cell_type": "code",
   "execution_count": 26,
   "id": "8ab30d87-1529-4d95-8ca0-7805cea91cab",
   "metadata": {},
   "outputs": [
    {
     "data": {
      "text/plain": [
       "(pandas.core.series.Series,\n",
       " name    홍길동\n",
       " job      도적\n",
       " dtype: object)"
      ]
     },
     "execution_count": 26,
     "metadata": {},
     "output_type": "execute_result"
    }
   ],
   "source": [
    "type(ret2), ret2"
   ]
  },
  {
   "cell_type": "markdown",
   "id": "28923dfc-f4b7-4565-b52c-921b1f5a923b",
   "metadata": {},
   "source": [
    "#### (4) 슬라이싱으로 원소 읽기 --------------------------------------"
   ]
  },
  {
   "cell_type": "markdown",
   "id": "9a8a3394-d7c6-4f95-b120-2c1289a5dee4",
   "metadata": {},
   "source": [
    "- 위치 인덱스로 슬라이싱 -------------------------------------\n"
   ]
  },
  {
   "cell_type": "code",
   "execution_count": 27,
   "id": "edeb6071-2a9c-4c74-8d05-3ad8d7f9e7c9",
   "metadata": {},
   "outputs": [
    {
     "data": {
      "text/plain": [
       "name    홍길동\n",
       "age      12\n",
       "dtype: object"
      ]
     },
     "execution_count": 27,
     "metadata": {},
     "output_type": "execute_result"
    }
   ],
   "source": [
    "sr1[:2]         # 시작 <= ~ < 끝\n",
    "#시리즈를 슬라이싱하면 시리즈가 나옴"
   ]
  },
  {
   "cell_type": "code",
   "execution_count": 28,
   "id": "44f74367-115d-414d-a272-6f4b5ea2ccbe",
   "metadata": {},
   "outputs": [
    {
     "data": {
      "text/plain": [
       "name    홍길동\n",
       "age      12\n",
       "job      도적\n",
       "dtype: object"
      ]
     },
     "execution_count": 28,
     "metadata": {},
     "output_type": "execute_result"
    }
   ],
   "source": [
    "sr1[:]         # 시작 <= ~ < 끝"
   ]
  },
  {
   "cell_type": "code",
   "execution_count": 29,
   "id": "5b4c9445-309b-4657-9a23-f7e5c7b90e6e",
   "metadata": {},
   "outputs": [
    {
     "data": {
      "text/plain": [
       "name    홍길동\n",
       "age      12\n",
       "dtype: object"
      ]
     },
     "execution_count": 29,
     "metadata": {},
     "output_type": "execute_result"
    }
   ],
   "source": [
    "sr1[:-1]         # 시작 <= ~ < 끝"
   ]
  },
  {
   "cell_type": "code",
   "execution_count": 30,
   "id": "918b0c70-92f3-46e2-b260-aeeb32fd656b",
   "metadata": {},
   "outputs": [
    {
     "data": {
      "text/plain": [
       "name    홍길동\n",
       "dtype: object"
      ]
     },
     "execution_count": 30,
     "metadata": {},
     "output_type": "execute_result"
    }
   ],
   "source": [
    "sr1[:-2]         # 시작 <= ~ < 끝"
   ]
  },
  {
   "cell_type": "markdown",
   "id": "642d6aec-85b2-4b4b-9a7b-e4a0bd09af5e",
   "metadata": {},
   "source": [
    "- 레이블 인덱스로 슬라이싱 ------------------------------"
   ]
  },
  {
   "cell_type": "code",
   "execution_count": 31,
   "id": "35924647-2dda-4458-82d0-ec338ba8cc6f",
   "metadata": {},
   "outputs": [
    {
     "data": {
      "text/plain": [
       "name    홍길동\n",
       "age      12\n",
       "job      도적\n",
       "dtype: object"
      ]
     },
     "execution_count": 31,
     "metadata": {},
     "output_type": "execute_result"
    }
   ],
   "source": [
    "sr1['name':'job']                 # 시작 <= ~ <= 끝 "
   ]
  },
  {
   "cell_type": "code",
   "execution_count": 32,
   "id": "a47ba3ea-ddcd-4218-8f0a-4de3394c8abd",
   "metadata": {},
   "outputs": [
    {
     "data": {
      "text/plain": [
       "name    홍길동\n",
       "age      12\n",
       "dtype: object"
      ]
     },
     "execution_count": 32,
     "metadata": {},
     "output_type": "execute_result"
    }
   ],
   "source": [
    "sr1['name':'age']                  # 시작 <= ~ <= 끝  == sr1[:2]"
   ]
  },
  {
   "cell_type": "code",
   "execution_count": null,
   "id": "fcc85ec8-e7d3-471c-8ddc-486178fddc93",
   "metadata": {},
   "outputs": [],
   "source": []
  }
 ],
 "metadata": {
  "kernelspec": {
   "display_name": "Python 3 (ipykernel)",
   "language": "python",
   "name": "python3"
  },
  "language_info": {
   "codemirror_mode": {
    "name": "ipython",
    "version": 3
   },
   "file_extension": ".py",
   "mimetype": "text/x-python",
   "name": "python",
   "nbconvert_exporter": "python",
   "pygments_lexer": "ipython3",
   "version": "3.8.18"
  }
 },
 "nbformat": 4,
 "nbformat_minor": 5
}
