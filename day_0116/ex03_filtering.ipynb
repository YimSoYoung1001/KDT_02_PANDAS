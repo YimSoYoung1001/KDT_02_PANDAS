{
 "cells": [
  {
   "cell_type": "markdown",
   "id": "ef45b608-c819-412c-8279-63ce57e3be7d",
   "metadata": {},
   "source": [
    "### [ 데이터 필터링 ]\n",
    "- 원하는 데이터를 추출하기 위해서 사용하는 방법\n",
    "- 원하는 데이터 걸러내겠다는 의미\n",
    "- 다양한 조건 검사 진행 => 비교 검사 : 같다 == , 같지 않다 != , 크다 > , 크거나 같다 >=, 작다 < , 작거나 같다 <="
   ]
  },
  {
   "cell_type": "markdown",
   "id": "3ff71b0e-ce74-482f-8311-c806ca7fa6ce",
   "metadata": {},
   "source": [
    "(1) 모듈 로딩"
   ]
  },
  {
   "cell_type": "code",
   "execution_count": 213,
   "id": "f22f1c72-8712-431e-8725-2c57dc68881a",
   "metadata": {},
   "outputs": [],
   "source": [
    "import numpy as np\n",
    "import pandas as pd"
   ]
  },
  {
   "cell_type": "markdown",
   "id": "07e0012f-b386-4564-a2f8-7e5f91a78bbe",
   "metadata": {},
   "source": [
    "(2) 데이터 준비 "
   ]
  },
  {
   "cell_type": "code",
   "execution_count": 214,
   "id": "e673a0c0-6c3e-4a22-9f40-473eb1150106",
   "metadata": {},
   "outputs": [],
   "source": [
    "file = '../DATA/employees.csv'"
   ]
  },
  {
   "cell_type": "markdown",
   "id": "ca09f2e2-da92-478b-b5b8-dc122bd5fa48",
   "metadata": {},
   "source": [
    "(3) 데이터 저장"
   ]
  },
  {
   "cell_type": "code",
   "execution_count": 215,
   "id": "c5ed0e54-ed30-4fc9-aa05-1f5924a07896",
   "metadata": {},
   "outputs": [],
   "source": [
    "empDF = pd.read_csv(file)"
   ]
  },
  {
   "cell_type": "markdown",
   "id": "6d872f6c-9cc7-4797-951b-639227b13e25",
   "metadata": {},
   "source": [
    "(4) 데이터 확인"
   ]
  },
  {
   "cell_type": "markdown",
   "id": "e27b2bf0-cb19-4fda-a9ea-b52be90d554e",
   "metadata": {},
   "source": [
    "(5) 데이터 필터링"
   ]
  },
  {
   "cell_type": "code",
   "execution_count": 216,
   "id": "f5008090-e4ee-4703-92a0-9808fb704ed8",
   "metadata": {},
   "outputs": [
    {
     "data": {
      "text/plain": [
       "(True, False)"
      ]
     },
     "execution_count": 216,
     "metadata": {},
     "output_type": "execute_result"
    }
   ],
   "source": [
    "'Happy' == 'Happy', 'Happy' == 'happy'"
   ]
  },
  {
   "cell_type": "markdown",
   "id": "ec59746b-620f-436a-946a-dbe174be0595",
   "metadata": {},
   "source": [
    "- [ 문제 ] 데이터에서 이름이 Maria인 데이터만 추출"
   ]
  },
  {
   "cell_type": "code",
   "execution_count": 217,
   "id": "b28803a2-e387-4920-be04-17d15473218f",
   "metadata": {},
   "outputs": [
    {
     "name": "stdout",
     "output_type": "stream",
     "text": [
      "Index(['First Name', 'Gender', 'Start Date', 'Salary', 'Mgmt', 'Team'], dtype='object')\n",
      "\n",
      "RangeIndex(start=0, stop=1001, step=1)\n"
     ]
    }
   ],
   "source": [
    "print(empDF.columns, empDF.index, sep='\\n\\n')"
   ]
  },
  {
   "cell_type": "markdown",
   "id": "4395ad1b-3412-4a59-be8e-8fa6d0b8ce80",
   "metadata": {},
   "source": [
    "- bool 값으로 구성된 데이터 ==> 불린인덱싱 (Boolean Indexing)"
   ]
  },
  {
   "cell_type": "code",
   "execution_count": 218,
   "id": "58e9391a-3fc0-47af-aca3-d1f5240d3c7c",
   "metadata": {},
   "outputs": [
    {
     "data": {
      "text/plain": [
       "6"
      ]
     },
     "execution_count": 218,
     "metadata": {},
     "output_type": "execute_result"
    }
   ],
   "source": [
    "(empDF['First Name'] == 'Maria').sum()\n",
    "# True이면 1의 값을 가지니까"
   ]
  },
  {
   "cell_type": "code",
   "execution_count": 219,
   "id": "12c8ce0f-99fe-4f44-bb2a-c49b0b299a8b",
   "metadata": {},
   "outputs": [
    {
     "data": {
      "text/html": [
       "<div>\n",
       "<style scoped>\n",
       "    .dataframe tbody tr th:only-of-type {\n",
       "        vertical-align: middle;\n",
       "    }\n",
       "\n",
       "    .dataframe tbody tr th {\n",
       "        vertical-align: top;\n",
       "    }\n",
       "\n",
       "    .dataframe thead th {\n",
       "        text-align: right;\n",
       "    }\n",
       "</style>\n",
       "<table border=\"1\" class=\"dataframe\">\n",
       "  <thead>\n",
       "    <tr style=\"text-align: right;\">\n",
       "      <th></th>\n",
       "      <th>First Name</th>\n",
       "      <th>Gender</th>\n",
       "      <th>Start Date</th>\n",
       "      <th>Salary</th>\n",
       "      <th>Mgmt</th>\n",
       "      <th>Team</th>\n",
       "    </tr>\n",
       "  </thead>\n",
       "  <tbody>\n",
       "    <tr>\n",
       "      <th>2</th>\n",
       "      <td>Maria</td>\n",
       "      <td>Female</td>\n",
       "      <td>NaN</td>\n",
       "      <td>130590.0</td>\n",
       "      <td>False</td>\n",
       "      <td>Finance</td>\n",
       "    </tr>\n",
       "    <tr>\n",
       "      <th>198</th>\n",
       "      <td>Maria</td>\n",
       "      <td>Female</td>\n",
       "      <td>12/27/90</td>\n",
       "      <td>36067.0</td>\n",
       "      <td>True</td>\n",
       "      <td>Product</td>\n",
       "    </tr>\n",
       "    <tr>\n",
       "      <th>815</th>\n",
       "      <td>Maria</td>\n",
       "      <td>NaN</td>\n",
       "      <td>1/18/86</td>\n",
       "      <td>106562.0</td>\n",
       "      <td>False</td>\n",
       "      <td>HR</td>\n",
       "    </tr>\n",
       "    <tr>\n",
       "      <th>844</th>\n",
       "      <td>Maria</td>\n",
       "      <td>NaN</td>\n",
       "      <td>6/19/85</td>\n",
       "      <td>148857.0</td>\n",
       "      <td>False</td>\n",
       "      <td>Legal</td>\n",
       "    </tr>\n",
       "    <tr>\n",
       "      <th>936</th>\n",
       "      <td>Maria</td>\n",
       "      <td>Female</td>\n",
       "      <td>3/14/03</td>\n",
       "      <td>96250.0</td>\n",
       "      <td>False</td>\n",
       "      <td>Business Dev</td>\n",
       "    </tr>\n",
       "    <tr>\n",
       "      <th>984</th>\n",
       "      <td>Maria</td>\n",
       "      <td>Female</td>\n",
       "      <td>10/15/11</td>\n",
       "      <td>43455.0</td>\n",
       "      <td>False</td>\n",
       "      <td>Engineering</td>\n",
       "    </tr>\n",
       "  </tbody>\n",
       "</table>\n",
       "</div>"
      ],
      "text/plain": [
       "    First Name  Gender Start Date    Salary   Mgmt          Team\n",
       "2        Maria  Female        NaN  130590.0  False       Finance\n",
       "198      Maria  Female   12/27/90   36067.0   True       Product\n",
       "815      Maria     NaN    1/18/86  106562.0  False            HR\n",
       "844      Maria     NaN    6/19/85  148857.0  False         Legal\n",
       "936      Maria  Female    3/14/03   96250.0  False  Business Dev\n",
       "984      Maria  Female   10/15/11   43455.0  False   Engineering"
      ]
     },
     "execution_count": 219,
     "metadata": {},
     "output_type": "execute_result"
    }
   ],
   "source": [
    "# True인것만 뽑아서 쓰겠다. (즉 불스 값을 인덱스처럼 쓰겠다.그래서 불린인덱싱)\n",
    "empDF[empDF['First Name'] == 'Maria']"
   ]
  },
  {
   "cell_type": "code",
   "execution_count": 220,
   "id": "d59aba29-70e1-44af-86f5-69700fc953f7",
   "metadata": {},
   "outputs": [
    {
     "data": {
      "text/plain": [
       "0       False\n",
       "1       False\n",
       "2        True\n",
       "3       False\n",
       "4       False\n",
       "        ...  \n",
       "996     False\n",
       "997     False\n",
       "998     False\n",
       "999     False\n",
       "1000    False\n",
       "Name: First Name, Length: 1001, dtype: bool"
      ]
     },
     "execution_count": 220,
     "metadata": {},
     "output_type": "execute_result"
    }
   ],
   "source": [
    "empDF['First Name'] == 'Maria'"
   ]
  },
  {
   "cell_type": "code",
   "execution_count": 221,
   "id": "220ba37f-535e-45be-9a18-0016024d8473",
   "metadata": {},
   "outputs": [
    {
     "name": "stdout",
     "output_type": "stream",
     "text": [
      "<class 'pandas.core.series.Series'>\n",
      "\n",
      "6\n"
     ]
    }
   ],
   "source": [
    "mariaMask = (empDF['First Name'] == 'Maria')\n",
    "\n",
    "print(type(mariaMask), mariaMask.sum(), sep = '\\n\\n')"
   ]
  },
  {
   "cell_type": "code",
   "execution_count": 222,
   "id": "f5df4e53-df01-4e1a-b88e-749dcfa03bca",
   "metadata": {},
   "outputs": [
    {
     "data": {
      "text/html": [
       "<div>\n",
       "<style scoped>\n",
       "    .dataframe tbody tr th:only-of-type {\n",
       "        vertical-align: middle;\n",
       "    }\n",
       "\n",
       "    .dataframe tbody tr th {\n",
       "        vertical-align: top;\n",
       "    }\n",
       "\n",
       "    .dataframe thead th {\n",
       "        text-align: right;\n",
       "    }\n",
       "</style>\n",
       "<table border=\"1\" class=\"dataframe\">\n",
       "  <thead>\n",
       "    <tr style=\"text-align: right;\">\n",
       "      <th></th>\n",
       "      <th>First Name</th>\n",
       "      <th>Gender</th>\n",
       "      <th>Start Date</th>\n",
       "      <th>Salary</th>\n",
       "      <th>Mgmt</th>\n",
       "      <th>Team</th>\n",
       "    </tr>\n",
       "  </thead>\n",
       "  <tbody>\n",
       "    <tr>\n",
       "      <th>2</th>\n",
       "      <td>Maria</td>\n",
       "      <td>Female</td>\n",
       "      <td>NaN</td>\n",
       "      <td>130590.0</td>\n",
       "      <td>False</td>\n",
       "      <td>Finance</td>\n",
       "    </tr>\n",
       "    <tr>\n",
       "      <th>198</th>\n",
       "      <td>Maria</td>\n",
       "      <td>Female</td>\n",
       "      <td>12/27/90</td>\n",
       "      <td>36067.0</td>\n",
       "      <td>True</td>\n",
       "      <td>Product</td>\n",
       "    </tr>\n",
       "    <tr>\n",
       "      <th>815</th>\n",
       "      <td>Maria</td>\n",
       "      <td>NaN</td>\n",
       "      <td>1/18/86</td>\n",
       "      <td>106562.0</td>\n",
       "      <td>False</td>\n",
       "      <td>HR</td>\n",
       "    </tr>\n",
       "    <tr>\n",
       "      <th>844</th>\n",
       "      <td>Maria</td>\n",
       "      <td>NaN</td>\n",
       "      <td>6/19/85</td>\n",
       "      <td>148857.0</td>\n",
       "      <td>False</td>\n",
       "      <td>Legal</td>\n",
       "    </tr>\n",
       "    <tr>\n",
       "      <th>936</th>\n",
       "      <td>Maria</td>\n",
       "      <td>Female</td>\n",
       "      <td>3/14/03</td>\n",
       "      <td>96250.0</td>\n",
       "      <td>False</td>\n",
       "      <td>Business Dev</td>\n",
       "    </tr>\n",
       "    <tr>\n",
       "      <th>984</th>\n",
       "      <td>Maria</td>\n",
       "      <td>Female</td>\n",
       "      <td>10/15/11</td>\n",
       "      <td>43455.0</td>\n",
       "      <td>False</td>\n",
       "      <td>Engineering</td>\n",
       "    </tr>\n",
       "  </tbody>\n",
       "</table>\n",
       "</div>"
      ],
      "text/plain": [
       "    First Name  Gender Start Date    Salary   Mgmt          Team\n",
       "2        Maria  Female        NaN  130590.0  False       Finance\n",
       "198      Maria  Female   12/27/90   36067.0   True       Product\n",
       "815      Maria     NaN    1/18/86  106562.0  False            HR\n",
       "844      Maria     NaN    6/19/85  148857.0  False         Legal\n",
       "936      Maria  Female    3/14/03   96250.0  False  Business Dev\n",
       "984      Maria  Female   10/15/11   43455.0  False   Engineering"
      ]
     },
     "execution_count": 222,
     "metadata": {},
     "output_type": "execute_result"
    }
   ],
   "source": [
    "empDF[mariaMask]\n",
    "# 데이터 프레임에서 트루에 해당하는 행만 뽑아서 필터링하였다."
   ]
  },
  {
   "cell_type": "markdown",
   "id": "c2c5c8e9-3734-4b60-ab2e-6bf3e291afee",
   "metadata": {},
   "source": [
    "- [문제] employees 데이터에서 연봉이 50,000이상인 데이터 추출"
   ]
  },
  {
   "cell_type": "code",
   "execution_count": 223,
   "id": "0b3d908e-345b-478d-8890-ded0e6d89a1f",
   "metadata": {},
   "outputs": [
    {
     "data": {
      "text/plain": [
       "0       False\n",
       "1       False\n",
       "2       False\n",
       "3       False\n",
       "4       False\n",
       "        ...  \n",
       "996     False\n",
       "997     False\n",
       "998     False\n",
       "999     False\n",
       "1000    False\n",
       "Name: Salary, Length: 1001, dtype: bool"
      ]
     },
     "execution_count": 223,
     "metadata": {},
     "output_type": "execute_result"
    }
   ],
   "source": [
    "salaryData = (empDF['Salary'] >= 140000)\n",
    "salaryData"
   ]
  },
  {
   "cell_type": "code",
   "execution_count": 224,
   "id": "a5dcc557-a8d8-40e7-93c5-ea52fa6f2613",
   "metadata": {},
   "outputs": [
    {
     "data": {
      "text/html": [
       "<div>\n",
       "<style scoped>\n",
       "    .dataframe tbody tr th:only-of-type {\n",
       "        vertical-align: middle;\n",
       "    }\n",
       "\n",
       "    .dataframe tbody tr th {\n",
       "        vertical-align: top;\n",
       "    }\n",
       "\n",
       "    .dataframe thead th {\n",
       "        text-align: right;\n",
       "    }\n",
       "</style>\n",
       "<table border=\"1\" class=\"dataframe\">\n",
       "  <thead>\n",
       "    <tr style=\"text-align: right;\">\n",
       "      <th></th>\n",
       "      <th>First Name</th>\n",
       "      <th>Gender</th>\n",
       "      <th>Start Date</th>\n",
       "      <th>Salary</th>\n",
       "      <th>Mgmt</th>\n",
       "      <th>Team</th>\n",
       "    </tr>\n",
       "  </thead>\n",
       "  <tbody>\n",
       "    <tr>\n",
       "      <th>36</th>\n",
       "      <td>Rachel</td>\n",
       "      <td>Female</td>\n",
       "      <td>2/16/09</td>\n",
       "      <td>142032.0</td>\n",
       "      <td>False</td>\n",
       "      <td>Business Dev</td>\n",
       "    </tr>\n",
       "    <tr>\n",
       "      <th>44</th>\n",
       "      <td>Cynthia</td>\n",
       "      <td>Female</td>\n",
       "      <td>11/16/88</td>\n",
       "      <td>145146.0</td>\n",
       "      <td>True</td>\n",
       "      <td>Product</td>\n",
       "    </tr>\n",
       "    <tr>\n",
       "      <th>83</th>\n",
       "      <td>Shawn</td>\n",
       "      <td>Male</td>\n",
       "      <td>9/23/05</td>\n",
       "      <td>148115.0</td>\n",
       "      <td>True</td>\n",
       "      <td>Finance</td>\n",
       "    </tr>\n",
       "    <tr>\n",
       "      <th>87</th>\n",
       "      <td>Annie</td>\n",
       "      <td>Female</td>\n",
       "      <td>1/30/93</td>\n",
       "      <td>144887.0</td>\n",
       "      <td>True</td>\n",
       "      <td>Sales</td>\n",
       "    </tr>\n",
       "    <tr>\n",
       "      <th>96</th>\n",
       "      <td>Cynthia</td>\n",
       "      <td>Female</td>\n",
       "      <td>3/21/94</td>\n",
       "      <td>142321.0</td>\n",
       "      <td>False</td>\n",
       "      <td>Finance</td>\n",
       "    </tr>\n",
       "    <tr>\n",
       "      <th>...</th>\n",
       "      <td>...</td>\n",
       "      <td>...</td>\n",
       "      <td>...</td>\n",
       "      <td>...</td>\n",
       "      <td>...</td>\n",
       "      <td>...</td>\n",
       "    </tr>\n",
       "    <tr>\n",
       "      <th>948</th>\n",
       "      <td>Ashley</td>\n",
       "      <td>Female</td>\n",
       "      <td>3/31/06</td>\n",
       "      <td>142410.0</td>\n",
       "      <td>True</td>\n",
       "      <td>Engineering</td>\n",
       "    </tr>\n",
       "    <tr>\n",
       "      <th>951</th>\n",
       "      <td>NaN</td>\n",
       "      <td>Female</td>\n",
       "      <td>9/14/10</td>\n",
       "      <td>143638.0</td>\n",
       "      <td>NaN</td>\n",
       "      <td>NaN</td>\n",
       "    </tr>\n",
       "    <tr>\n",
       "      <th>979</th>\n",
       "      <td>Ernest</td>\n",
       "      <td>Male</td>\n",
       "      <td>7/20/13</td>\n",
       "      <td>142935.0</td>\n",
       "      <td>True</td>\n",
       "      <td>Product</td>\n",
       "    </tr>\n",
       "    <tr>\n",
       "      <th>981</th>\n",
       "      <td>James</td>\n",
       "      <td>Male</td>\n",
       "      <td>1/15/93</td>\n",
       "      <td>148985.0</td>\n",
       "      <td>False</td>\n",
       "      <td>Legal</td>\n",
       "    </tr>\n",
       "    <tr>\n",
       "      <th>983</th>\n",
       "      <td>John</td>\n",
       "      <td>Male</td>\n",
       "      <td>12/23/82</td>\n",
       "      <td>146907.0</td>\n",
       "      <td>False</td>\n",
       "      <td>Engineering</td>\n",
       "    </tr>\n",
       "  </tbody>\n",
       "</table>\n",
       "<p>80 rows × 6 columns</p>\n",
       "</div>"
      ],
      "text/plain": [
       "    First Name  Gender Start Date    Salary   Mgmt          Team\n",
       "36      Rachel  Female    2/16/09  142032.0  False  Business Dev\n",
       "44     Cynthia  Female   11/16/88  145146.0   True       Product\n",
       "83       Shawn    Male    9/23/05  148115.0   True       Finance\n",
       "87       Annie  Female    1/30/93  144887.0   True         Sales\n",
       "96     Cynthia  Female    3/21/94  142321.0  False       Finance\n",
       "..         ...     ...        ...       ...    ...           ...\n",
       "948     Ashley  Female    3/31/06  142410.0   True   Engineering\n",
       "951        NaN  Female    9/14/10  143638.0    NaN           NaN\n",
       "979     Ernest    Male    7/20/13  142935.0   True       Product\n",
       "981      James    Male    1/15/93  148985.0  False         Legal\n",
       "983       John    Male   12/23/82  146907.0  False   Engineering\n",
       "\n",
       "[80 rows x 6 columns]"
      ]
     },
     "execution_count": 224,
     "metadata": {},
     "output_type": "execute_result"
    }
   ],
   "source": [
    "empDF[salaryData]"
   ]
  },
  {
   "cell_type": "markdown",
   "id": "7ecb57e8-aec0-40c9-8574-25fb361956d9",
   "metadata": {},
   "source": [
    "- [문제] 성별이 남자이며 연봉이 100000이상인 데이터 조회"
   ]
  },
  {
   "cell_type": "code",
   "execution_count": 225,
   "id": "ab529f8b-6eae-42fd-9749-087ddd3d90a7",
   "metadata": {},
   "outputs": [
    {
     "data": {
      "text/plain": [
       "0        True\n",
       "1        True\n",
       "2       False\n",
       "3       False\n",
       "4        True\n",
       "        ...  \n",
       "996      True\n",
       "997      True\n",
       "998      True\n",
       "999      True\n",
       "1000    False\n",
       "Name: Gender, Length: 1001, dtype: bool"
      ]
     },
     "execution_count": 225,
     "metadata": {},
     "output_type": "execute_result"
    }
   ],
   "source": [
    "empDF['Gender'] == 'Male'"
   ]
  },
  {
   "cell_type": "code",
   "execution_count": 226,
   "id": "f2915fe0-dd5a-4313-9679-93836f77b9e1",
   "metadata": {},
   "outputs": [
    {
     "data": {
      "text/plain": [
       "0       False\n",
       "1       False\n",
       "2        True\n",
       "3        True\n",
       "4        True\n",
       "        ...  \n",
       "996     False\n",
       "997     False\n",
       "998     False\n",
       "999      True\n",
       "1000    False\n",
       "Name: Salary, Length: 1001, dtype: bool"
      ]
     },
     "execution_count": 226,
     "metadata": {},
     "output_type": "execute_result"
    }
   ],
   "source": [
    "empDF['Salary'] >= 100000"
   ]
  },
  {
   "cell_type": "markdown",
   "id": "ccfac9dc-421a-4f14-93dd-15dfe9c75526",
   "metadata": {},
   "source": [
    "- 여러 개의 조건이 모두 True여야만 하는 조건 ==> AND 조건\n",
    "    * 문법 :  조건1 & 조건2 & 조건3 & ... & 조건 N\n",
    "    * 연산자 : & 앰퍼센트\n",
    "    * 결과 : True/False"
   ]
  },
  {
   "cell_type": "code",
   "execution_count": 227,
   "id": "99b9cfcd-44b1-471e-aeda-6a03a2c84588",
   "metadata": {},
   "outputs": [
    {
     "data": {
      "text/plain": [
       "(pandas.core.series.Series, 5)"
      ]
     },
     "execution_count": 227,
     "metadata": {},
     "output_type": "execute_result"
    }
   ],
   "source": [
    "mask = (empDF['Gender'] == 'Male')&(empDF['Salary'] >= 148000)\n",
    "type(mask), mask.sum()"
   ]
  },
  {
   "cell_type": "code",
   "execution_count": 228,
   "id": "6353fd12-ebbe-41a8-bc4e-8a736c356637",
   "metadata": {},
   "outputs": [
    {
     "data": {
      "text/html": [
       "<div>\n",
       "<style scoped>\n",
       "    .dataframe tbody tr th:only-of-type {\n",
       "        vertical-align: middle;\n",
       "    }\n",
       "\n",
       "    .dataframe tbody tr th {\n",
       "        vertical-align: top;\n",
       "    }\n",
       "\n",
       "    .dataframe thead th {\n",
       "        text-align: right;\n",
       "    }\n",
       "</style>\n",
       "<table border=\"1\" class=\"dataframe\">\n",
       "  <thead>\n",
       "    <tr style=\"text-align: right;\">\n",
       "      <th></th>\n",
       "      <th>First Name</th>\n",
       "      <th>Gender</th>\n",
       "      <th>Start Date</th>\n",
       "      <th>Salary</th>\n",
       "      <th>Mgmt</th>\n",
       "      <th>Team</th>\n",
       "    </tr>\n",
       "  </thead>\n",
       "  <tbody>\n",
       "    <tr>\n",
       "      <th>83</th>\n",
       "      <td>Shawn</td>\n",
       "      <td>Male</td>\n",
       "      <td>9/23/05</td>\n",
       "      <td>148115.0</td>\n",
       "      <td>True</td>\n",
       "      <td>Finance</td>\n",
       "    </tr>\n",
       "    <tr>\n",
       "      <th>318</th>\n",
       "      <td>Roy</td>\n",
       "      <td>Male</td>\n",
       "      <td>8/6/06</td>\n",
       "      <td>148225.0</td>\n",
       "      <td>False</td>\n",
       "      <td>Finance</td>\n",
       "    </tr>\n",
       "    <tr>\n",
       "      <th>800</th>\n",
       "      <td>Clarence</td>\n",
       "      <td>Male</td>\n",
       "      <td>8/5/89</td>\n",
       "      <td>148941.0</td>\n",
       "      <td>False</td>\n",
       "      <td>Product</td>\n",
       "    </tr>\n",
       "    <tr>\n",
       "      <th>850</th>\n",
       "      <td>Charles</td>\n",
       "      <td>Male</td>\n",
       "      <td>9/3/97</td>\n",
       "      <td>148291.0</td>\n",
       "      <td>False</td>\n",
       "      <td>NaN</td>\n",
       "    </tr>\n",
       "    <tr>\n",
       "      <th>981</th>\n",
       "      <td>James</td>\n",
       "      <td>Male</td>\n",
       "      <td>1/15/93</td>\n",
       "      <td>148985.0</td>\n",
       "      <td>False</td>\n",
       "      <td>Legal</td>\n",
       "    </tr>\n",
       "  </tbody>\n",
       "</table>\n",
       "</div>"
      ],
      "text/plain": [
       "    First Name Gender Start Date    Salary   Mgmt     Team\n",
       "83       Shawn   Male    9/23/05  148115.0   True  Finance\n",
       "318        Roy   Male     8/6/06  148225.0  False  Finance\n",
       "800   Clarence   Male     8/5/89  148941.0  False  Product\n",
       "850    Charles   Male     9/3/97  148291.0  False      NaN\n",
       "981      James   Male    1/15/93  148985.0  False    Legal"
      ]
     },
     "execution_count": 228,
     "metadata": {},
     "output_type": "execute_result"
    }
   ],
   "source": [
    "empDF[mask]"
   ]
  },
  {
   "cell_type": "markdown",
   "id": "f1f818ff-6f3b-471c-8a8e-e088562dd826",
   "metadata": {},
   "source": []
  },
  {
   "cell_type": "markdown",
   "id": "0345d5d1-4e3d-4637-9eeb-59afa47d8ebf",
   "metadata": {},
   "source": [
    "- 여러 개의 조건 중 1개 이상이 True면 True가 되는 조건 ==> OR 조건\n",
    "    * 문법 :  조건1 | 조건2 | 조건3 | ... | 조건 N\n",
    "    * 연산자 : | 파이프 \n",
    "    * 결과 : True/False"
   ]
  },
  {
   "cell_type": "markdown",
   "id": "c0cdc6e8-0975-4c95-a2e0-7f65600abd5b",
   "metadata": {},
   "source": [
    "- [문제] employees 데이터에서 입사일이 1993년 1월 1일 이전이거나 또는 팀이 없는 사람 데이터 조회"
   ]
  },
  {
   "cell_type": "code",
   "execution_count": 229,
   "id": "2bc87852-ec2f-4777-92ac-9fc1076bed0a",
   "metadata": {},
   "outputs": [
    {
     "name": "stderr",
     "output_type": "stream",
     "text": [
      "C:\\Users\\kdp\\AppData\\Local\\Temp\\ipykernel_10024\\1557590731.py:1: UserWarning: Could not infer format, so each element will be parsed individually, falling back to `dateutil`. To ensure parsing is consistent and as-expected, please specify a format.\n",
      "  empDF['Start Date'] = pd.to_datetime(empDF['Start Date'])\n"
     ]
    }
   ],
   "source": [
    "empDF['Start Date'] = pd.to_datetime(empDF['Start Date'])"
   ]
  },
  {
   "cell_type": "code",
   "execution_count": 230,
   "id": "3ce9d69a-c8e1-427a-9227-bf0b7985bb73",
   "metadata": {},
   "outputs": [
    {
     "name": "stdout",
     "output_type": "stream",
     "text": [
      "<class 'pandas.core.frame.DataFrame'>\n",
      "RangeIndex: 1001 entries, 0 to 1000\n",
      "Data columns (total 6 columns):\n",
      " #   Column      Non-Null Count  Dtype         \n",
      "---  ------      --------------  -----         \n",
      " 0   First Name  933 non-null    object        \n",
      " 1   Gender      854 non-null    object        \n",
      " 2   Start Date  999 non-null    datetime64[ns]\n",
      " 3   Salary      999 non-null    float64       \n",
      " 4   Mgmt        933 non-null    object        \n",
      " 5   Team        957 non-null    object        \n",
      "dtypes: datetime64[ns](1), float64(1), object(4)\n",
      "memory usage: 47.0+ KB\n"
     ]
    }
   ],
   "source": [
    "empDF.info()"
   ]
  },
  {
   "cell_type": "code",
   "execution_count": 231,
   "id": "30598bb8-eb83-4fc0-9d12-2cf15b0d317c",
   "metadata": {},
   "outputs": [],
   "source": [
    "one = empDF['Start Date'] >= '1993-01-01'\n",
    "two = empDF['Mgmt'] == False"
   ]
  },
  {
   "cell_type": "code",
   "execution_count": 232,
   "id": "035aeada-7ccb-4149-b91f-2f1dbcc2fb0f",
   "metadata": {},
   "outputs": [
    {
     "data": {
      "text/html": [
       "<div>\n",
       "<style scoped>\n",
       "    .dataframe tbody tr th:only-of-type {\n",
       "        vertical-align: middle;\n",
       "    }\n",
       "\n",
       "    .dataframe tbody tr th {\n",
       "        vertical-align: top;\n",
       "    }\n",
       "\n",
       "    .dataframe thead th {\n",
       "        text-align: right;\n",
       "    }\n",
       "</style>\n",
       "<table border=\"1\" class=\"dataframe\">\n",
       "  <thead>\n",
       "    <tr style=\"text-align: right;\">\n",
       "      <th></th>\n",
       "      <th>First Name</th>\n",
       "      <th>Gender</th>\n",
       "      <th>Start Date</th>\n",
       "      <th>Salary</th>\n",
       "      <th>Mgmt</th>\n",
       "      <th>Team</th>\n",
       "    </tr>\n",
       "  </thead>\n",
       "  <tbody>\n",
       "    <tr>\n",
       "      <th>0</th>\n",
       "      <td>Douglas</td>\n",
       "      <td>Male</td>\n",
       "      <td>1993-08-06</td>\n",
       "      <td>NaN</td>\n",
       "      <td>True</td>\n",
       "      <td>Marketing</td>\n",
       "    </tr>\n",
       "    <tr>\n",
       "      <th>1</th>\n",
       "      <td>Thomas</td>\n",
       "      <td>Male</td>\n",
       "      <td>1996-03-31</td>\n",
       "      <td>61933.0</td>\n",
       "      <td>True</td>\n",
       "      <td>NaN</td>\n",
       "    </tr>\n",
       "    <tr>\n",
       "      <th>2</th>\n",
       "      <td>Maria</td>\n",
       "      <td>Female</td>\n",
       "      <td>NaT</td>\n",
       "      <td>130590.0</td>\n",
       "      <td>False</td>\n",
       "      <td>Finance</td>\n",
       "    </tr>\n",
       "    <tr>\n",
       "      <th>3</th>\n",
       "      <td>Jerry</td>\n",
       "      <td>NaN</td>\n",
       "      <td>2005-03-04</td>\n",
       "      <td>138705.0</td>\n",
       "      <td>True</td>\n",
       "      <td>Finance</td>\n",
       "    </tr>\n",
       "    <tr>\n",
       "      <th>4</th>\n",
       "      <td>Larry</td>\n",
       "      <td>Male</td>\n",
       "      <td>1998-01-24</td>\n",
       "      <td>101004.0</td>\n",
       "      <td>True</td>\n",
       "      <td>IT</td>\n",
       "    </tr>\n",
       "  </tbody>\n",
       "</table>\n",
       "</div>"
      ],
      "text/plain": [
       "  First Name  Gender Start Date    Salary   Mgmt       Team\n",
       "0    Douglas    Male 1993-08-06       NaN   True  Marketing\n",
       "1     Thomas    Male 1996-03-31   61933.0   True        NaN\n",
       "2      Maria  Female        NaT  130590.0  False    Finance\n",
       "3      Jerry     NaN 2005-03-04  138705.0   True    Finance\n",
       "4      Larry    Male 1998-01-24  101004.0   True         IT"
      ]
     },
     "execution_count": 232,
     "metadata": {},
     "output_type": "execute_result"
    }
   ],
   "source": [
    "empDF[one|two].head()"
   ]
  },
  {
   "cell_type": "code",
   "execution_count": 233,
   "id": "80fd73ea-4b1f-4fb9-90cb-3eb6fa3d36c8",
   "metadata": {},
   "outputs": [
    {
     "data": {
      "text/plain": [
       "0        True\n",
       "1       False\n",
       "2       False\n",
       "3       False\n",
       "4       False\n",
       "        ...  \n",
       "996     False\n",
       "997     False\n",
       "998     False\n",
       "999      True\n",
       "1000    False\n",
       "Name: Team, Length: 1001, dtype: bool"
      ]
     },
     "execution_count": 233,
     "metadata": {},
     "output_type": "execute_result"
    }
   ],
   "source": [
    "empDF['Team'].isin(['Sales', 'Legal', 'Marketing'])"
   ]
  },
  {
   "cell_type": "markdown",
   "id": "9e06ec7a-8aa4-412d-ab53-b4fa1d9f33cc",
   "metadata": {},
   "source": [
    "- 구간 지정 검사 불린 메서드 => DF.between(low, high)"
   ]
  },
  {
   "cell_type": "code",
   "execution_count": 234,
   "id": "d26698a1-07ad-4359-8a65-e723aa958021",
   "metadata": {},
   "outputs": [
    {
     "data": {
      "text/plain": [
       "0       False\n",
       "1       False\n",
       "2       False\n",
       "3       False\n",
       "4       False\n",
       "        ...  \n",
       "996     False\n",
       "997     False\n",
       "998     False\n",
       "999     False\n",
       "1000    False\n",
       "Name: Salary, Length: 1001, dtype: bool"
      ]
     },
     "execution_count": 234,
     "metadata": {},
     "output_type": "execute_result"
    }
   ],
   "source": [
    "(empDF['Salary']>=80000) & (empDF['Salary'] < 90000)"
   ]
  },
  {
   "cell_type": "code",
   "execution_count": 235,
   "id": "c71d0762-18da-4a99-a192-c7d140037655",
   "metadata": {},
   "outputs": [
    {
     "data": {
      "text/plain": [
       "0       False\n",
       "1       False\n",
       "2       False\n",
       "3       False\n",
       "4       False\n",
       "        ...  \n",
       "996     False\n",
       "997     False\n",
       "998     False\n",
       "999     False\n",
       "1000    False\n",
       "Name: Salary, Length: 1001, dtype: bool"
      ]
     },
     "execution_count": 235,
     "metadata": {},
     "output_type": "execute_result"
    }
   ],
   "source": [
    "empDF['Salary'].between(80000, 90000)"
   ]
  },
  {
   "cell_type": "code",
   "execution_count": 236,
   "id": "caff9df9-d477-4987-acf3-1718b45d7cfd",
   "metadata": {},
   "outputs": [
    {
     "data": {
      "text/plain": [
       "0       False\n",
       "1       False\n",
       "2       False\n",
       "3       False\n",
       "4       False\n",
       "        ...  \n",
       "996     False\n",
       "997     False\n",
       "998     False\n",
       "999     False\n",
       "1000    False\n",
       "Name: Salary, Length: 1001, dtype: bool"
      ]
     },
     "execution_count": 236,
     "metadata": {},
     "output_type": "execute_result"
    }
   ],
   "source": [
    "empDF['Salary'].between(80000, 90000, inclusive = 'both')\n",
    "#inclusive = > both, neither, left, right"
   ]
  },
  {
   "cell_type": "code",
   "execution_count": 237,
   "id": "5b61d62f-769b-4086-95cf-b878fcb6bac4",
   "metadata": {},
   "outputs": [
    {
     "data": {
      "text/plain": [
       "0       DOUGLAS\n",
       "1        THOMAS\n",
       "2         MARIA\n",
       "3         JERRY\n",
       "4         LARRY\n",
       "         ...   \n",
       "996     PHILLIP\n",
       "997     RUSSELL\n",
       "998       LARRY\n",
       "999      ALBERT\n",
       "1000        NaN\n",
       "Name: First Name, Length: 1001, dtype: object"
      ]
     },
     "execution_count": 237,
     "metadata": {},
     "output_type": "execute_result"
    }
   ],
   "source": [
    "empDF['First Name'].str.upper()"
   ]
  },
  {
   "cell_type": "code",
   "execution_count": 238,
   "id": "874e9550-ff8b-4a2d-912b-eee909be253c",
   "metadata": {},
   "outputs": [
    {
     "data": {
      "text/plain": [
       "0       douglas\n",
       "1        thomas\n",
       "2         maria\n",
       "3         jerry\n",
       "4         larry\n",
       "         ...   \n",
       "996     phillip\n",
       "997     russell\n",
       "998       larry\n",
       "999      albert\n",
       "1000        NaN\n",
       "Name: First Name, Length: 1001, dtype: object"
      ]
     },
     "execution_count": 238,
     "metadata": {},
     "output_type": "execute_result"
    }
   ],
   "source": [
    "empDF['First Name'].str.lower()"
   ]
  },
  {
   "cell_type": "code",
   "execution_count": 239,
   "id": "343defba-cfc5-4157-b766-0ad3d14d58a4",
   "metadata": {},
   "outputs": [
    {
     "data": {
      "text/plain": [
       "0       Douglaas\n",
       "1        Thomaas\n",
       "2        Maariaa\n",
       "3          Jerry\n",
       "4         Laarry\n",
       "          ...   \n",
       "996      Phillip\n",
       "997      Russell\n",
       "998       Laarry\n",
       "999       Albert\n",
       "1000         NaN\n",
       "Name: First Name, Length: 1001, dtype: object"
      ]
     },
     "execution_count": 239,
     "metadata": {},
     "output_type": "execute_result"
    }
   ],
   "source": [
    "empDF['First Name'].str.replace('a', 'aa')"
   ]
  }
 ],
 "metadata": {
  "kernelspec": {
   "display_name": "Python 3 (ipykernel)",
   "language": "python",
   "name": "python3"
  },
  "language_info": {
   "codemirror_mode": {
    "name": "ipython",
    "version": 3
   },
   "file_extension": ".py",
   "mimetype": "text/x-python",
   "name": "python",
   "nbconvert_exporter": "python",
   "pygments_lexer": "ipython3",
   "version": "3.8.18"
  }
 },
 "nbformat": 4,
 "nbformat_minor": 5
}
