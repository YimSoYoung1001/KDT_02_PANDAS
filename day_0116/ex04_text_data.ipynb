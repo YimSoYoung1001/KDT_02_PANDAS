{
 "cells": [
  {
   "cell_type": "markdown",
   "id": "2e8945b9-db95-44e0-8687-252ceaf7728d",
   "metadata": {},
   "source": [
    "## [ 텍스트 데이터 처리 ]\n",
    "- 다양한 형태의 텍스트 데이터를 정리하기 위한 방법들\n",
    "- Series에 str 속성을 활용해서 str 제공 전용 메서드 사용 가능\n",
    "- 사용방법 : Series객체.str.메서드()"
   ]
  },
  {
   "cell_type": "markdown",
   "id": "dd078d56-aac1-4218-8596-dbec46ff6530",
   "metadata": {},
   "source": [
    "- 문자열 관련 메서드들 살펴보기  \n",
    "(1) 공백 제거 관련 메서드 => strip(), lstrip(), rstrip()"
   ]
  },
  {
   "cell_type": "code",
   "execution_count": 44,
   "id": "7635337e-4095-42e1-a555-723409957468",
   "metadata": {},
   "outputs": [],
   "source": [
    "msg = '   Merry Christmas     '"
   ]
  },
  {
   "cell_type": "code",
   "execution_count": 45,
   "id": "32ba7348-d92c-4e85-9879-dcfb4a4391fa",
   "metadata": {},
   "outputs": [
    {
     "data": {
      "text/plain": [
       "23"
      ]
     },
     "execution_count": 45,
     "metadata": {},
     "output_type": "execute_result"
    }
   ],
   "source": [
    "len(msg)"
   ]
  },
  {
   "cell_type": "code",
   "execution_count": 46,
   "id": "ef7b3e11-ff21-44e9-bd69-6bf14b601347",
   "metadata": {},
   "outputs": [
    {
     "data": {
      "text/plain": [
       "15"
      ]
     },
     "execution_count": 46,
     "metadata": {},
     "output_type": "execute_result"
    }
   ],
   "source": [
    "len(msg.strip())"
   ]
  },
  {
   "cell_type": "code",
   "execution_count": 47,
   "id": "135413b5-63e8-420c-88d4-21ad37949484",
   "metadata": {},
   "outputs": [
    {
     "data": {
      "text/plain": [
       "20"
      ]
     },
     "execution_count": 47,
     "metadata": {},
     "output_type": "execute_result"
    }
   ],
   "source": [
    "len(msg.lstrip())"
   ]
  },
  {
   "cell_type": "code",
   "execution_count": 48,
   "id": "6411709d-4522-4b48-9d80-801304a6ec6d",
   "metadata": {},
   "outputs": [
    {
     "data": {
      "text/plain": [
       "18"
      ]
     },
     "execution_count": 48,
     "metadata": {},
     "output_type": "execute_result"
    }
   ],
   "source": [
    "len(msg.rstrip())"
   ]
  },
  {
   "cell_type": "markdown",
   "id": "71aecb04-5ac8-4daa-9505-21247ce242b6",
   "metadata": {},
   "source": [
    "(1) 모듈 로딩"
   ]
  },
  {
   "cell_type": "code",
   "execution_count": 49,
   "id": "1faceacc-6c36-4850-b67d-7cf710f6ed58",
   "metadata": {},
   "outputs": [],
   "source": [
    "import pandas as pd"
   ]
  },
  {
   "cell_type": "markdown",
   "id": "48f4a04a-b210-40e5-96e9-0087bb854d63",
   "metadata": {},
   "source": [
    "(2) 데이터 준비"
   ]
  },
  {
   "cell_type": "code",
   "execution_count": 50,
   "id": "4fe0372b-7d3f-44a4-95cf-12c474d91515",
   "metadata": {},
   "outputs": [],
   "source": [
    "file = '../DATA/chicago_food_inspections.csv'"
   ]
  },
  {
   "cell_type": "markdown",
   "id": "6b165375-7948-4146-a317-38f0fce33cc8",
   "metadata": {},
   "source": [
    "(3) 데이터 저장"
   ]
  },
  {
   "cell_type": "code",
   "execution_count": 51,
   "id": "1dc8361f-b779-48c9-b570-5711a25ff7f6",
   "metadata": {},
   "outputs": [],
   "source": [
    "chicagoDF = pd.read_csv(file)"
   ]
  },
  {
   "cell_type": "markdown",
   "id": "cdd40c16-aea7-4cc1-9276-16fc6c6aa226",
   "metadata": {},
   "source": [
    "(4) 데이터 확인"
   ]
  },
  {
   "cell_type": "code",
   "execution_count": 52,
   "id": "aec2afae-ae55-46a1-a3f2-f0e7288773b0",
   "metadata": {},
   "outputs": [
    {
     "name": "stdout",
     "output_type": "stream",
     "text": [
      "<class 'pandas.core.frame.DataFrame'>\n",
      "RangeIndex: 153810 entries, 0 to 153809\n",
      "Data columns (total 2 columns):\n",
      " #   Column  Non-Null Count   Dtype \n",
      "---  ------  --------------   ----- \n",
      " 0   Name    153810 non-null  object\n",
      " 1   Risk    153744 non-null  object\n",
      "dtypes: object(2)\n",
      "memory usage: 2.3+ MB\n"
     ]
    }
   ],
   "source": [
    "chicagoDF.info()"
   ]
  },
  {
   "cell_type": "code",
   "execution_count": 53,
   "id": "aabcc021-88f3-48cb-8177-26d6915c2cce",
   "metadata": {},
   "outputs": [
    {
     "data": {
      "text/html": [
       "<div>\n",
       "<style scoped>\n",
       "    .dataframe tbody tr th:only-of-type {\n",
       "        vertical-align: middle;\n",
       "    }\n",
       "\n",
       "    .dataframe tbody tr th {\n",
       "        vertical-align: top;\n",
       "    }\n",
       "\n",
       "    .dataframe thead th {\n",
       "        text-align: right;\n",
       "    }\n",
       "</style>\n",
       "<table border=\"1\" class=\"dataframe\">\n",
       "  <thead>\n",
       "    <tr style=\"text-align: right;\">\n",
       "      <th></th>\n",
       "      <th>Name</th>\n",
       "      <th>Risk</th>\n",
       "    </tr>\n",
       "  </thead>\n",
       "  <tbody>\n",
       "    <tr>\n",
       "      <th>0</th>\n",
       "      <td>MARRIOT MARQUIS CHICAGO</td>\n",
       "      <td>Risk 1 (High)</td>\n",
       "    </tr>\n",
       "    <tr>\n",
       "      <th>1</th>\n",
       "      <td>JETS PIZZA</td>\n",
       "      <td>Risk 2 (Medium)</td>\n",
       "    </tr>\n",
       "    <tr>\n",
       "      <th>2</th>\n",
       "      <td>ROOM 1520</td>\n",
       "      <td>Risk 3 (Low)</td>\n",
       "    </tr>\n",
       "    <tr>\n",
       "      <th>3</th>\n",
       "      <td>MARRIOT MARQUIS CHICAGO</td>\n",
       "      <td>Risk 1 (High)</td>\n",
       "    </tr>\n",
       "    <tr>\n",
       "      <th>4</th>\n",
       "      <td>CHARTWELLS</td>\n",
       "      <td>Risk 1 (High)</td>\n",
       "    </tr>\n",
       "  </tbody>\n",
       "</table>\n",
       "</div>"
      ],
      "text/plain": [
       "                          Name             Risk\n",
       "0   MARRIOT MARQUIS CHICAGO       Risk 1 (High)\n",
       "1                  JETS PIZZA   Risk 2 (Medium)\n",
       "2                   ROOM 1520      Risk 3 (Low)\n",
       "3    MARRIOT MARQUIS CHICAGO      Risk 1 (High)\n",
       "4                CHARTWELLS       Risk 1 (High)"
      ]
     },
     "execution_count": 53,
     "metadata": {},
     "output_type": "execute_result"
    }
   ],
   "source": [
    "chicagoDF.head()"
   ]
  },
  {
   "cell_type": "markdown",
   "id": "f5194571-13c6-44a4-a66f-49626f5f0ca0",
   "metadata": {},
   "source": [
    "- [문제] Name 컬럼에서 공백 제거 처리"
   ]
  },
  {
   "cell_type": "code",
   "execution_count": 54,
   "id": "3a9d5fcf-263d-4c05-837b-d0a21756bf29",
   "metadata": {},
   "outputs": [],
   "source": [
    "chicagoDF['Name'] = chicagoDF['Name'].str.strip()"
   ]
  },
  {
   "cell_type": "code",
   "execution_count": 55,
   "id": "701c3cf8-4037-42f7-93f2-31ed242efecc",
   "metadata": {},
   "outputs": [
    {
     "data": {
      "text/plain": [
       "0              MARRIOT MARQUIS CHICAGO\n",
       "1                           JETS PIZZA\n",
       "2                            ROOM 1520\n",
       "3              MARRIOT MARQUIS CHICAGO\n",
       "4                           CHARTWELLS\n",
       "                      ...             \n",
       "153805                       WOLCOTT'S\n",
       "153806    DUNKIN DONUTS/BASKIN-ROBBINS\n",
       "153807                        Cafe 608\n",
       "153808                     mr.daniel's\n",
       "153809                      TEMPO CAFE\n",
       "Name: Name, Length: 153810, dtype: object"
      ]
     },
     "execution_count": 55,
     "metadata": {},
     "output_type": "execute_result"
    }
   ],
   "source": [
    "chicagoDF['Name']"
   ]
  },
  {
   "cell_type": "markdown",
   "id": "e076889b-fe9b-47a5-b033-7cd6afeca0a2",
   "metadata": {},
   "source": [
    "- [문제] Risk 컬럼에서 문자열 나누기 => Risk 숫자 ==> Risk와 숫자 분리"
   ]
  },
  {
   "cell_type": "code",
   "execution_count": 56,
   "id": "751d25ba-1a2c-407f-9d8f-323faa62697c",
   "metadata": {},
   "outputs": [
    {
     "name": "stdout",
     "output_type": "stream",
     "text": [
      "4\n",
      "\n",
      "['Risk 1 (High)' 'Risk 2 (Medium)' 'Risk 3 (Low)' 'All' nan]\n"
     ]
    }
   ],
   "source": [
    "print(chicagoDF['Risk'].nunique(), chicagoDF['Risk'].unique(), sep='\\n\\n')"
   ]
  },
  {
   "cell_type": "code",
   "execution_count": 57,
   "id": "5f7f6ba7-4153-4ee5-afe8-30a9ecd693fc",
   "metadata": {},
   "outputs": [
    {
     "data": {
      "text/plain": [
       "(66,\n",
       " Name     0\n",
       " Risk    66\n",
       " dtype: int64)"
      ]
     },
     "execution_count": 57,
     "metadata": {},
     "output_type": "execute_result"
    }
   ],
   "source": [
    "chicagoDF['Risk'].isna().sum(), chicagoDF.isna().sum()"
   ]
  },
  {
   "cell_type": "code",
   "execution_count": 58,
   "id": "a8e0c1e6-a5fe-4d52-8d3d-9d6259c7cc71",
   "metadata": {},
   "outputs": [
    {
     "data": {
      "text/plain": [
       "(153744, 2)"
      ]
     },
     "execution_count": 58,
     "metadata": {},
     "output_type": "execute_result"
    }
   ],
   "source": [
    "# 기본 => 행 방향, 행 내에 한개라도 NaN이 있으면 삭제\n",
    "chicagoDF.dropna().shape"
   ]
  },
  {
   "cell_type": "code",
   "execution_count": 59,
   "id": "9765acd7-0659-4ba2-b8f6-c274b216eebd",
   "metadata": {},
   "outputs": [
    {
     "data": {
      "text/plain": [
       "(153744, 2)"
      ]
     },
     "execution_count": 59,
     "metadata": {},
     "output_type": "execute_result"
    }
   ],
   "source": [
    "# Risk 컬럼이 NaN인 행 삭제 => subset 파라미터 적용\n",
    "chicagoDF.dropna(subset = ['Risk']).shape\n",
    "\n",
    "#사실 여기서는 윗줄과 같은 결과가 나옴. 컬럼이 2개인데 결측값이 한 컬럼에 쏠려있음"
   ]
  },
  {
   "cell_type": "code",
   "execution_count": 60,
   "id": "674f7b5b-2868-4798-8c01-3fac8583b4ff",
   "metadata": {},
   "outputs": [
    {
     "data": {
      "text/plain": [
       "0           Risk 1 (High)\n",
       "1         Risk 2 (Medium)\n",
       "2            Risk 3 (Low)\n",
       "3           Risk 1 (High)\n",
       "4           Risk 1 (High)\n",
       "               ...       \n",
       "153805      Risk 1 (High)\n",
       "153806    Risk 2 (Medium)\n",
       "153807      Risk 1 (High)\n",
       "153808      Risk 1 (High)\n",
       "153809      Risk 1 (High)\n",
       "Name: Risk, Length: 153810, dtype: object"
      ]
     },
     "execution_count": 60,
     "metadata": {},
     "output_type": "execute_result"
    }
   ],
   "source": [
    "# 원소의 데이터 값이 'all'=> \"Risk 4 (Extreme)\" 변경\n",
    "chicagoDF['Risk'].replace('all', 'Risk 4 (Extreme)')"
   ]
  },
  {
   "cell_type": "code",
   "execution_count": 61,
   "id": "0802f4f4-b77e-404a-8536-9cf6047fb6ba",
   "metadata": {},
   "outputs": [
    {
     "data": {
      "text/plain": [
       "0           HIGH\n",
       "1         MEDIUM\n",
       "2            LOW\n",
       "3           HIGH\n",
       "4           HIGH\n",
       "           ...  \n",
       "153805      HIGH\n",
       "153806    MEDIUM\n",
       "153807      HIGH\n",
       "153808      HIGH\n",
       "153809      HIGH\n",
       "Name: Risk, Length: 153810, dtype: object"
      ]
     },
     "execution_count": 61,
     "metadata": {},
     "output_type": "execute_result"
    }
   ],
   "source": [
    "chicagoDF['Risk'].str.slice(8, -1).str.upper()"
   ]
  },
  {
   "cell_type": "code",
   "execution_count": null,
   "id": "4c27ca7e-79d4-465c-ac6e-e105639408b6",
   "metadata": {},
   "outputs": [],
   "source": []
  }
 ],
 "metadata": {
  "kernelspec": {
   "display_name": "Python 3 (ipykernel)",
   "language": "python",
   "name": "python3"
  },
  "language_info": {
   "codemirror_mode": {
    "name": "ipython",
    "version": 3
   },
   "file_extension": ".py",
   "mimetype": "text/x-python",
   "name": "python",
   "nbconvert_exporter": "python",
   "pygments_lexer": "ipython3",
   "version": "3.8.18"
  }
 },
 "nbformat": 4,
 "nbformat_minor": 5
}
