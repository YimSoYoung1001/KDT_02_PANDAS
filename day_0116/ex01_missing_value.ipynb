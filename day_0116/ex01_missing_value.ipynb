{
 "cells": [
  {
   "cell_type": "markdown",
   "id": "e7716c28-e7f8-4519-a290-ddd7414165e2",
   "metadata": {},
   "source": [
    "## [ 결측치 Missing Value 처리 ]\n",
    "- 데이터 미입력 또는 데이터 저장 과정에서 지워진 데이터\n",
    "- 빈칸 의미\n",
    "- 표시 : NaN (Not A Number) NaT(Not a Text)\n",
    "- 표현 : numpy 모듈의 nan, math 모듈의 nan 사용"
   ]
  },
  {
   "cell_type": "markdown",
   "id": "6837e250-5af5-4e93-9f0b-b25326f2ae38",
   "metadata": {},
   "source": [
    "(1) 모듈 로딩"
   ]
  },
  {
   "cell_type": "code",
   "execution_count": 71,
   "id": "64298bcd-7403-4528-a53a-de921a4685a5",
   "metadata": {},
   "outputs": [],
   "source": [
    "import pandas as pd"
   ]
  },
  {
   "cell_type": "markdown",
   "id": "79a00e62-41c9-440b-afa3-d7ba16c54758",
   "metadata": {},
   "source": [
    "(2) 데이터 준비"
   ]
  },
  {
   "cell_type": "code",
   "execution_count": 72,
   "id": "2eb9883a-d872-4b04-9f22-851941bfda8c",
   "metadata": {},
   "outputs": [],
   "source": [
    "file = '../DATA/employees.csv'"
   ]
  },
  {
   "cell_type": "markdown",
   "id": "ede39491-330c-42ba-868e-b98009d1e9f2",
   "metadata": {},
   "source": [
    "(3) 데이터 저장 : CSV => DataFrame"
   ]
  },
  {
   "cell_type": "markdown",
   "id": "8f5814c9-e322-4c83-9efa-cdc828d99a9c",
   "metadata": {},
   "source": [
    "원본 파일 열어서 봐야할거\n",
    "- 첫줄이 데이터인지 컬럼인지 확인\n",
    "- 결측치 존재 유무\n",
    "- 열 중에서 행 인덱스로 쓰일만한게 있는지 확인 (빈칸이나 중복이 있으면 안됨)"
   ]
  },
  {
   "cell_type": "code",
   "execution_count": 73,
   "id": "f1e583be-07a3-44c4-a465-0b184a58e163",
   "metadata": {},
   "outputs": [],
   "source": [
    "# 구분자: ,           헤더: 첫번째 줄 컬럼명\n",
    "empDF=pd.read_csv(file)"
   ]
  },
  {
   "cell_type": "markdown",
   "id": "aa6d87d1-5797-41b2-99be-6f2666599245",
   "metadata": {},
   "source": [
    "(4) 데이터 확인"
   ]
  },
  {
   "cell_type": "code",
   "execution_count": 74,
   "id": "d4945a3c-818c-44d1-9ea5-484461f75629",
   "metadata": {},
   "outputs": [
    {
     "name": "stdout",
     "output_type": "stream",
     "text": [
      "<class 'pandas.core.frame.DataFrame'>\n",
      "RangeIndex: 1001 entries, 0 to 1000\n",
      "Data columns (total 6 columns):\n",
      " #   Column      Non-Null Count  Dtype  \n",
      "---  ------      --------------  -----  \n",
      " 0   First Name  933 non-null    object \n",
      " 1   Gender      854 non-null    object \n",
      " 2   Start Date  999 non-null    object \n",
      " 3   Salary      999 non-null    float64\n",
      " 4   Mgmt        933 non-null    object \n",
      " 5   Team        957 non-null    object \n",
      "dtypes: float64(1), object(5)\n",
      "memory usage: 47.0+ KB\n"
     ]
    }
   ],
   "source": [
    "# 데이터의 전반적인 요약정보 확인 => info() 메서드\n",
    "# - 컬럼명 결측치 여부 확인 ==> 실제 데이터에서 결측치 체크 & 처리\n",
    "# - 컬럼별 데이터 타입과 실제 데이터 타입 비교 ==> 타입 다른 경우, 타입 변환\n",
    "empDF.info()"
   ]
  },
  {
   "cell_type": "markdown",
   "id": "7c3277d9-9a61-4a92-89d2-47def63f2201",
   "metadata": {},
   "source": [
    "- 데이터의 컬럼별 분포 확인 => describe() : 컬럼별 기술통계값"
   ]
  },
  {
   "cell_type": "code",
   "execution_count": 75,
   "id": "b3fb0544-f0f1-4b4d-bc8a-c0eb7f69bb89",
   "metadata": {},
   "outputs": [
    {
     "data": {
      "text/html": [
       "<div>\n",
       "<style scoped>\n",
       "    .dataframe tbody tr th:only-of-type {\n",
       "        vertical-align: middle;\n",
       "    }\n",
       "\n",
       "    .dataframe tbody tr th {\n",
       "        vertical-align: top;\n",
       "    }\n",
       "\n",
       "    .dataframe thead th {\n",
       "        text-align: right;\n",
       "    }\n",
       "</style>\n",
       "<table border=\"1\" class=\"dataframe\">\n",
       "  <thead>\n",
       "    <tr style=\"text-align: right;\">\n",
       "      <th></th>\n",
       "      <th>Salary</th>\n",
       "    </tr>\n",
       "  </thead>\n",
       "  <tbody>\n",
       "    <tr>\n",
       "      <th>count</th>\n",
       "      <td>999.000000</td>\n",
       "    </tr>\n",
       "    <tr>\n",
       "      <th>mean</th>\n",
       "      <td>90655.528529</td>\n",
       "    </tr>\n",
       "    <tr>\n",
       "      <th>std</th>\n",
       "      <td>32939.511615</td>\n",
       "    </tr>\n",
       "    <tr>\n",
       "      <th>min</th>\n",
       "      <td>35013.000000</td>\n",
       "    </tr>\n",
       "    <tr>\n",
       "      <th>25%</th>\n",
       "      <td>62560.000000</td>\n",
       "    </tr>\n",
       "    <tr>\n",
       "      <th>50%</th>\n",
       "      <td>90427.000000</td>\n",
       "    </tr>\n",
       "    <tr>\n",
       "      <th>75%</th>\n",
       "      <td>118744.500000</td>\n",
       "    </tr>\n",
       "    <tr>\n",
       "      <th>max</th>\n",
       "      <td>149908.000000</td>\n",
       "    </tr>\n",
       "  </tbody>\n",
       "</table>\n",
       "</div>"
      ],
      "text/plain": [
       "              Salary\n",
       "count     999.000000\n",
       "mean    90655.528529\n",
       "std     32939.511615\n",
       "min     35013.000000\n",
       "25%     62560.000000\n",
       "50%     90427.000000\n",
       "75%    118744.500000\n",
       "max    149908.000000"
      ]
     },
     "execution_count": 75,
     "metadata": {},
     "output_type": "execute_result"
    }
   ],
   "source": [
    "empDF.describe()"
   ]
  },
  {
   "cell_type": "code",
   "execution_count": 76,
   "id": "c8aeb6a7-5e52-4a0d-8d7b-71e3db318fe8",
   "metadata": {
    "scrolled": true
   },
   "outputs": [
    {
     "name": "stdout",
     "output_type": "stream",
     "text": [
      "     Salary\n",
      "0   86676.0\n",
      "1   91462.0\n",
      "2  121160.0\n",
      "3  145988.0\n",
      "4  147183.0\n",
      "\n",
      "Salary    90427.0\n",
      "dtype: float64\n",
      "\n",
      "Salary    90655.528529\n",
      "dtype: float64\n"
     ]
    }
   ],
   "source": [
    "# 최빈값 => mode(), 중앙값 => median()\n",
    "print(empDF.mode(numeric_only = True),\n",
    "      empDF.median(numeric_only=True),\n",
    "      empDF.mean(numeric_only=True),\n",
    "      sep='\\n\\n')"
   ]
  },
  {
   "cell_type": "markdown",
   "id": "05f93365-0e54-4eb6-956b-0651587a9953",
   "metadata": {},
   "source": [
    "(5) 데이터 전처리(Preprocessing) => 가. 결측치 처리"
   ]
  },
  {
   "cell_type": "markdown",
   "id": "ac78184b-7a05-4b5d-8c86-581b77a1eae2",
   "metadata": {},
   "source": [
    "- 결측치 확인 ==> isna(), isnull() : 원소 단위로 검사 후 결측치인 경우 True 반환"
   ]
  },
  {
   "cell_type": "code",
   "execution_count": 77,
   "id": "6610f928-e86c-4fa1-9c4f-664a7d1faf42",
   "metadata": {},
   "outputs": [
    {
     "name": "stdout",
     "output_type": "stream",
     "text": [
      "   First Name  Gender  Start Date  Salary   Mgmt   Team\n",
      "0       False   False       False    True  False  False\n",
      "1       False   False       False   False  False   True\n",
      "2       False   False        True   False  False  False\n",
      "3       False    True       False   False  False  False\n",
      "4       False   False       False   False  False  False\n",
      "\n",
      "   First Name  Gender  Start Date  Salary   Mgmt   Team\n",
      "0       False   False       False    True  False  False\n",
      "1       False   False       False   False  False   True\n",
      "2       False   False        True   False  False  False\n",
      "3       False    True       False   False  False  False\n",
      "4       False   False       False   False  False  False\n"
     ]
    }
   ],
   "source": [
    "# 전체 데이터의 컬럼별 결측치 체크\n",
    "print(empDF.isna().head(), empDF.isnull().head(), sep = '\\n\\n')"
   ]
  },
  {
   "cell_type": "code",
   "execution_count": 78,
   "id": "ff2390aa-91a4-42f4-abef-efe86621ce0a",
   "metadata": {},
   "outputs": [
    {
     "name": "stdout",
     "output_type": "stream",
     "text": [
      "First Name     68\n",
      "Gender        147\n",
      "Start Date      2\n",
      "Salary          2\n",
      "Mgmt           68\n",
      "Team           44\n",
      "dtype: int64\n",
      "\n",
      "First Name     68\n",
      "Gender        147\n",
      "Start Date      2\n",
      "Salary          2\n",
      "Mgmt           68\n",
      "Team           44\n",
      "dtype: int64\n"
     ]
    }
   ],
   "source": [
    "# 전체 데이터의 컬럼별 결측치 체크 후 갯수 파악 => 합계\n",
    "print(empDF.isna().sum(), empDF.isnull().sum(), sep = '\\n\\n')"
   ]
  },
  {
   "cell_type": "code",
   "execution_count": 79,
   "id": "634aad1d-050d-4f59-b25a-27ae05ce5367",
   "metadata": {},
   "outputs": [
    {
     "data": {
      "text/html": [
       "<div>\n",
       "<style scoped>\n",
       "    .dataframe tbody tr th:only-of-type {\n",
       "        vertical-align: middle;\n",
       "    }\n",
       "\n",
       "    .dataframe tbody tr th {\n",
       "        vertical-align: top;\n",
       "    }\n",
       "\n",
       "    .dataframe thead th {\n",
       "        text-align: right;\n",
       "    }\n",
       "</style>\n",
       "<table border=\"1\" class=\"dataframe\">\n",
       "  <thead>\n",
       "    <tr style=\"text-align: right;\">\n",
       "      <th></th>\n",
       "      <th>First Name</th>\n",
       "      <th>Gender</th>\n",
       "      <th>Start Date</th>\n",
       "      <th>Salary</th>\n",
       "      <th>Mgmt</th>\n",
       "      <th>Team</th>\n",
       "    </tr>\n",
       "  </thead>\n",
       "  <tbody>\n",
       "    <tr>\n",
       "      <th>0</th>\n",
       "      <td>True</td>\n",
       "      <td>True</td>\n",
       "      <td>True</td>\n",
       "      <td>False</td>\n",
       "      <td>True</td>\n",
       "      <td>True</td>\n",
       "    </tr>\n",
       "    <tr>\n",
       "      <th>1</th>\n",
       "      <td>True</td>\n",
       "      <td>True</td>\n",
       "      <td>True</td>\n",
       "      <td>True</td>\n",
       "      <td>True</td>\n",
       "      <td>False</td>\n",
       "    </tr>\n",
       "    <tr>\n",
       "      <th>2</th>\n",
       "      <td>True</td>\n",
       "      <td>True</td>\n",
       "      <td>False</td>\n",
       "      <td>True</td>\n",
       "      <td>True</td>\n",
       "      <td>True</td>\n",
       "    </tr>\n",
       "    <tr>\n",
       "      <th>3</th>\n",
       "      <td>True</td>\n",
       "      <td>False</td>\n",
       "      <td>True</td>\n",
       "      <td>True</td>\n",
       "      <td>True</td>\n",
       "      <td>True</td>\n",
       "    </tr>\n",
       "    <tr>\n",
       "      <th>4</th>\n",
       "      <td>True</td>\n",
       "      <td>True</td>\n",
       "      <td>True</td>\n",
       "      <td>True</td>\n",
       "      <td>True</td>\n",
       "      <td>True</td>\n",
       "    </tr>\n",
       "    <tr>\n",
       "      <th>...</th>\n",
       "      <td>...</td>\n",
       "      <td>...</td>\n",
       "      <td>...</td>\n",
       "      <td>...</td>\n",
       "      <td>...</td>\n",
       "      <td>...</td>\n",
       "    </tr>\n",
       "    <tr>\n",
       "      <th>996</th>\n",
       "      <td>True</td>\n",
       "      <td>True</td>\n",
       "      <td>True</td>\n",
       "      <td>True</td>\n",
       "      <td>True</td>\n",
       "      <td>True</td>\n",
       "    </tr>\n",
       "    <tr>\n",
       "      <th>997</th>\n",
       "      <td>True</td>\n",
       "      <td>True</td>\n",
       "      <td>True</td>\n",
       "      <td>True</td>\n",
       "      <td>True</td>\n",
       "      <td>True</td>\n",
       "    </tr>\n",
       "    <tr>\n",
       "      <th>998</th>\n",
       "      <td>True</td>\n",
       "      <td>True</td>\n",
       "      <td>True</td>\n",
       "      <td>True</td>\n",
       "      <td>True</td>\n",
       "      <td>True</td>\n",
       "    </tr>\n",
       "    <tr>\n",
       "      <th>999</th>\n",
       "      <td>True</td>\n",
       "      <td>True</td>\n",
       "      <td>True</td>\n",
       "      <td>True</td>\n",
       "      <td>True</td>\n",
       "      <td>True</td>\n",
       "    </tr>\n",
       "    <tr>\n",
       "      <th>1000</th>\n",
       "      <td>False</td>\n",
       "      <td>False</td>\n",
       "      <td>False</td>\n",
       "      <td>False</td>\n",
       "      <td>False</td>\n",
       "      <td>False</td>\n",
       "    </tr>\n",
       "  </tbody>\n",
       "</table>\n",
       "<p>1001 rows × 6 columns</p>\n",
       "</div>"
      ],
      "text/plain": [
       "      First Name  Gender  Start Date  Salary   Mgmt   Team\n",
       "0           True    True        True   False   True   True\n",
       "1           True    True        True    True   True  False\n",
       "2           True    True       False    True   True   True\n",
       "3           True   False        True    True   True   True\n",
       "4           True    True        True    True   True   True\n",
       "...          ...     ...         ...     ...    ...    ...\n",
       "996         True    True        True    True   True   True\n",
       "997         True    True        True    True   True   True\n",
       "998         True    True        True    True   True   True\n",
       "999         True    True        True    True   True   True\n",
       "1000       False   False       False   False  False  False\n",
       "\n",
       "[1001 rows x 6 columns]"
      ]
     },
     "execution_count": 79,
     "metadata": {},
     "output_type": "execute_result"
    }
   ],
   "source": [
    "empDF.notna()"
   ]
  },
  {
   "cell_type": "markdown",
   "id": "5d68d19c-c8ce-4a8d-8b31-1be5b5433704",
   "metadata": {},
   "source": [
    "- 결측치 확인 ==> notna() / notnull()  : 결측치가 아니면 True 반환"
   ]
  },
  {
   "cell_type": "code",
   "execution_count": 80,
   "id": "be8e92f9-a888-49d3-a7c5-6e840b2a1559",
   "metadata": {},
   "outputs": [
    {
     "name": "stdout",
     "output_type": "stream",
     "text": [
      "   First Name  Gender  Start Date  Salary  Mgmt   Team\n",
      "0        True    True        True   False  True   True\n",
      "1        True    True        True    True  True  False\n",
      "2        True    True       False    True  True   True\n",
      "3        True   False        True    True  True   True\n",
      "4        True    True        True    True  True   True\n",
      "\n",
      "   First Name  Gender  Start Date  Salary  Mgmt   Team\n",
      "0        True    True        True   False  True   True\n",
      "1        True    True        True    True  True  False\n",
      "2        True    True       False    True  True   True\n",
      "3        True   False        True    True  True   True\n",
      "4        True    True        True    True  True   True\n"
     ]
    }
   ],
   "source": [
    "print(empDF.notna().head(), empDF.notnull().head(), sep='\\n\\n')"
   ]
  },
  {
   "cell_type": "code",
   "execution_count": 81,
   "id": "d9a6fe53-8849-4830-936f-4b9ff6e4b8cb",
   "metadata": {},
   "outputs": [
    {
     "name": "stdout",
     "output_type": "stream",
     "text": [
      "First Name    933\n",
      "Gender        854\n",
      "Start Date    999\n",
      "Salary        999\n",
      "Mgmt          933\n",
      "Team          957\n",
      "dtype: int64\n",
      "\n",
      "First Name    933\n",
      "Gender        854\n",
      "Start Date    999\n",
      "Salary        999\n",
      "Mgmt          933\n",
      "Team          957\n",
      "dtype: int64\n"
     ]
    }
   ],
   "source": [
    "print(empDF.notna().sum(), empDF.notnull().sum(), sep='\\n\\n')"
   ]
  },
  {
   "cell_type": "markdown",
   "id": "15dbe07e-37bb-41f8-b7ce-5ea3fd0c4de5",
   "metadata": {},
   "source": [
    "- 결측치 처리 ==> (1) 삭제 : dropna()"
   ]
  },
  {
   "cell_type": "code",
   "execution_count": 82,
   "id": "23e1859d-f6be-45b4-b73c-2e81a35fb922",
   "metadata": {},
   "outputs": [
    {
     "name": "stdout",
     "output_type": "stream",
     "text": [
      "(1001, 6) (761, 6)\n"
     ]
    }
   ],
   "source": [
    "# [기본] 모든 행에 1개의 값이라도 NaN이면 삭제\n",
    "empDF2 = empDF.dropna()            #복사본을 저장함\n",
    "print(empDF.shape, empDF2.shape)"
   ]
  },
  {
   "cell_type": "code",
   "execution_count": 83,
   "id": "03c78cf8-4137-4229-8952-da8faddeee06",
   "metadata": {},
   "outputs": [
    {
     "name": "stdout",
     "output_type": "stream",
     "text": [
      "(1001, 6) (1000, 6)\n"
     ]
    }
   ],
   "source": [
    "# [설정] 행에 모든 데이터 즉 값이 NA면 삭제\n",
    "# 즉, 1개의 행을 뽑았을 때 모든 열이 NaN이면 삭제하겠다. 하나라도 데이터가 있다면 삭제는 ㄴㄴ\n",
    "\n",
    "empDF3 = empDF.dropna(how = 'all')\n",
    "print(empDF.shape, empDF3.shape)"
   ]
  },
  {
   "cell_type": "code",
   "execution_count": 84,
   "id": "63dfc7d8-45e8-4223-8deb-05ac5f917be1",
   "metadata": {},
   "outputs": [
    {
     "name": "stdout",
     "output_type": "stream",
     "text": [
      "(1001, 6) (853, 6)\n"
     ]
    }
   ],
   "source": [
    "# [설정] 특정 컬럼의 NA만 체크 후 삭제하는 방법\n",
    "# 즉, Salary에 대해 분석하려는데 어떤 행이 Salary 빼고 다른 열은 데이터가 있다한들 필요없으니 삭제하겠다.\n",
    "\n",
    "# 예) 성별에 따른 연봉 분석 => NA면 분석 불가능 컬럼을 지정\n",
    "empDF3 = empDF.dropna(subset = ['Gender', 'Salary'])\n",
    "print(empDF.shape, empDF3.shape)"
   ]
  },
  {
   "cell_type": "code",
   "execution_count": 85,
   "id": "8e97df36-3e56-4c17-aa10-fe2839a9cee4",
   "metadata": {},
   "outputs": [
    {
     "name": "stdout",
     "output_type": "stream",
     "text": [
      "(1001, 6) (1001, 5) Index(['First Name', 'Start Date', 'Salary', 'Mgmt', 'Team'], dtype='object')\n"
     ]
    }
   ],
   "source": [
    "# [설정] 컬럼별 정상데이터 즉 NA가 아닌 데이터의 개수를 지정 후 해당 수만큼 정상데이터가 없는 컬럼 삭제\n",
    "# 즉, 열 안에서 정상데이터가 몇개 이하면 그 열을 삭제시켜라\n",
    "\n",
    "empDF5 = empDF.dropna(thresh = 900, axis='columns')\n",
    "print(empDF.shape, empDF5.shape, empDF5.columns)"
   ]
  },
  {
   "cell_type": "markdown",
   "id": "af8587f6-761f-422a-82be-7656a56c49c6",
   "metadata": {},
   "source": [
    "- 결측치 처리 => 대체 : fillna()"
   ]
  },
  {
   "cell_type": "code",
   "execution_count": 86,
   "id": "f4be4a7e-2153-4dda-9a7c-50570275aec9",
   "metadata": {},
   "outputs": [
    {
     "data": {
      "text/html": [
       "<div>\n",
       "<style scoped>\n",
       "    .dataframe tbody tr th:only-of-type {\n",
       "        vertical-align: middle;\n",
       "    }\n",
       "\n",
       "    .dataframe tbody tr th {\n",
       "        vertical-align: top;\n",
       "    }\n",
       "\n",
       "    .dataframe thead th {\n",
       "        text-align: right;\n",
       "    }\n",
       "</style>\n",
       "<table border=\"1\" class=\"dataframe\">\n",
       "  <thead>\n",
       "    <tr style=\"text-align: right;\">\n",
       "      <th></th>\n",
       "      <th>First Name</th>\n",
       "      <th>Gender</th>\n",
       "      <th>Start Date</th>\n",
       "      <th>Salary</th>\n",
       "      <th>Mgmt</th>\n",
       "      <th>Team</th>\n",
       "    </tr>\n",
       "  </thead>\n",
       "  <tbody>\n",
       "    <tr>\n",
       "      <th>count</th>\n",
       "      <td>933</td>\n",
       "      <td>854</td>\n",
       "      <td>999</td>\n",
       "      <td>999.0</td>\n",
       "      <td>933</td>\n",
       "      <td>957</td>\n",
       "    </tr>\n",
       "    <tr>\n",
       "      <th>unique</th>\n",
       "      <td>200</td>\n",
       "      <td>2</td>\n",
       "      <td>971</td>\n",
       "      <td>NaN</td>\n",
       "      <td>2</td>\n",
       "      <td>10</td>\n",
       "    </tr>\n",
       "    <tr>\n",
       "      <th>top</th>\n",
       "      <td>Marilyn</td>\n",
       "      <td>Female</td>\n",
       "      <td>10/30/04</td>\n",
       "      <td>NaN</td>\n",
       "      <td>True</td>\n",
       "      <td>IT</td>\n",
       "    </tr>\n",
       "    <tr>\n",
       "      <th>freq</th>\n",
       "      <td>11</td>\n",
       "      <td>431</td>\n",
       "      <td>2</td>\n",
       "      <td>NaN</td>\n",
       "      <td>468</td>\n",
       "      <td>106</td>\n",
       "    </tr>\n",
       "  </tbody>\n",
       "</table>\n",
       "</div>"
      ],
      "text/plain": [
       "       First Name  Gender Start Date  Salary  Mgmt Team\n",
       "count         933     854        999   999.0   933  957\n",
       "unique        200       2        971     NaN     2   10\n",
       "top       Marilyn  Female   10/30/04     NaN  True   IT\n",
       "freq           11     431          2     NaN   468  106"
      ]
     },
     "execution_count": 86,
     "metadata": {},
     "output_type": "execute_result"
    }
   ],
   "source": [
    "# Gender 컬럼에 결측값을 무엇으로 채울지? 결졍해보자\n",
    "empDF.describe(include = 'all').head(4)"
   ]
  },
  {
   "cell_type": "code",
   "execution_count": 87,
   "id": "0d538448-aeb9-4817-976e-463fd45afbba",
   "metadata": {},
   "outputs": [
    {
     "data": {
      "text/plain": [
       "0"
      ]
     },
     "execution_count": 87,
     "metadata": {},
     "output_type": "execute_result"
    }
   ],
   "source": [
    "# ==> 컬럼의 최빈값으로 na 채우기\n",
    "empDF.Gender.mode()[0]           #mode까지 하면 시리즈가 나오니까 최빈값을 인덱스로 접근\n",
    "genSR = empDF.Gender.fillna(empDF.Gender.mode()[0])    #시리즈에 접근한거라 시리즈 원본에 바꿔줌\n",
    "genSR.isna().sum()               # 결측값이 사라진걸 알수있음"
   ]
  },
  {
   "cell_type": "code",
   "execution_count": 88,
   "id": "2a4462f1-f905-463c-8cb6-8299ab41ce71",
   "metadata": {},
   "outputs": [
    {
     "data": {
      "text/plain": [
       "0         Male\n",
       "1         Male\n",
       "2       Female\n",
       "3       Female\n",
       "4         Male\n",
       "         ...  \n",
       "996       Male\n",
       "997       Male\n",
       "998       Male\n",
       "999       Male\n",
       "1000      Male\n",
       "Name: Gender, Length: 1001, dtype: object"
      ]
     },
     "execution_count": 88,
     "metadata": {},
     "output_type": "execute_result"
    }
   ],
   "source": [
    "# ==> NA값 이전과 이후 값으로 채우기 => method = 'ffill', method = 'bfill'\n",
    "\n",
    "# 결측값을 앞의 값(그전 인덱스 값)으로 채우자\n",
    "empDF.Gender.fillna(method = 'ffill') \n",
    "# 이 시리즈에서는 bfill하면 마지막 값이 NaN이 됨(채울게 없음)\n",
    "\n",
    "#empDF.Gender.fillna(method = 'ffill', limit =  1) \n",
    "#이르케 하면 하나만 채우겠다."
   ]
  },
  {
   "cell_type": "code",
   "execution_count": 89,
   "id": "64cab82d-9d2b-4713-b296-65f3c55d4780",
   "metadata": {},
   "outputs": [
    {
     "data": {
      "text/html": [
       "<div>\n",
       "<style scoped>\n",
       "    .dataframe tbody tr th:only-of-type {\n",
       "        vertical-align: middle;\n",
       "    }\n",
       "\n",
       "    .dataframe tbody tr th {\n",
       "        vertical-align: top;\n",
       "    }\n",
       "\n",
       "    .dataframe thead th {\n",
       "        text-align: right;\n",
       "    }\n",
       "</style>\n",
       "<table border=\"1\" class=\"dataframe\">\n",
       "  <thead>\n",
       "    <tr style=\"text-align: right;\">\n",
       "      <th></th>\n",
       "      <th>A</th>\n",
       "      <th>B</th>\n",
       "      <th>C</th>\n",
       "      <th>D</th>\n",
       "    </tr>\n",
       "  </thead>\n",
       "  <tbody>\n",
       "    <tr>\n",
       "      <th>0</th>\n",
       "      <td>NaN</td>\n",
       "      <td>2.0</td>\n",
       "      <td>NaN</td>\n",
       "      <td>0.0</td>\n",
       "    </tr>\n",
       "    <tr>\n",
       "      <th>1</th>\n",
       "      <td>3.0</td>\n",
       "      <td>4.0</td>\n",
       "      <td>NaN</td>\n",
       "      <td>1.0</td>\n",
       "    </tr>\n",
       "    <tr>\n",
       "      <th>2</th>\n",
       "      <td>NaN</td>\n",
       "      <td>NaN</td>\n",
       "      <td>NaN</td>\n",
       "      <td>NaN</td>\n",
       "    </tr>\n",
       "    <tr>\n",
       "      <th>3</th>\n",
       "      <td>NaN</td>\n",
       "      <td>3.0</td>\n",
       "      <td>NaN</td>\n",
       "      <td>4.0</td>\n",
       "    </tr>\n",
       "  </tbody>\n",
       "</table>\n",
       "</div>"
      ],
      "text/plain": [
       "     A    B   C    D\n",
       "0  NaN  2.0 NaN  0.0\n",
       "1  3.0  4.0 NaN  1.0\n",
       "2  NaN  NaN NaN  NaN\n",
       "3  NaN  3.0 NaN  4.0"
      ]
     },
     "execution_count": 89,
     "metadata": {},
     "output_type": "execute_result"
    }
   ],
   "source": [
    "import numpy as np\n",
    "df = pd.DataFrame([[np.nan, 2, np.nan, 0],\n",
    "                    [3, 4, np.nan, 1],\n",
    "                    [np.nan, np.nan, np.nan, np.nan],\n",
    "                    [np.nan, 3, np.nan, 4]],\n",
    "                   columns=list(\"ABCD\"))\n",
    "df"
   ]
  },
  {
   "cell_type": "code",
   "execution_count": 90,
   "id": "b2462ab0-6a50-4052-8096-280184c85fec",
   "metadata": {},
   "outputs": [
    {
     "data": {
      "text/plain": [
       "0    3.0\n",
       "1    3.0\n",
       "2    NaN\n",
       "3    NaN\n",
       "Name: A, dtype: float64"
      ]
     },
     "execution_count": 90,
     "metadata": {},
     "output_type": "execute_result"
    }
   ],
   "source": [
    "df.A.fillna(method = 'bfill')"
   ]
  },
  {
   "cell_type": "code",
   "execution_count": 91,
   "id": "b2b72a71-681b-431a-8de2-2678c191e6e8",
   "metadata": {},
   "outputs": [
    {
     "data": {
      "text/plain": [
       "0    NaN\n",
       "1    3.0\n",
       "2    3.0\n",
       "3    NaN\n",
       "Name: A, dtype: float64"
      ]
     },
     "execution_count": 91,
     "metadata": {},
     "output_type": "execute_result"
    }
   ],
   "source": [
    "df.A.fillna(method = 'ffill', limit = 1)         #여기서 limit은 최대 채우는 개수를 지정함"
   ]
  },
  {
   "cell_type": "code",
   "execution_count": 92,
   "id": "05b0713f-1a3c-4b0c-9bed-0d66e7dd45ba",
   "metadata": {},
   "outputs": [
    {
     "data": {
      "text/html": [
       "<div>\n",
       "<style scoped>\n",
       "    .dataframe tbody tr th:only-of-type {\n",
       "        vertical-align: middle;\n",
       "    }\n",
       "\n",
       "    .dataframe tbody tr th {\n",
       "        vertical-align: top;\n",
       "    }\n",
       "\n",
       "    .dataframe thead th {\n",
       "        text-align: right;\n",
       "    }\n",
       "</style>\n",
       "<table border=\"1\" class=\"dataframe\">\n",
       "  <thead>\n",
       "    <tr style=\"text-align: right;\">\n",
       "      <th></th>\n",
       "      <th>A</th>\n",
       "      <th>B</th>\n",
       "      <th>C</th>\n",
       "      <th>D</th>\n",
       "    </tr>\n",
       "  </thead>\n",
       "  <tbody>\n",
       "    <tr>\n",
       "      <th>0</th>\n",
       "      <td>0.0</td>\n",
       "      <td>2.0</td>\n",
       "      <td>0.0</td>\n",
       "      <td>0.0</td>\n",
       "    </tr>\n",
       "    <tr>\n",
       "      <th>1</th>\n",
       "      <td>3.0</td>\n",
       "      <td>4.0</td>\n",
       "      <td>0.0</td>\n",
       "      <td>1.0</td>\n",
       "    </tr>\n",
       "    <tr>\n",
       "      <th>2</th>\n",
       "      <td>0.0</td>\n",
       "      <td>0.0</td>\n",
       "      <td>0.0</td>\n",
       "      <td>NaN</td>\n",
       "    </tr>\n",
       "    <tr>\n",
       "      <th>3</th>\n",
       "      <td>0.0</td>\n",
       "      <td>3.0</td>\n",
       "      <td>0.0</td>\n",
       "      <td>4.0</td>\n",
       "    </tr>\n",
       "  </tbody>\n",
       "</table>\n",
       "</div>"
      ],
      "text/plain": [
       "     A    B    C    D\n",
       "0  0.0  2.0  0.0  0.0\n",
       "1  3.0  4.0  0.0  1.0\n",
       "2  0.0  0.0  0.0  NaN\n",
       "3  0.0  3.0  0.0  4.0"
      ]
     },
     "execution_count": 92,
     "metadata": {},
     "output_type": "execute_result"
    }
   ],
   "source": [
    "df2 = pd.DataFrame(np.zeros((4,4)), columns = list(\"ABCE\"))\n",
    "df.fillna(df2)   #여기서는 E열이 없기때문에 D는 결측값이 채워지지 않는다. (일대일대응이니까)"
   ]
  },
  {
   "cell_type": "code",
   "execution_count": 93,
   "id": "3d2bdb2f-509b-4bb2-81b7-50e41d5d349e",
   "metadata": {},
   "outputs": [
    {
     "data": {
      "text/plain": [
       "0    2.0\n",
       "1    4.0\n",
       "2    3.0\n",
       "3    3.0\n",
       "Name: B, dtype: float64"
      ]
     },
     "execution_count": 93,
     "metadata": {},
     "output_type": "execute_result"
    }
   ],
   "source": [
    "# B 컬럼과 D 컬럼을 평균으로 결측치를 대체하고자 함\n",
    "df.B.fillna(df.B.mean())"
   ]
  },
  {
   "cell_type": "code",
   "execution_count": 94,
   "id": "a74f2ed9-9351-4aab-b428-e2a985ae901f",
   "metadata": {},
   "outputs": [
    {
     "data": {
      "text/plain": [
       "0    0.000000\n",
       "1    1.000000\n",
       "2    1.666667\n",
       "3    4.000000\n",
       "Name: D, dtype: float64"
      ]
     },
     "execution_count": 94,
     "metadata": {},
     "output_type": "execute_result"
    }
   ],
   "source": [
    "df.D.fillna(df.D.mean())"
   ]
  },
  {
   "cell_type": "code",
   "execution_count": null,
   "id": "d75ae81c-7b08-426c-88f3-592d07747a0c",
   "metadata": {},
   "outputs": [],
   "source": []
  }
 ],
 "metadata": {
  "kernelspec": {
   "display_name": "Python 3 (ipykernel)",
   "language": "python",
   "name": "python3"
  },
  "language_info": {
   "codemirror_mode": {
    "name": "ipython",
    "version": 3
   },
   "file_extension": ".py",
   "mimetype": "text/x-python",
   "name": "python",
   "nbconvert_exporter": "python",
   "pygments_lexer": "ipython3",
   "version": "3.8.18"
  }
 },
 "nbformat": 4,
 "nbformat_minor": 5
}
