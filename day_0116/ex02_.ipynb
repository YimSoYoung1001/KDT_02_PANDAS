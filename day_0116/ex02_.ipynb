{
 "cells": [
  {
   "cell_type": "markdown",
   "id": "bcc4901c-ba6f-48b7-8147-e4048840d40b",
   "metadata": {},
   "source": [
    "## [ 중복 데이터 처리 ]\n",
    "- 중복 데이터 기준 ==> 행(row)\n",
    "- 행 단위로 모든 컬럼의 값이 완전히 똑같은 데이터는 중복 데이터\n",
    "- 처리 => 제거"
   ]
  },
  {
   "cell_type": "markdown",
   "id": "f10bdeb9-5407-47be-a05d-80909172b3f3",
   "metadata": {},
   "source": [
    "(1) 모듈 로딩"
   ]
  },
  {
   "cell_type": "code",
   "execution_count": 44,
   "id": "2ad90fed-ad5a-4bd1-baaa-77ef910f6fac",
   "metadata": {},
   "outputs": [],
   "source": [
    "import pandas as pd"
   ]
  },
  {
   "cell_type": "markdown",
   "id": "3886ce0c-ea4c-4c97-b91e-278c2a62a1e0",
   "metadata": {},
   "source": [
    "(2) 데이터 준비    "
   ]
  },
  {
   "cell_type": "code",
   "execution_count": 45,
   "id": "ed02c637-9724-4c6f-8973-87ad043faa2b",
   "metadata": {},
   "outputs": [],
   "source": [
    "file = '../DATA/employees.csv'"
   ]
  },
  {
   "cell_type": "markdown",
   "id": "2e1416a7-60b4-4b12-87d2-a88437328dd3",
   "metadata": {},
   "source": [
    "(3) 데이터 저장 : CSV => DF"
   ]
  },
  {
   "cell_type": "code",
   "execution_count": 46,
   "id": "9d060d97-02a3-47ca-ac7b-3072480e0ee6",
   "metadata": {},
   "outputs": [],
   "source": [
    "empDF = pd.read_csv(file)"
   ]
  },
  {
   "cell_type": "markdown",
   "id": "938d00a1-a7db-401a-85ea-08efd5c90731",
   "metadata": {},
   "source": [
    "(4) 데이터 확인"
   ]
  },
  {
   "cell_type": "code",
   "execution_count": 47,
   "id": "e81e99bb-d267-4366-aac5-5143bf41838d",
   "metadata": {},
   "outputs": [
    {
     "name": "stdout",
     "output_type": "stream",
     "text": [
      "<class 'pandas.core.frame.DataFrame'>\n",
      "RangeIndex: 1001 entries, 0 to 1000\n",
      "Data columns (total 6 columns):\n",
      " #   Column      Non-Null Count  Dtype  \n",
      "---  ------      --------------  -----  \n",
      " 0   First Name  933 non-null    object \n",
      " 1   Gender      854 non-null    object \n",
      " 2   Start Date  999 non-null    object \n",
      " 3   Salary      999 non-null    float64\n",
      " 4   Mgmt        933 non-null    object \n",
      " 5   Team        957 non-null    object \n",
      "dtypes: float64(1), object(5)\n",
      "memory usage: 47.0+ KB\n"
     ]
    }
   ],
   "source": [
    "empDF.info()"
   ]
  },
  {
   "cell_type": "markdown",
   "id": "964f857b-accd-4dc6-9703-b1affa386d74",
   "metadata": {},
   "source": [
    "(5) 데이터 전처리 => 나. 중복 데이터 처리"
   ]
  },
  {
   "cell_type": "markdown",
   "id": "2d5b3972-fd4b-4698-bb92-1ff7621751c1",
   "metadata": {},
   "source": [
    "- 중복 데이터 체크 => duplicated() : 중복이면 True\n",
    "- 중복 데이터 처리 => drop_duplicate() : 삭제"
   ]
  },
  {
   "cell_type": "code",
   "execution_count": 48,
   "id": "4bcf71c7-bbbd-47aa-adb8-943944efff0c",
   "metadata": {},
   "outputs": [
    {
     "data": {
      "text/plain": [
       "0"
      ]
     },
     "execution_count": 48,
     "metadata": {},
     "output_type": "execute_result"
    }
   ],
   "source": [
    "# 행 단위로 완전히 똑같은 행 검사 ==> 0개\n",
    "empDF.duplicated().sum()     "
   ]
  },
  {
   "cell_type": "code",
   "execution_count": 49,
   "id": "ab07df36-6270-4e62-985a-5a1f2a6f73cf",
   "metadata": {},
   "outputs": [
    {
     "data": {
      "text/plain": [
       "(990, 10)"
      ]
     },
     "execution_count": 49,
     "metadata": {},
     "output_type": "execute_result"
    }
   ],
   "source": [
    "# Team 컬럼 \n",
    "\n",
    "# 이전에 나온 값들과 같은지 다른지 . 같다면 True 다르면 False\n",
    "empDF.Team.duplicated().sum(), empDF.Team.nunique()\n",
    "# 중복값 개수 , 유니크값 개수"
   ]
  },
  {
   "cell_type": "code",
   "execution_count": 50,
   "id": "ff82e15a-c4d0-470a-b058-73d50289a78d",
   "metadata": {},
   "outputs": [
    {
     "data": {
      "text/html": [
       "<div>\n",
       "<style scoped>\n",
       "    .dataframe tbody tr th:only-of-type {\n",
       "        vertical-align: middle;\n",
       "    }\n",
       "\n",
       "    .dataframe tbody tr th {\n",
       "        vertical-align: top;\n",
       "    }\n",
       "\n",
       "    .dataframe thead th {\n",
       "        text-align: right;\n",
       "    }\n",
       "</style>\n",
       "<table border=\"1\" class=\"dataframe\">\n",
       "  <thead>\n",
       "    <tr style=\"text-align: right;\">\n",
       "      <th></th>\n",
       "      <th>First Name</th>\n",
       "      <th>Gender</th>\n",
       "      <th>Start Date</th>\n",
       "      <th>Salary</th>\n",
       "      <th>Mgmt</th>\n",
       "      <th>Team</th>\n",
       "    </tr>\n",
       "  </thead>\n",
       "  <tbody>\n",
       "    <tr>\n",
       "      <th>0</th>\n",
       "      <td>Douglas</td>\n",
       "      <td>Male</td>\n",
       "      <td>8/6/93</td>\n",
       "      <td>NaN</td>\n",
       "      <td>True</td>\n",
       "      <td>Marketing</td>\n",
       "    </tr>\n",
       "    <tr>\n",
       "      <th>1</th>\n",
       "      <td>Thomas</td>\n",
       "      <td>Male</td>\n",
       "      <td>3/31/96</td>\n",
       "      <td>61933.0</td>\n",
       "      <td>True</td>\n",
       "      <td>NaN</td>\n",
       "    </tr>\n",
       "    <tr>\n",
       "      <th>2</th>\n",
       "      <td>Maria</td>\n",
       "      <td>Female</td>\n",
       "      <td>NaN</td>\n",
       "      <td>130590.0</td>\n",
       "      <td>False</td>\n",
       "      <td>Finance</td>\n",
       "    </tr>\n",
       "    <tr>\n",
       "      <th>3</th>\n",
       "      <td>Jerry</td>\n",
       "      <td>NaN</td>\n",
       "      <td>3/4/05</td>\n",
       "      <td>138705.0</td>\n",
       "      <td>True</td>\n",
       "      <td>Finance</td>\n",
       "    </tr>\n",
       "    <tr>\n",
       "      <th>4</th>\n",
       "      <td>Larry</td>\n",
       "      <td>Male</td>\n",
       "      <td>1/24/98</td>\n",
       "      <td>101004.0</td>\n",
       "      <td>True</td>\n",
       "      <td>IT</td>\n",
       "    </tr>\n",
       "    <tr>\n",
       "      <th>...</th>\n",
       "      <td>...</td>\n",
       "      <td>...</td>\n",
       "      <td>...</td>\n",
       "      <td>...</td>\n",
       "      <td>...</td>\n",
       "      <td>...</td>\n",
       "    </tr>\n",
       "    <tr>\n",
       "      <th>996</th>\n",
       "      <td>Phillip</td>\n",
       "      <td>Male</td>\n",
       "      <td>1/31/84</td>\n",
       "      <td>42392.0</td>\n",
       "      <td>False</td>\n",
       "      <td>Finance</td>\n",
       "    </tr>\n",
       "    <tr>\n",
       "      <th>997</th>\n",
       "      <td>Russell</td>\n",
       "      <td>Male</td>\n",
       "      <td>5/20/13</td>\n",
       "      <td>96914.0</td>\n",
       "      <td>False</td>\n",
       "      <td>Product</td>\n",
       "    </tr>\n",
       "    <tr>\n",
       "      <th>998</th>\n",
       "      <td>Larry</td>\n",
       "      <td>Male</td>\n",
       "      <td>4/20/13</td>\n",
       "      <td>60500.0</td>\n",
       "      <td>False</td>\n",
       "      <td>Business Dev</td>\n",
       "    </tr>\n",
       "    <tr>\n",
       "      <th>999</th>\n",
       "      <td>Albert</td>\n",
       "      <td>Male</td>\n",
       "      <td>5/15/12</td>\n",
       "      <td>129949.0</td>\n",
       "      <td>True</td>\n",
       "      <td>Sales</td>\n",
       "    </tr>\n",
       "    <tr>\n",
       "      <th>1000</th>\n",
       "      <td>NaN</td>\n",
       "      <td>NaN</td>\n",
       "      <td>NaN</td>\n",
       "      <td>NaN</td>\n",
       "      <td>NaN</td>\n",
       "      <td>NaN</td>\n",
       "    </tr>\n",
       "  </tbody>\n",
       "</table>\n",
       "<p>1001 rows × 6 columns</p>\n",
       "</div>"
      ],
      "text/plain": [
       "     First Name  Gender Start Date    Salary   Mgmt          Team\n",
       "0       Douglas    Male     8/6/93       NaN   True     Marketing\n",
       "1        Thomas    Male    3/31/96   61933.0   True           NaN\n",
       "2         Maria  Female        NaN  130590.0  False       Finance\n",
       "3         Jerry     NaN     3/4/05  138705.0   True       Finance\n",
       "4         Larry    Male    1/24/98  101004.0   True            IT\n",
       "...         ...     ...        ...       ...    ...           ...\n",
       "996     Phillip    Male    1/31/84   42392.0  False       Finance\n",
       "997     Russell    Male    5/20/13   96914.0  False       Product\n",
       "998       Larry    Male    4/20/13   60500.0  False  Business Dev\n",
       "999      Albert    Male    5/15/12  129949.0   True         Sales\n",
       "1000        NaN     NaN        NaN       NaN    NaN           NaN\n",
       "\n",
       "[1001 rows x 6 columns]"
      ]
     },
     "execution_count": 50,
     "metadata": {},
     "output_type": "execute_result"
    }
   ],
   "source": [
    "empDF"
   ]
  },
  {
   "cell_type": "code",
   "execution_count": 51,
   "id": "cc37c843-5e6b-480f-9904-db767ac900c4",
   "metadata": {},
   "outputs": [
    {
     "data": {
      "text/plain": [
       "Series([], Name: Team, dtype: object)"
      ]
     },
     "execution_count": 51,
     "metadata": {},
     "output_type": "execute_result"
    }
   ],
   "source": [
    "# 중복 데이터를 삭제시켜보자\n",
    "empDF.Team.drop_duplicates(keep = False)\n",
    "\n",
    "#empDF.drop_duplicates(subset = ['Team'])\n",
    "#데이터프레임에서 중복값을 찾아서 삭제하려고 한다. 근데 그 찾는 열을 'Team'으로 설정해서 해보겠다"
   ]
  },
  {
   "cell_type": "code",
   "execution_count": null,
   "id": "86c1dc24-1a34-4464-9869-2c23273c3f83",
   "metadata": {},
   "outputs": [],
   "source": []
  }
 ],
 "metadata": {
  "kernelspec": {
   "display_name": "Python 3 (ipykernel)",
   "language": "python",
   "name": "python3"
  },
  "language_info": {
   "codemirror_mode": {
    "name": "ipython",
    "version": 3
   },
   "file_extension": ".py",
   "mimetype": "text/x-python",
   "name": "python",
   "nbconvert_exporter": "python",
   "pygments_lexer": "ipython3",
   "version": "3.8.18"
  }
 },
 "nbformat": 4,
 "nbformat_minor": 5
}
