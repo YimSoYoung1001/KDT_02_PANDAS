{
 "cells": [
  {
   "cell_type": "markdown",
   "id": "28281807-1a4b-4268-94a5-e94ad17b74d4",
   "metadata": {},
   "source": [
    "## [ DataFrame 인덱스 다루기 ]"
   ]
  },
  {
   "cell_type": "markdown",
   "id": "dc43e391-b319-4b91-91b3-fe79d992c211",
   "metadata": {},
   "source": [
    "- (1) 모듈 로딩 <hr>"
   ]
  },
  {
   "cell_type": "code",
   "execution_count": 199,
   "id": "b0593014-84f7-4562-8e33-f66c5808b583",
   "metadata": {},
   "outputs": [],
   "source": [
    "import pandas as pd"
   ]
  },
  {
   "cell_type": "markdown",
   "id": "cafa3247-aa02-41d8-a4dc-cae3b83a864c",
   "metadata": {},
   "source": [
    "- (2) 데이터 준비 <hr>"
   ]
  },
  {
   "cell_type": "code",
   "execution_count": 200,
   "id": "b98ef04a-5a04-41ae-959b-6ccc0fe1e84f",
   "metadata": {},
   "outputs": [],
   "source": [
    "exam = {'이름': ['혜인','민지','하니','해린'], \n",
    "        '국어' : [77, 88, 99, 100], \n",
    "        '미술' : [17, 18, 19, 10],\n",
    "        '수학' : [27, 28, 29, 20], \n",
    "        '체육' : [37, 38, 39, 30]}"
   ]
  },
  {
   "cell_type": "markdown",
   "id": "e455d12e-ed02-4c19-b87f-e5bdaa7c04d3",
   "metadata": {},
   "source": [
    "- (3) 데이터 저장"
   ]
  },
  {
   "cell_type": "code",
   "execution_count": 201,
   "id": "9ad4eaba-4568-43e9-afea-2a19d0058825",
   "metadata": {},
   "outputs": [],
   "source": [
    "examDF = pd.DataFrame(exam)"
   ]
  },
  {
   "cell_type": "markdown",
   "id": "97db6a6a-c865-4866-9863-c698118fb45f",
   "metadata": {},
   "source": [
    "- (4) 데이터 확인"
   ]
  },
  {
   "cell_type": "code",
   "execution_count": 202,
   "id": "d4eeaff9-c3e0-4454-9706-76c680d8fd76",
   "metadata": {},
   "outputs": [
    {
     "data": {
      "text/html": [
       "<div>\n",
       "<style scoped>\n",
       "    .dataframe tbody tr th:only-of-type {\n",
       "        vertical-align: middle;\n",
       "    }\n",
       "\n",
       "    .dataframe tbody tr th {\n",
       "        vertical-align: top;\n",
       "    }\n",
       "\n",
       "    .dataframe thead th {\n",
       "        text-align: right;\n",
       "    }\n",
       "</style>\n",
       "<table border=\"1\" class=\"dataframe\">\n",
       "  <thead>\n",
       "    <tr style=\"text-align: right;\">\n",
       "      <th></th>\n",
       "      <th>이름</th>\n",
       "      <th>국어</th>\n",
       "      <th>미술</th>\n",
       "      <th>수학</th>\n",
       "      <th>체육</th>\n",
       "    </tr>\n",
       "  </thead>\n",
       "  <tbody>\n",
       "    <tr>\n",
       "      <th>0</th>\n",
       "      <td>혜인</td>\n",
       "      <td>77</td>\n",
       "      <td>17</td>\n",
       "      <td>27</td>\n",
       "      <td>37</td>\n",
       "    </tr>\n",
       "    <tr>\n",
       "      <th>1</th>\n",
       "      <td>민지</td>\n",
       "      <td>88</td>\n",
       "      <td>18</td>\n",
       "      <td>28</td>\n",
       "      <td>38</td>\n",
       "    </tr>\n",
       "    <tr>\n",
       "      <th>2</th>\n",
       "      <td>하니</td>\n",
       "      <td>99</td>\n",
       "      <td>19</td>\n",
       "      <td>29</td>\n",
       "      <td>39</td>\n",
       "    </tr>\n",
       "    <tr>\n",
       "      <th>3</th>\n",
       "      <td>해린</td>\n",
       "      <td>100</td>\n",
       "      <td>10</td>\n",
       "      <td>20</td>\n",
       "      <td>30</td>\n",
       "    </tr>\n",
       "  </tbody>\n",
       "</table>\n",
       "</div>"
      ],
      "text/plain": [
       "   이름   국어  미술  수학  체육\n",
       "0  혜인   77  17  27  37\n",
       "1  민지   88  18  28  38\n",
       "2  하니   99  19  29  39\n",
       "3  해린  100  10  20  30"
      ]
     },
     "execution_count": 202,
     "metadata": {},
     "output_type": "execute_result"
    }
   ],
   "source": [
    "examDF"
   ]
  },
  {
   "cell_type": "markdown",
   "id": "96199b9c-e8e3-4e29-a4d2-179ca5e6c12a",
   "metadata": {},
   "source": [
    "- (5) 새로운 인덱스 설정 - 방법1 : 인덱스 일부번경 DF.rename()"
   ]
  },
  {
   "cell_type": "code",
   "execution_count": 203,
   "id": "3721ff44-2677-4c23-b326-e239848ad458",
   "metadata": {},
   "outputs": [],
   "source": [
    "# 행 인덱스 일부 변경 => {기존인덱스:새로운인덱스}\n",
    "# inplace 매개변수/파라미터 =>원본 DataFrame에 변경 여부 결정, 기본은 원본 변경 안함 False(기본값)!!\n",
    "#examDF.rename(index = {0: 'zero'})        #기본값이 복사본 저장이라 원본은 바뀌지 않음\n",
    "examDF.rename(index = {0: 'zero'}, inplace = True)"
   ]
  },
  {
   "cell_type": "code",
   "execution_count": 204,
   "id": "fdbcda38-bc42-4d51-a80b-91417a2b4b6b",
   "metadata": {},
   "outputs": [
    {
     "data": {
      "text/html": [
       "<div>\n",
       "<style scoped>\n",
       "    .dataframe tbody tr th:only-of-type {\n",
       "        vertical-align: middle;\n",
       "    }\n",
       "\n",
       "    .dataframe tbody tr th {\n",
       "        vertical-align: top;\n",
       "    }\n",
       "\n",
       "    .dataframe thead th {\n",
       "        text-align: right;\n",
       "    }\n",
       "</style>\n",
       "<table border=\"1\" class=\"dataframe\">\n",
       "  <thead>\n",
       "    <tr style=\"text-align: right;\">\n",
       "      <th></th>\n",
       "      <th>이름</th>\n",
       "      <th>국어</th>\n",
       "      <th>미술</th>\n",
       "      <th>수학</th>\n",
       "      <th>체육</th>\n",
       "    </tr>\n",
       "  </thead>\n",
       "  <tbody>\n",
       "    <tr>\n",
       "      <th>zero</th>\n",
       "      <td>혜인</td>\n",
       "      <td>77</td>\n",
       "      <td>17</td>\n",
       "      <td>27</td>\n",
       "      <td>37</td>\n",
       "    </tr>\n",
       "    <tr>\n",
       "      <th>1</th>\n",
       "      <td>민지</td>\n",
       "      <td>88</td>\n",
       "      <td>18</td>\n",
       "      <td>28</td>\n",
       "      <td>38</td>\n",
       "    </tr>\n",
       "    <tr>\n",
       "      <th>2</th>\n",
       "      <td>하니</td>\n",
       "      <td>99</td>\n",
       "      <td>19</td>\n",
       "      <td>29</td>\n",
       "      <td>39</td>\n",
       "    </tr>\n",
       "    <tr>\n",
       "      <th>3</th>\n",
       "      <td>해린</td>\n",
       "      <td>100</td>\n",
       "      <td>10</td>\n",
       "      <td>20</td>\n",
       "      <td>30</td>\n",
       "    </tr>\n",
       "  </tbody>\n",
       "</table>\n",
       "</div>"
      ],
      "text/plain": [
       "      이름   국어  미술  수학  체육\n",
       "zero  혜인   77  17  27  37\n",
       "1     민지   88  18  28  38\n",
       "2     하니   99  19  29  39\n",
       "3     해린  100  10  20  30"
      ]
     },
     "execution_count": 204,
     "metadata": {},
     "output_type": "execute_result"
    }
   ],
   "source": [
    "examDF"
   ]
  },
  {
   "cell_type": "code",
   "execution_count": 205,
   "id": "87bebf7b-1742-4759-94e8-41b14edd2683",
   "metadata": {},
   "outputs": [],
   "source": [
    "# 열 인덱스 일부 변경 => column = {기존인덱스:새로운인덱스}\n",
    "examDF.rename(columns={'체육':'음악'}, inplace = True)"
   ]
  },
  {
   "cell_type": "code",
   "execution_count": 206,
   "id": "cabbed39-ec62-421b-a1de-5dcdee07f9cd",
   "metadata": {},
   "outputs": [
    {
     "data": {
      "text/plain": [
       "Index(['이름', '국어', '미술', '수학', '음악'], dtype='object')"
      ]
     },
     "execution_count": 206,
     "metadata": {},
     "output_type": "execute_result"
    }
   ],
   "source": [
    "examDF.columns         #원본 컬럼명이 바뀐 것을 알수있다."
   ]
  },
  {
   "cell_type": "markdown",
   "id": "a3545856-ea55-4a9c-b967-1c68d37ab06d",
   "metadata": {},
   "source": [
    "- (5) 새로운 인덱스 설정 - 방법2 : 특정 컬럼 => 인덱스 : DF.set_index()"
   ]
  },
  {
   "cell_type": "code",
   "execution_count": 207,
   "id": "2b31074d-c92c-47dd-8c42-efca1b16eb6d",
   "metadata": {},
   "outputs": [
    {
     "data": {
      "text/plain": [
       "Index(['zero', 1, 2, 3], dtype='object')"
      ]
     },
     "execution_count": 207,
     "metadata": {},
     "output_type": "execute_result"
    }
   ],
   "source": [
    "# 현재 기본 0 ~ ==> 이름 컬럼 인덱스로 설정\n",
    "examDF.index"
   ]
  },
  {
   "cell_type": "code",
   "execution_count": 208,
   "id": "859e4b9b-bec5-415a-a325-4acb3ed21575",
   "metadata": {},
   "outputs": [
    {
     "data": {
      "text/html": [
       "<div>\n",
       "<style scoped>\n",
       "    .dataframe tbody tr th:only-of-type {\n",
       "        vertical-align: middle;\n",
       "    }\n",
       "\n",
       "    .dataframe tbody tr th {\n",
       "        vertical-align: top;\n",
       "    }\n",
       "\n",
       "    .dataframe thead th {\n",
       "        text-align: right;\n",
       "    }\n",
       "</style>\n",
       "<table border=\"1\" class=\"dataframe\">\n",
       "  <thead>\n",
       "    <tr style=\"text-align: right;\">\n",
       "      <th></th>\n",
       "      <th>국어</th>\n",
       "      <th>미술</th>\n",
       "      <th>수학</th>\n",
       "      <th>음악</th>\n",
       "    </tr>\n",
       "    <tr>\n",
       "      <th>이름</th>\n",
       "      <th></th>\n",
       "      <th></th>\n",
       "      <th></th>\n",
       "      <th></th>\n",
       "    </tr>\n",
       "  </thead>\n",
       "  <tbody>\n",
       "    <tr>\n",
       "      <th>혜인</th>\n",
       "      <td>77</td>\n",
       "      <td>17</td>\n",
       "      <td>27</td>\n",
       "      <td>37</td>\n",
       "    </tr>\n",
       "    <tr>\n",
       "      <th>민지</th>\n",
       "      <td>88</td>\n",
       "      <td>18</td>\n",
       "      <td>28</td>\n",
       "      <td>38</td>\n",
       "    </tr>\n",
       "    <tr>\n",
       "      <th>하니</th>\n",
       "      <td>99</td>\n",
       "      <td>19</td>\n",
       "      <td>29</td>\n",
       "      <td>39</td>\n",
       "    </tr>\n",
       "    <tr>\n",
       "      <th>해린</th>\n",
       "      <td>100</td>\n",
       "      <td>10</td>\n",
       "      <td>20</td>\n",
       "      <td>30</td>\n",
       "    </tr>\n",
       "  </tbody>\n",
       "</table>\n",
       "</div>"
      ],
      "text/plain": [
       "     국어  미술  수학  음악\n",
       "이름                 \n",
       "혜인   77  17  27  37\n",
       "민지   88  18  28  38\n",
       "하니   99  19  29  39\n",
       "해린  100  10  20  30"
      ]
     },
     "execution_count": 208,
     "metadata": {},
     "output_type": "execute_result"
    }
   ],
   "source": [
    "#1개 컬럼을 인덱스로 설정 단, inplace 파라메터가 False로 원본 적용 안됨!\n",
    "examDF.set_index('이름')"
   ]
  },
  {
   "cell_type": "code",
   "execution_count": 209,
   "id": "70bb68e8-0983-41b2-bdc5-966d4710933d",
   "metadata": {},
   "outputs": [
    {
     "data": {
      "text/html": [
       "<div>\n",
       "<style scoped>\n",
       "    .dataframe tbody tr th:only-of-type {\n",
       "        vertical-align: middle;\n",
       "    }\n",
       "\n",
       "    .dataframe tbody tr th {\n",
       "        vertical-align: top;\n",
       "    }\n",
       "\n",
       "    .dataframe thead th {\n",
       "        text-align: right;\n",
       "    }\n",
       "</style>\n",
       "<table border=\"1\" class=\"dataframe\">\n",
       "  <thead>\n",
       "    <tr style=\"text-align: right;\">\n",
       "      <th></th>\n",
       "      <th>이름</th>\n",
       "      <th>국어</th>\n",
       "      <th>미술</th>\n",
       "      <th>수학</th>\n",
       "      <th>음악</th>\n",
       "    </tr>\n",
       "  </thead>\n",
       "  <tbody>\n",
       "    <tr>\n",
       "      <th>zero</th>\n",
       "      <td>혜인</td>\n",
       "      <td>77</td>\n",
       "      <td>17</td>\n",
       "      <td>27</td>\n",
       "      <td>37</td>\n",
       "    </tr>\n",
       "    <tr>\n",
       "      <th>1</th>\n",
       "      <td>민지</td>\n",
       "      <td>88</td>\n",
       "      <td>18</td>\n",
       "      <td>28</td>\n",
       "      <td>38</td>\n",
       "    </tr>\n",
       "    <tr>\n",
       "      <th>2</th>\n",
       "      <td>하니</td>\n",
       "      <td>99</td>\n",
       "      <td>19</td>\n",
       "      <td>29</td>\n",
       "      <td>39</td>\n",
       "    </tr>\n",
       "    <tr>\n",
       "      <th>3</th>\n",
       "      <td>해린</td>\n",
       "      <td>100</td>\n",
       "      <td>10</td>\n",
       "      <td>20</td>\n",
       "      <td>30</td>\n",
       "    </tr>\n",
       "  </tbody>\n",
       "</table>\n",
       "</div>"
      ],
      "text/plain": [
       "      이름   국어  미술  수학  음악\n",
       "zero  혜인   77  17  27  37\n",
       "1     민지   88  18  28  38\n",
       "2     하니   99  19  29  39\n",
       "3     해린  100  10  20  30"
      ]
     },
     "execution_count": 209,
     "metadata": {},
     "output_type": "execute_result"
    }
   ],
   "source": [
    "examDF"
   ]
  },
  {
   "cell_type": "code",
   "execution_count": 210,
   "id": "adf3c969-f626-4014-8684-5e9a59bc9abb",
   "metadata": {},
   "outputs": [
    {
     "data": {
      "text/plain": [
       "MultiIndex([('혜인',  77, 37),\n",
       "            ('민지',  88, 38),\n",
       "            ('하니',  99, 39),\n",
       "            ('해린', 100, 30)],\n",
       "           names=['이름', '국어', '음악'])"
      ]
     },
     "execution_count": 210,
     "metadata": {},
     "output_type": "execute_result"
    }
   ],
   "source": [
    "# 2개의 컬럼을 행 인덱스 설정 단, inplace 파라메터가 False로 원본에 적용 안됨!\n",
    "examDF2 = examDF.set_index(['이름','국어','음악'])       \n",
    "examDF2.index\n",
    "#2개가 묶여서 인덱스가 됨"
   ]
  },
  {
   "cell_type": "code",
   "execution_count": 211,
   "id": "5170059d-ca6b-46fe-bef6-d3c2da6df7fd",
   "metadata": {},
   "outputs": [
    {
     "data": {
      "text/plain": [
       "MultiIndex([('혜인',  77, 37),\n",
       "            ('민지',  88, 38),\n",
       "            ('하니',  99, 39),\n",
       "            ('해린', 100, 30)],\n",
       "           names=['이름', '국어', '음악'])"
      ]
     },
     "execution_count": 211,
     "metadata": {},
     "output_type": "execute_result"
    }
   ],
   "source": [
    "examDF3 = examDF.set_index(['이름','국어','음악'])  \n",
    "examDF3.index"
   ]
  },
  {
   "cell_type": "code",
   "execution_count": 212,
   "id": "d2e359d5-1d82-4db5-a9e4-f3cc34c552f5",
   "metadata": {},
   "outputs": [
    {
     "data": {
      "text/html": [
       "<div>\n",
       "<style scoped>\n",
       "    .dataframe tbody tr th:only-of-type {\n",
       "        vertical-align: middle;\n",
       "    }\n",
       "\n",
       "    .dataframe tbody tr th {\n",
       "        vertical-align: top;\n",
       "    }\n",
       "\n",
       "    .dataframe thead th {\n",
       "        text-align: right;\n",
       "    }\n",
       "</style>\n",
       "<table border=\"1\" class=\"dataframe\">\n",
       "  <thead>\n",
       "    <tr style=\"text-align: right;\">\n",
       "      <th></th>\n",
       "      <th></th>\n",
       "      <th>미술</th>\n",
       "      <th>수학</th>\n",
       "    </tr>\n",
       "    <tr>\n",
       "      <th>국어</th>\n",
       "      <th>음악</th>\n",
       "      <th></th>\n",
       "      <th></th>\n",
       "    </tr>\n",
       "  </thead>\n",
       "  <tbody>\n",
       "    <tr>\n",
       "      <th>77</th>\n",
       "      <th>37</th>\n",
       "      <td>17</td>\n",
       "      <td>27</td>\n",
       "    </tr>\n",
       "  </tbody>\n",
       "</table>\n",
       "</div>"
      ],
      "text/plain": [
       "       미술  수학\n",
       "국어 음악        \n",
       "77 37  17  27"
      ]
     },
     "execution_count": 212,
     "metadata": {},
     "output_type": "execute_result"
    }
   ],
   "source": [
    "examDF3.loc['혜인']        #인덱스 중 일부만 뽑아쓰면 나머지 인덱스와 함께 dataframe으로 나옴"
   ]
  },
  {
   "cell_type": "code",
   "execution_count": 213,
   "id": "1c35371a-ab23-4554-ab1a-a54d622e9f25",
   "metadata": {},
   "outputs": [
    {
     "data": {
      "text/plain": [
       "미술    17\n",
       "수학    27\n",
       "Name: (혜인, 77, 37), dtype: int64"
      ]
     },
     "execution_count": 213,
     "metadata": {},
     "output_type": "execute_result"
    }
   ],
   "source": [
    "examDF3.loc[('혜인',77,37)] #지정된 인덱스를 뽑으면 행만 나옴 (시리즈형태)"
   ]
  },
  {
   "cell_type": "code",
   "execution_count": 214,
   "id": "a1b42969-ddfd-4e16-a69e-d15b690d7880",
   "metadata": {},
   "outputs": [],
   "source": [
    "# KeyError => '혜인',77,37 형식으로 77로 시작하는 Key 없음\n",
    "#examDF3.loc[(77, 37)]        #이거는 에러 발생. 왜냐하면 인덱스는 처음부터 서친한다고 해야하나 암튼 그래서 ㅇㅇ"
   ]
  },
  {
   "cell_type": "markdown",
   "id": "1c2a01f6-a3d7-4966-b1b8-43c6baadae74",
   "metadata": {},
   "source": [
    "- (5) 새로운 인덱스 설정 방법 3: "
   ]
  },
  {
   "cell_type": "code",
   "execution_count": 215,
   "id": "34e37656-b819-41c5-9887-f98396051887",
   "metadata": {},
   "outputs": [],
   "source": [
    "examDF.set_index('이름',inplace=True)"
   ]
  },
  {
   "cell_type": "code",
   "execution_count": 216,
   "id": "6e9c9b58-c38f-410d-9b03-a18ef61703ca",
   "metadata": {},
   "outputs": [
    {
     "data": {
      "text/html": [
       "<div>\n",
       "<style scoped>\n",
       "    .dataframe tbody tr th:only-of-type {\n",
       "        vertical-align: middle;\n",
       "    }\n",
       "\n",
       "    .dataframe tbody tr th {\n",
       "        vertical-align: top;\n",
       "    }\n",
       "\n",
       "    .dataframe thead th {\n",
       "        text-align: right;\n",
       "    }\n",
       "</style>\n",
       "<table border=\"1\" class=\"dataframe\">\n",
       "  <thead>\n",
       "    <tr style=\"text-align: right;\">\n",
       "      <th></th>\n",
       "      <th>국어</th>\n",
       "      <th>미술</th>\n",
       "      <th>수학</th>\n",
       "      <th>음악</th>\n",
       "    </tr>\n",
       "    <tr>\n",
       "      <th>이름</th>\n",
       "      <th></th>\n",
       "      <th></th>\n",
       "      <th></th>\n",
       "      <th></th>\n",
       "    </tr>\n",
       "  </thead>\n",
       "  <tbody>\n",
       "    <tr>\n",
       "      <th>혜인</th>\n",
       "      <td>77</td>\n",
       "      <td>17</td>\n",
       "      <td>27</td>\n",
       "      <td>37</td>\n",
       "    </tr>\n",
       "    <tr>\n",
       "      <th>민지</th>\n",
       "      <td>88</td>\n",
       "      <td>18</td>\n",
       "      <td>28</td>\n",
       "      <td>38</td>\n",
       "    </tr>\n",
       "    <tr>\n",
       "      <th>하니</th>\n",
       "      <td>99</td>\n",
       "      <td>19</td>\n",
       "      <td>29</td>\n",
       "      <td>39</td>\n",
       "    </tr>\n",
       "    <tr>\n",
       "      <th>해린</th>\n",
       "      <td>100</td>\n",
       "      <td>10</td>\n",
       "      <td>20</td>\n",
       "      <td>30</td>\n",
       "    </tr>\n",
       "  </tbody>\n",
       "</table>\n",
       "</div>"
      ],
      "text/plain": [
       "     국어  미술  수학  음악\n",
       "이름                 \n",
       "혜인   77  17  27  37\n",
       "민지   88  18  28  38\n",
       "하니   99  19  29  39\n",
       "해린  100  10  20  30"
      ]
     },
     "execution_count": 216,
     "metadata": {},
     "output_type": "execute_result"
    }
   ],
   "source": [
    "examDF"
   ]
  },
  {
   "cell_type": "code",
   "execution_count": 217,
   "id": "41c288c4-fbc7-487c-9b18-6c3f0928852a",
   "metadata": {},
   "outputs": [
    {
     "data": {
      "text/html": [
       "<div>\n",
       "<style scoped>\n",
       "    .dataframe tbody tr th:only-of-type {\n",
       "        vertical-align: middle;\n",
       "    }\n",
       "\n",
       "    .dataframe tbody tr th {\n",
       "        vertical-align: top;\n",
       "    }\n",
       "\n",
       "    .dataframe thead th {\n",
       "        text-align: right;\n",
       "    }\n",
       "</style>\n",
       "<table border=\"1\" class=\"dataframe\">\n",
       "  <thead>\n",
       "    <tr style=\"text-align: right;\">\n",
       "      <th></th>\n",
       "      <th>이름</th>\n",
       "      <th>국어</th>\n",
       "      <th>미술</th>\n",
       "      <th>수학</th>\n",
       "      <th>음악</th>\n",
       "    </tr>\n",
       "  </thead>\n",
       "  <tbody>\n",
       "    <tr>\n",
       "      <th>0</th>\n",
       "      <td>혜인</td>\n",
       "      <td>77</td>\n",
       "      <td>17</td>\n",
       "      <td>27</td>\n",
       "      <td>37</td>\n",
       "    </tr>\n",
       "    <tr>\n",
       "      <th>1</th>\n",
       "      <td>민지</td>\n",
       "      <td>88</td>\n",
       "      <td>18</td>\n",
       "      <td>28</td>\n",
       "      <td>38</td>\n",
       "    </tr>\n",
       "    <tr>\n",
       "      <th>2</th>\n",
       "      <td>하니</td>\n",
       "      <td>99</td>\n",
       "      <td>19</td>\n",
       "      <td>29</td>\n",
       "      <td>39</td>\n",
       "    </tr>\n",
       "    <tr>\n",
       "      <th>3</th>\n",
       "      <td>해린</td>\n",
       "      <td>100</td>\n",
       "      <td>10</td>\n",
       "      <td>20</td>\n",
       "      <td>30</td>\n",
       "    </tr>\n",
       "  </tbody>\n",
       "</table>\n",
       "</div>"
      ],
      "text/plain": [
       "   이름   국어  미술  수학  음악\n",
       "0  혜인   77  17  27  37\n",
       "1  민지   88  18  28  38\n",
       "2  하니   99  19  29  39\n",
       "3  해린  100  10  20  30"
      ]
     },
     "execution_count": 217,
     "metadata": {},
     "output_type": "execute_result"
    }
   ],
   "source": [
    "# 현재 행 인덱스 ==> 컬럼으로 추가\n",
    "examDF.reset_index()             #변경된 원본 인덱스를 원래대로 돌리고 싶음"
   ]
  },
  {
   "cell_type": "code",
   "execution_count": 218,
   "id": "f7acb72f-3043-4f44-9f59-83c2f613e36a",
   "metadata": {},
   "outputs": [],
   "source": [
    "#examDF.reset_index().reset_index()      #이르케하면 새로운 인덱스가 설정되면 컬럼이 추가된다. 어짜피 데이터프레임에 메소드적용이니까"
   ]
  },
  {
   "cell_type": "code",
   "execution_count": 219,
   "id": "eb25a445-d01a-4366-8ac5-278dc31e5bfd",
   "metadata": {},
   "outputs": [
    {
     "data": {
      "text/html": [
       "<div>\n",
       "<style scoped>\n",
       "    .dataframe tbody tr th:only-of-type {\n",
       "        vertical-align: middle;\n",
       "    }\n",
       "\n",
       "    .dataframe tbody tr th {\n",
       "        vertical-align: top;\n",
       "    }\n",
       "\n",
       "    .dataframe thead th {\n",
       "        text-align: right;\n",
       "    }\n",
       "</style>\n",
       "<table border=\"1\" class=\"dataframe\">\n",
       "  <thead>\n",
       "    <tr style=\"text-align: right;\">\n",
       "      <th></th>\n",
       "      <th>국어</th>\n",
       "      <th>미술</th>\n",
       "      <th>수학</th>\n",
       "      <th>음악</th>\n",
       "    </tr>\n",
       "  </thead>\n",
       "  <tbody>\n",
       "    <tr>\n",
       "      <th>0</th>\n",
       "      <td>77</td>\n",
       "      <td>17</td>\n",
       "      <td>27</td>\n",
       "      <td>37</td>\n",
       "    </tr>\n",
       "    <tr>\n",
       "      <th>1</th>\n",
       "      <td>88</td>\n",
       "      <td>18</td>\n",
       "      <td>28</td>\n",
       "      <td>38</td>\n",
       "    </tr>\n",
       "    <tr>\n",
       "      <th>2</th>\n",
       "      <td>99</td>\n",
       "      <td>19</td>\n",
       "      <td>29</td>\n",
       "      <td>39</td>\n",
       "    </tr>\n",
       "    <tr>\n",
       "      <th>3</th>\n",
       "      <td>100</td>\n",
       "      <td>10</td>\n",
       "      <td>20</td>\n",
       "      <td>30</td>\n",
       "    </tr>\n",
       "  </tbody>\n",
       "</table>\n",
       "</div>"
      ],
      "text/plain": [
       "    국어  미술  수학  음악\n",
       "0   77  17  27  37\n",
       "1   88  18  28  38\n",
       "2   99  19  29  39\n",
       "3  100  10  20  30"
      ]
     },
     "execution_count": 219,
     "metadata": {},
     "output_type": "execute_result"
    }
   ],
   "source": [
    "# 현재 행 인덱스를 컬럼에 추가하지 않고 삭제 => drop 파라미터를 True로 설정\n",
    "df2 = examDF.reset_index(drop = True)\n",
    "df2"
   ]
  },
  {
   "cell_type": "code",
   "execution_count": null,
   "id": "9c2ad495-43c5-4a52-ac6e-1b23245448d2",
   "metadata": {},
   "outputs": [],
   "source": []
  }
 ],
 "metadata": {
  "kernelspec": {
   "display_name": "Python 3 (ipykernel)",
   "language": "python",
   "name": "python3"
  },
  "language_info": {
   "codemirror_mode": {
    "name": "ipython",
    "version": 3
   },
   "file_extension": ".py",
   "mimetype": "text/x-python",
   "name": "python",
   "nbconvert_exporter": "python",
   "pygments_lexer": "ipython3",
   "version": "3.8.18"
  }
 },
 "nbformat": 4,
 "nbformat_minor": 5
}
