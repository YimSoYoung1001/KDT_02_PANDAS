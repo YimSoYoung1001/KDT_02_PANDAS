{
 "cells": [
  {
   "cell_type": "markdown",
   "id": "24c223ec-92df-427e-bd22-46dfb0dc93ce",
   "metadata": {},
   "source": [
    "# 2장 Series 객체"
   ]
  },
  {
   "cell_type": "markdown",
   "id": "ab98fc93-1656-4abd-9003-0bd72ad79fc1",
   "metadata": {},
   "source": [
    "## 코딩챌린지"
   ]
  },
  {
   "cell_type": "code",
   "execution_count": 452,
   "id": "2430bd2f-ad26-46c0-b80a-3d878bc5fec0",
   "metadata": {},
   "outputs": [],
   "source": [
    "superheroes = ['Batman', 'Superman', 'Spider-Man', 'Iron Man', 'Captain America', 'Wonder Woman']\n",
    "stregth_levels = (100, 120, 90, 95, 110, 120)"
   ]
  },
  {
   "cell_type": "code",
   "execution_count": 453,
   "id": "128465d4-a8ca-4cc3-831d-0ba7386f952c",
   "metadata": {},
   "outputs": [
    {
     "data": {
      "text/plain": [
       "0             Batman\n",
       "1           Superman\n",
       "2         Spider-Man\n",
       "3           Iron Man\n",
       "4    Captain America\n",
       "5       Wonder Woman\n",
       "dtype: object"
      ]
     },
     "execution_count": 453,
     "metadata": {},
     "output_type": "execute_result"
    }
   ],
   "source": [
    "#1\n",
    "import pandas as pd\n",
    "import numpy as np\n",
    "hero = pd.Series(superheroes)\n",
    "hero"
   ]
  },
  {
   "cell_type": "code",
   "execution_count": 454,
   "id": "7b95b251-ad2e-4726-b33f-fec5bd2fa074",
   "metadata": {},
   "outputs": [
    {
     "data": {
      "text/plain": [
       "0    100\n",
       "1    120\n",
       "2     90\n",
       "3     95\n",
       "4    110\n",
       "5    120\n",
       "dtype: int64"
      ]
     },
     "execution_count": 454,
     "metadata": {},
     "output_type": "execute_result"
    }
   ],
   "source": [
    "#2\n",
    "import pandas as pd\n",
    "hero = pd.Series(stregth_levels)\n",
    "hero"
   ]
  },
  {
   "cell_type": "code",
   "execution_count": 455,
   "id": "844bf908-cb86-4170-affa-7773ff87b409",
   "metadata": {},
   "outputs": [
    {
     "data": {
      "text/plain": [
       "Batman             100\n",
       "Superman           120\n",
       "Spider-Man          90\n",
       "Iron Man            95\n",
       "Captain America    110\n",
       "Wonder Woman       120\n",
       "dtype: int64"
      ]
     },
     "execution_count": 455,
     "metadata": {},
     "output_type": "execute_result"
    }
   ],
   "source": [
    "#3\n",
    "heroes = pd.Series(stregth_levels, index=superheroes)\n",
    "heroes"
   ]
  },
  {
   "cell_type": "code",
   "execution_count": 456,
   "id": "6e6d498a-7746-4b58-9127-52927bc5e6c1",
   "metadata": {},
   "outputs": [
    {
     "data": {
      "text/plain": [
       "Batman      100\n",
       "Superman    120\n",
       "dtype: int64"
      ]
     },
     "execution_count": 456,
     "metadata": {},
     "output_type": "execute_result"
    }
   ],
   "source": [
    "#4\n",
    "heroes.head(2)"
   ]
  },
  {
   "cell_type": "code",
   "execution_count": 457,
   "id": "04f4a5be-b931-4b37-8fae-00721df532e5",
   "metadata": {},
   "outputs": [
    {
     "data": {
      "text/plain": [
       "Spider-Man          90\n",
       "Iron Man            95\n",
       "Captain America    110\n",
       "Wonder Woman       120\n",
       "dtype: int64"
      ]
     },
     "execution_count": 457,
     "metadata": {},
     "output_type": "execute_result"
    }
   ],
   "source": [
    "#5\n",
    "heroes.tail(4)"
   ]
  },
  {
   "cell_type": "code",
   "execution_count": 458,
   "id": "b4930bd7-bd1c-4a87-99d9-524e7959091d",
   "metadata": {},
   "outputs": [
    {
     "data": {
      "text/plain": [
       "6"
      ]
     },
     "execution_count": 458,
     "metadata": {},
     "output_type": "execute_result"
    }
   ],
   "source": [
    "#6\n",
    "len(heroes)  #===> 이렇게 하면 고유하지 않음"
   ]
  },
  {
   "cell_type": "code",
   "execution_count": 459,
   "id": "5abcc77d-d88b-4b88-b4da-0a2e5be1e391",
   "metadata": {},
   "outputs": [
    {
     "data": {
      "text/plain": [
       "5"
      ]
     },
     "execution_count": 459,
     "metadata": {},
     "output_type": "execute_result"
    }
   ],
   "source": [
    "heroes.nunique()"
   ]
  },
  {
   "cell_type": "code",
   "execution_count": 460,
   "id": "48d74031-6f33-45c0-9096-a06048b5c88c",
   "metadata": {},
   "outputs": [
    {
     "data": {
      "text/plain": [
       "105.83333333333333"
      ]
     },
     "execution_count": 460,
     "metadata": {},
     "output_type": "execute_result"
    }
   ],
   "source": [
    "#7\n",
    "heroes.mean()"
   ]
  },
  {
   "cell_type": "code",
   "execution_count": 461,
   "id": "4a5f1752-26d0-48b9-8467-811e96fdb2d2",
   "metadata": {},
   "outputs": [
    {
     "name": "stdout",
     "output_type": "stream",
     "text": [
      "90\n",
      "120\n"
     ]
    }
   ],
   "source": [
    "#8\n",
    "print(heroes.min(), heroes.max(), sep='\\n')"
   ]
  },
  {
   "cell_type": "code",
   "execution_count": 462,
   "id": "be3777bc-c115-45bc-981c-157fcaa6988e",
   "metadata": {},
   "outputs": [
    {
     "data": {
      "text/plain": [
       "Batman             200\n",
       "Superman           240\n",
       "Spider-Man         180\n",
       "Iron Man           190\n",
       "Captain America    220\n",
       "Wonder Woman       240\n",
       "dtype: int64"
      ]
     },
     "execution_count": 462,
     "metadata": {},
     "output_type": "execute_result"
    }
   ],
   "source": [
    "#9\n",
    "heroes * 2"
   ]
  },
  {
   "cell_type": "code",
   "execution_count": 463,
   "id": "6c75fb4e-aadf-4931-b2c2-a40b49a1a8dd",
   "metadata": {},
   "outputs": [
    {
     "data": {
      "text/plain": [
       "{'Batman': 120,\n",
       " 'Superman': 120,\n",
       " 'Spider-Man': 120,\n",
       " 'Iron Man': 120,\n",
       " 'Captain America': 120,\n",
       " 'Wonder Woman': 120}"
      ]
     },
     "execution_count": 463,
     "metadata": {},
     "output_type": "execute_result"
    }
   ],
   "source": [
    "#10\n",
    "#내가 한 방식\n",
    "V=list(heroes.values)\n",
    "K=list(heroes.index)\n",
    "myDict = {}\n",
    "for k in K:\n",
    "    for v in V:\n",
    "        myDict[k] = v\n",
    "\n",
    "myDict"
   ]
  },
  {
   "cell_type": "code",
   "execution_count": 464,
   "id": "f685e2b9-ffbe-4a5a-bfd1-d4705dd38da1",
   "metadata": {},
   "outputs": [
    {
     "data": {
      "text/plain": [
       "{'Batman': 100,\n",
       " 'Superman': 120,\n",
       " 'Spider-Man': 90,\n",
       " 'Iron Man': 95,\n",
       " 'Captain America': 110,\n",
       " 'Wonder Woman': 120}"
      ]
     },
     "execution_count": 464,
     "metadata": {},
     "output_type": "execute_result"
    }
   ],
   "source": [
    "#책 해답\n",
    "dict(heroes)          #함수쓰면 알아서 딕셔너리가 생성됨)"
   ]
  },
  {
   "cell_type": "markdown",
   "id": "01739890-426a-4b17-bb25-7e386ee34095",
   "metadata": {},
   "source": [
    "--------------"
   ]
  },
  {
   "cell_type": "markdown",
   "id": "4044b233-3286-41a1-a925-cf3aa84f1d67",
   "metadata": {},
   "source": [
    "## 2-1"
   ]
  },
  {
   "cell_type": "code",
   "execution_count": 465,
   "id": "f408f74d-5301-45d2-9f82-9cbadad1a4c6",
   "metadata": {},
   "outputs": [],
   "source": [
    "import pandas as pd\n",
    "import numpy as np"
   ]
  },
  {
   "cell_type": "code",
   "execution_count": 466,
   "id": "8864f2ee-21c9-442c-9fa7-afc9256a505e",
   "metadata": {},
   "outputs": [
    {
     "data": {
      "text/plain": [
       "Series([], dtype: object)"
      ]
     },
     "execution_count": 466,
     "metadata": {},
     "output_type": "execute_result"
    }
   ],
   "source": [
    "pd.Series()"
   ]
  },
  {
   "cell_type": "code",
   "execution_count": 467,
   "id": "c21d42a8-57ac-41fc-bb3e-b08ee8ea2b66",
   "metadata": {},
   "outputs": [
    {
     "data": {
      "text/plain": [
       "0     Chocolate\n",
       "1       Vanilla\n",
       "2    Strawberry\n",
       "3    Rum Raisin\n",
       "dtype: object"
      ]
     },
     "execution_count": 467,
     "metadata": {},
     "output_type": "execute_result"
    }
   ],
   "source": [
    "ice_cream_flavors = [\"Chocolate\",\"Vanilla\",\"Strawberry\",\"Rum Raisin\"]\n",
    "pd.Series(ice_cream_flavors)"
   ]
  },
  {
   "cell_type": "code",
   "execution_count": 468,
   "id": "0dcb315a-1638-42fb-9434-df45997bc3fd",
   "metadata": {},
   "outputs": [
    {
     "data": {
      "text/plain": [
       "0     Chocolate\n",
       "1       Vanilla\n",
       "2    Strawberry\n",
       "3    Rum Raisin\n",
       "dtype: object"
      ]
     },
     "execution_count": 468,
     "metadata": {},
     "output_type": "execute_result"
    }
   ],
   "source": [
    "pd.Series(data = ice_cream_flavors)\n",
    "#바로 윗줄과 같은 결과가 나온다. 다만 더 가독성이 좋다."
   ]
  },
  {
   "cell_type": "code",
   "execution_count": 469,
   "id": "24acec8b-e5b4-451e-be78-920d006cd07a",
   "metadata": {},
   "outputs": [
    {
     "data": {
      "text/plain": [
       "Monday        Chocolate\n",
       "Wednesday       Vanilla\n",
       "Friday       Strawberry\n",
       "Saturday     Rum Raisin\n",
       "dtype: object"
      ]
     },
     "execution_count": 469,
     "metadata": {},
     "output_type": "execute_result"
    }
   ],
   "source": [
    "ice_cream_flavors = [\"Chocolate\",\"Vanilla\",\"Strawberry\",\"Rum Raisin\"]\n",
    "days_of_week = (\"Monday\", \"Wednesday\", \"Friday\", \"Saturday\")\n",
    "pd.Series(ice_cream_flavors, days_of_week)"
   ]
  },
  {
   "cell_type": "code",
   "execution_count": 470,
   "id": "5d97050d-dcd7-4b3b-9513-1101ae51b071",
   "metadata": {},
   "outputs": [
    {
     "data": {
      "text/plain": [
       "Monday        Chocolate\n",
       "Wednesday       Vanilla\n",
       "Friday       Strawberry\n",
       "Wednesday    Rum Raisin\n",
       "dtype: object"
      ]
     },
     "execution_count": 470,
     "metadata": {},
     "output_type": "execute_result"
    }
   ],
   "source": [
    "#Series의 인덱스는 중복을 허용\n",
    "ice_cream_flavors = [\"Chocolate\",\"Vanilla\",\"Strawberry\",\"Rum Raisin\"]\n",
    "days_of_week = (\"Monday\", \"Wednesday\", \"Friday\", \"Wednesday\")\n",
    "pd.Series(ice_cream_flavors, days_of_week)"
   ]
  },
  {
   "cell_type": "markdown",
   "id": "eec98cc6-c6f5-48d3-9640-263d11b9a156",
   "metadata": {},
   "source": [
    "- dtype 확인하기"
   ]
  },
  {
   "cell_type": "code",
   "execution_count": 471,
   "id": "25307562-e7f9-42f2-b47a-a6c56563677d",
   "metadata": {},
   "outputs": [
    {
     "data": {
      "text/plain": [
       "0     True\n",
       "1    False\n",
       "2    False\n",
       "dtype: bool"
      ]
     },
     "execution_count": 471,
     "metadata": {},
     "output_type": "execute_result"
    }
   ],
   "source": [
    "bunch_of_bools = [True, False, False]\n",
    "pd.Series(bunch_of_bools)"
   ]
  },
  {
   "cell_type": "code",
   "execution_count": 472,
   "id": "886592bb-391c-4578-907b-021492340cbd",
   "metadata": {},
   "outputs": [
    {
     "data": {
      "text/plain": [
       "open     985.32\n",
       "close    950.44\n",
       "dtype: float64"
      ]
     },
     "execution_count": 472,
     "metadata": {},
     "output_type": "execute_result"
    }
   ],
   "source": [
    "stock_prices = [985.32, 950.44]\n",
    "time_of_day = ['open','close']\n",
    "pd.Series(data = stock_prices, index = time_of_day)"
   ]
  },
  {
   "cell_type": "code",
   "execution_count": 473,
   "id": "1d120a4a-a830-4617-a935-c807808efaa8",
   "metadata": {},
   "outputs": [
    {
     "data": {
      "text/plain": [
       "0     4\n",
       "1     8\n",
       "2    15\n",
       "3    16\n",
       "4    23\n",
       "5    42\n",
       "dtype: int64"
      ]
     },
     "execution_count": 473,
     "metadata": {},
     "output_type": "execute_result"
    }
   ],
   "source": [
    "lucky_numbers = [4, 8, 15, 16, 23, 42]\n",
    "pd.Series(lucky_numbers)"
   ]
  },
  {
   "cell_type": "code",
   "execution_count": 474,
   "id": "74927047-adaf-444f-96d0-606cc505e2da",
   "metadata": {},
   "outputs": [
    {
     "data": {
      "text/plain": [
       "0     4.0\n",
       "1     8.0\n",
       "2    15.0\n",
       "3    16.0\n",
       "4    23.0\n",
       "5    42.0\n",
       "dtype: float64"
      ]
     },
     "execution_count": 474,
     "metadata": {},
     "output_type": "execute_result"
    }
   ],
   "source": [
    "lucky_numbers = [4, 8, 15, 16, 23, 42]\n",
    "pd.Series(lucky_numbers, dtype = \"float\") #이렇게 설정하면 dtype 변경 가능"
   ]
  },
  {
   "cell_type": "markdown",
   "id": "fe5bd99a-4967-42b2-b517-042003f2d703",
   "metadata": {},
   "source": [
    "- 결측값 있는 Series 생성"
   ]
  },
  {
   "cell_type": "code",
   "execution_count": 475,
   "id": "f7d35198-b0ef-445b-8723-47d6efd70bb3",
   "metadata": {},
   "outputs": [
    {
     "data": {
      "text/plain": [
       "0    94.0\n",
       "1    88.0\n",
       "2     NaN\n",
       "3    92.0\n",
       "dtype: float64"
      ]
     },
     "execution_count": 475,
     "metadata": {},
     "output_type": "execute_result"
    }
   ],
   "source": [
    "temperatures = [94, 88, np.nan, 92]\n",
    "pd.Series(data=temperatures)"
   ]
  },
  {
   "cell_type": "markdown",
   "id": "4f4e0b17-e5a9-4630-a54c-788407ca102c",
   "metadata": {},
   "source": [
    "## 2-2"
   ]
  },
  {
   "cell_type": "code",
   "execution_count": 476,
   "id": "b72808f9-4be8-4a8f-890a-03291ba1dacb",
   "metadata": {},
   "outputs": [
    {
     "data": {
      "text/plain": [
       "0     (120, 41, 26)\n",
       "1    (196, 165, 45)\n",
       "dtype: object"
      ]
     },
     "execution_count": 476,
     "metadata": {},
     "output_type": "execute_result"
    }
   ],
   "source": [
    "rgb_colors = [(120, 41, 26), (196, 165, 45)]\n",
    "pd.Series(data = rgb_colors)"
   ]
  },
  {
   "cell_type": "code",
   "execution_count": 477,
   "id": "046f3cd7-4ecf-4b70-833c-1e404fe6a689",
   "metadata": {},
   "outputs": [
    {
     "data": {
      "text/plain": [
       "0    Ricky\n",
       "1    Bobby\n",
       "dtype: object"
      ]
     },
     "execution_count": 477,
     "metadata": {},
     "output_type": "execute_result"
    }
   ],
   "source": [
    "my_set = {\"Ricky\", \"Bobby\"}\n",
    "pd.Series(list(my_set))       #set은 형변환이 필요함"
   ]
  },
  {
   "cell_type": "code",
   "execution_count": 478,
   "id": "6df91c3e-4fd4-4d78-8173-a1da3f9a6992",
   "metadata": {},
   "outputs": [
    {
     "data": {
      "text/plain": [
       "array([30,  9, 40, 46, 28, 41, 13, 43, 86,  3])"
      ]
     },
     "execution_count": 478,
     "metadata": {},
     "output_type": "execute_result"
    }
   ],
   "source": [
    "random_data = np.random.randint(1, 101, 10)\n",
    "random_data"
   ]
  },
  {
   "cell_type": "code",
   "execution_count": 479,
   "id": "97e7a89f-b83d-4fa1-944b-af72e9bbfc50",
   "metadata": {},
   "outputs": [
    {
     "data": {
      "text/plain": [
       "0    30\n",
       "1     9\n",
       "2    40\n",
       "3    46\n",
       "4    28\n",
       "5    41\n",
       "6    13\n",
       "7    43\n",
       "8    86\n",
       "9     3\n",
       "dtype: int32"
      ]
     },
     "execution_count": 479,
     "metadata": {},
     "output_type": "execute_result"
    }
   ],
   "source": [
    "pd.Series(random_data)"
   ]
  },
  {
   "cell_type": "markdown",
   "id": "4846e4ce-97cd-4ec9-883e-2f9ffa913401",
   "metadata": {},
   "source": [
    "## 2-3"
   ]
  },
  {
   "cell_type": "code",
   "execution_count": 480,
   "id": "48c164d9-9aca-44ea-9960-85d3500f1b0f",
   "metadata": {},
   "outputs": [
    {
     "data": {
      "text/plain": [
       "False"
      ]
     },
     "execution_count": 480,
     "metadata": {},
     "output_type": "execute_result"
    }
   ],
   "source": [
    "data = [3, 3]\n",
    "pd.Series(data).is_unique"
   ]
  },
  {
   "cell_type": "code",
   "execution_count": 481,
   "id": "394db905-d723-451b-b015-9d715e0b30af",
   "metadata": {},
   "outputs": [
    {
     "data": {
      "text/plain": [
       "True"
      ]
     },
     "execution_count": 481,
     "metadata": {},
     "output_type": "execute_result"
    }
   ],
   "source": [
    "pd.Series(data = [1,3,6]).is_monotonic_increasing    #각 시리즈의 값이 자신의 이전 값보다 큰가"
   ]
  },
  {
   "cell_type": "markdown",
   "id": "15ccf21d-fff2-4f51-952f-73bdfc81c6e6",
   "metadata": {},
   "source": [
    "## 2-4"
   ]
  },
  {
   "cell_type": "code",
   "execution_count": 482,
   "id": "3160ea6a-d433-4740-a74d-fbe0e25565f9",
   "metadata": {},
   "outputs": [
    {
     "data": {
      "text/plain": [
       "0       0\n",
       "1       5\n",
       "2      10\n",
       "3      15\n",
       "4      20\n",
       "     ... \n",
       "95    475\n",
       "96    480\n",
       "97    485\n",
       "98    490\n",
       "99    495\n",
       "Length: 100, dtype: int64"
      ]
     },
     "execution_count": 482,
     "metadata": {},
     "output_type": "execute_result"
    }
   ],
   "source": [
    "values = range(0, 500, 5)\n",
    "nums = pd.Series(data=values)\n",
    "nums"
   ]
  },
  {
   "cell_type": "code",
   "execution_count": 483,
   "id": "acb6ab59-51f7-4b6f-9ce8-dc03142b568d",
   "metadata": {},
   "outputs": [
    {
     "data": {
      "text/plain": [
       "0     0\n",
       "1     5\n",
       "2    10\n",
       "dtype: int64"
      ]
     },
     "execution_count": 483,
     "metadata": {},
     "output_type": "execute_result"
    }
   ],
   "source": [
    "nums.head(3)"
   ]
  },
  {
   "cell_type": "code",
   "execution_count": 484,
   "id": "cfe4ff20-9c6a-4b3b-8fce-0deed6e541f0",
   "metadata": {},
   "outputs": [
    {
     "data": {
      "text/plain": [
       "0     0\n",
       "1     5\n",
       "2    10\n",
       "3    15\n",
       "4    20\n",
       "dtype: int64"
      ]
     },
     "execution_count": 484,
     "metadata": {},
     "output_type": "execute_result"
    }
   ],
   "source": [
    "nums.head()       # n = 5 (default)"
   ]
  },
  {
   "cell_type": "code",
   "execution_count": 485,
   "id": "d73c3b2c-4326-4783-ac7c-346c4dc286e6",
   "metadata": {},
   "outputs": [
    {
     "data": {
      "text/plain": [
       "94    470\n",
       "95    475\n",
       "96    480\n",
       "97    485\n",
       "98    490\n",
       "99    495\n",
       "dtype: int64"
      ]
     },
     "execution_count": 485,
     "metadata": {},
     "output_type": "execute_result"
    }
   ],
   "source": [
    "nums.tail(6)"
   ]
  },
  {
   "cell_type": "code",
   "execution_count": 486,
   "id": "f8014141-dbf1-46f6-b2bd-6fccb1902deb",
   "metadata": {},
   "outputs": [
    {
     "data": {
      "text/plain": [
       "95    475\n",
       "96    480\n",
       "97    485\n",
       "98    490\n",
       "99    495\n",
       "dtype: int64"
      ]
     },
     "execution_count": 486,
     "metadata": {},
     "output_type": "execute_result"
    }
   ],
   "source": [
    "nums.tail()      # n = 5 (default)"
   ]
  },
  {
   "cell_type": "markdown",
   "id": "d1def954-545e-4c0b-ba8f-84cf3a32fdb1",
   "metadata": {},
   "source": [
    "## 2-5"
   ]
  },
  {
   "cell_type": "code",
   "execution_count": 487,
   "id": "e68c0162-017f-49e8-abd6-db272997c7ab",
   "metadata": {},
   "outputs": [
    {
     "data": {
      "text/plain": [
       "0    1.0\n",
       "1    2.0\n",
       "2    3.0\n",
       "3    NaN\n",
       "4    4.0\n",
       "5    5.0\n",
       "dtype: float64"
      ]
     },
     "execution_count": 487,
     "metadata": {},
     "output_type": "execute_result"
    }
   ],
   "source": [
    "numbers = pd.Series([1, 2, 3, np.nan, 4, 5])\n",
    "numbers"
   ]
  },
  {
   "cell_type": "code",
   "execution_count": 488,
   "id": "461ed6b5-4309-4e5d-8144-4986750ae20c",
   "metadata": {},
   "outputs": [
    {
     "data": {
      "text/plain": [
       "5"
      ]
     },
     "execution_count": 488,
     "metadata": {},
     "output_type": "execute_result"
    }
   ],
   "source": [
    "numbers.count()                #nan이 아닌 값의 총 개수"
   ]
  },
  {
   "cell_type": "code",
   "execution_count": 489,
   "id": "392f2ff2-29be-4b9f-848e-a34d20b33443",
   "metadata": {},
   "outputs": [
    {
     "data": {
      "text/plain": [
       "15.0"
      ]
     },
     "execution_count": 489,
     "metadata": {},
     "output_type": "execute_result"
    }
   ],
   "source": [
    "numbers.sum()                  #series의 모든 값 더함"
   ]
  },
  {
   "cell_type": "code",
   "execution_count": 490,
   "id": "c234f1d4-8444-4159-8514-8bb1d8e1d875",
   "metadata": {},
   "outputs": [
    {
     "data": {
      "text/plain": [
       "nan"
      ]
     },
     "execution_count": 490,
     "metadata": {},
     "output_type": "execute_result"
    }
   ],
   "source": [
    "numbers.sum(skipna = False)"
   ]
  },
  {
   "cell_type": "code",
   "execution_count": 491,
   "id": "f65e23d6-e17d-4ebf-b067-3ee2a88f250d",
   "metadata": {},
   "outputs": [
    {
     "data": {
      "text/plain": [
       "15.0"
      ]
     },
     "execution_count": 491,
     "metadata": {},
     "output_type": "execute_result"
    }
   ],
   "source": [
    "numbers.sum(min_count = 3)       #판다스가 합을 계산하기 위해 Series가 보유해야하는 유효한 값의 최소 개수를 설정한 거"
   ]
  },
  {
   "cell_type": "code",
   "execution_count": 492,
   "id": "84617b14-50dc-4074-98ad-99629d9d1579",
   "metadata": {},
   "outputs": [
    {
     "data": {
      "text/plain": [
       "nan"
      ]
     },
     "execution_count": 492,
     "metadata": {},
     "output_type": "execute_result"
    }
   ],
   "source": [
    "numbers.sum(min_count = 6)      #여기서는 유효한 값이 5개이므로 nan 반환"
   ]
  },
  {
   "cell_type": "code",
   "execution_count": 493,
   "id": "1a965a0a-4c15-4e5e-a700-338bc52f9c3a",
   "metadata": {},
   "outputs": [
    {
     "data": {
      "text/plain": [
       "120.0"
      ]
     },
     "execution_count": 493,
     "metadata": {},
     "output_type": "execute_result"
    }
   ],
   "source": [
    "numbers.product()"
   ]
  },
  {
   "cell_type": "code",
   "execution_count": 494,
   "id": "61e58216-9c50-4e5f-92a8-6a5599064879",
   "metadata": {},
   "outputs": [
    {
     "data": {
      "text/plain": [
       "nan"
      ]
     },
     "execution_count": 494,
     "metadata": {},
     "output_type": "execute_result"
    }
   ],
   "source": [
    "numbers.product(skipna = False)         #곱셈 계산에 nan을 포함했으므로 nan 반환"
   ]
  },
  {
   "cell_type": "code",
   "execution_count": 495,
   "id": "9c0948bc-3559-49e1-8468-763cf0230830",
   "metadata": {},
   "outputs": [
    {
     "data": {
      "text/plain": [
       "120.0"
      ]
     },
     "execution_count": 495,
     "metadata": {},
     "output_type": "execute_result"
    }
   ],
   "source": [
    "numbers.product(min_count = 3)"
   ]
  },
  {
   "cell_type": "code",
   "execution_count": 496,
   "id": "908323f6-9c93-4dfa-944d-0502d8a2572b",
   "metadata": {},
   "outputs": [
    {
     "data": {
      "text/plain": [
       "0     1.0\n",
       "1     3.0\n",
       "2     6.0\n",
       "3     NaN\n",
       "4    10.0\n",
       "5    15.0\n",
       "dtype: float64"
      ]
     },
     "execution_count": 496,
     "metadata": {},
     "output_type": "execute_result"
    }
   ],
   "source": [
    "numbers.cumsum()           #값의 누적 합계를 값으로 가지는 새 Series를 반환"
   ]
  },
  {
   "cell_type": "code",
   "execution_count": 497,
   "id": "860b97b9-6c05-4e0c-9a03-2a8766225f9f",
   "metadata": {},
   "outputs": [
    {
     "data": {
      "text/plain": [
       "0    1.0\n",
       "1    3.0\n",
       "2    6.0\n",
       "3    NaN\n",
       "4    NaN\n",
       "5    NaN\n",
       "dtype: float64"
      ]
     },
     "execution_count": 497,
     "metadata": {},
     "output_type": "execute_result"
    }
   ],
   "source": [
    "numbers.cumsum(skipna = False)     #계산에 nan을 포함했으므로 그 이후로는 nan 반환"
   ]
  },
  {
   "cell_type": "code",
   "execution_count": 498,
   "id": "bf43f3ca-53f6-4cae-a295-928fec4e95a2",
   "metadata": {},
   "outputs": [
    {
     "data": {
      "text/plain": [
       "0         NaN\n",
       "1    1.000000\n",
       "2    0.500000\n",
       "3    0.000000\n",
       "4    0.333333\n",
       "5    0.250000\n",
       "dtype: float64"
      ]
     },
     "execution_count": 498,
     "metadata": {},
     "output_type": "execute_result"
    }
   ],
   "source": [
    "numbers.pct_change()             #한 시리즈 값에서 다음값까지의 변동 비율 반환, Nan은 마지막 유효한 값으로 대체함"
   ]
  },
  {
   "cell_type": "code",
   "execution_count": 499,
   "id": "427f7c09-e105-4807-a35e-bc9a856a4248",
   "metadata": {},
   "outputs": [
    {
     "data": {
      "text/plain": [
       "0         NaN\n",
       "1    1.000000\n",
       "2    0.500000\n",
       "3    0.000000\n",
       "4    0.333333\n",
       "5    0.250000\n",
       "dtype: float64"
      ]
     },
     "execution_count": 499,
     "metadata": {},
     "output_type": "execute_result"
    }
   ],
   "source": [
    "# 정방향 채우기\n",
    "numbers.pct_change()\n",
    "numbers.pct_change(fill_method = 'pad')\n",
    "numbers.pct_change(fill_method = 'ffill')"
   ]
  },
  {
   "cell_type": "code",
   "execution_count": 500,
   "id": "c37f3af9-6b88-41e2-9c57-7834dcc148ac",
   "metadata": {},
   "outputs": [
    {
     "data": {
      "text/plain": [
       "0         NaN\n",
       "1    1.000000\n",
       "2    0.500000\n",
       "3    0.333333\n",
       "4    0.000000\n",
       "5    0.250000\n",
       "dtype: float64"
      ]
     },
     "execution_count": 500,
     "metadata": {},
     "output_type": "execute_result"
    }
   ],
   "source": [
    "# 역방향 채우기\n",
    "numbers.pct_change(fill_method='bfill')\n",
    "numbers.pct_change(fill_method='backfill')"
   ]
  },
  {
   "cell_type": "code",
   "execution_count": 501,
   "id": "5c2f727f-3c14-45c6-8495-6a7512138a41",
   "metadata": {},
   "outputs": [
    {
     "data": {
      "text/plain": [
       "3.0"
      ]
     },
     "execution_count": 501,
     "metadata": {},
     "output_type": "execute_result"
    }
   ],
   "source": [
    "numbers.mean()"
   ]
  },
  {
   "cell_type": "code",
   "execution_count": 502,
   "id": "22fb550d-c831-484b-aef9-d88b36b5f14e",
   "metadata": {},
   "outputs": [
    {
     "data": {
      "text/plain": [
       "3.0"
      ]
     },
     "execution_count": 502,
     "metadata": {},
     "output_type": "execute_result"
    }
   ],
   "source": [
    "numbers.median()       #정렬된 시리즈 값에서 가운데 숫자를 반환"
   ]
  },
  {
   "cell_type": "code",
   "execution_count": 503,
   "id": "cec621ca-dc25-4aab-a7d6-55cb2588b9e4",
   "metadata": {},
   "outputs": [
    {
     "data": {
      "text/plain": [
       "1.5811388300841898"
      ]
     },
     "execution_count": 503,
     "metadata": {},
     "output_type": "execute_result"
    }
   ],
   "source": [
    "numbers.std()          #데이터 변동의 척도인 표준편차를 반환"
   ]
  },
  {
   "cell_type": "code",
   "execution_count": 504,
   "id": "cf50dcbc-6054-4011-8dd2-5b6a4fbda476",
   "metadata": {},
   "outputs": [
    {
     "data": {
      "text/plain": [
       "count    5.000000\n",
       "mean     3.000000\n",
       "std      1.581139\n",
       "min      1.000000\n",
       "25%      2.000000\n",
       "50%      3.000000\n",
       "75%      4.000000\n",
       "max      5.000000\n",
       "dtype: float64"
      ]
     },
     "execution_count": 504,
     "metadata": {},
     "output_type": "execute_result"
    }
   ],
   "source": [
    "# describe 메서드를 통해 개수, 평균, 표준 편차를 포함한 일련의 통계 평가를 반환함\n",
    "numbers.describe()"
   ]
  },
  {
   "cell_type": "code",
   "execution_count": 505,
   "id": "4dcb8e2e-30b4-44cd-a4c6-6b645a519240",
   "metadata": {},
   "outputs": [
    {
     "data": {
      "text/plain": [
       "2    3.0\n",
       "dtype: float64"
      ]
     },
     "execution_count": 505,
     "metadata": {},
     "output_type": "execute_result"
    }
   ],
   "source": [
    "numbers.sample()      #임의의 값 반환함"
   ]
  },
  {
   "cell_type": "code",
   "execution_count": 506,
   "id": "8fbf2b27-6559-4e87-94d7-25033c1c7f19",
   "metadata": {},
   "outputs": [
    {
     "data": {
      "text/plain": [
       "5    5.0\n",
       "1    2.0\n",
       "0    1.0\n",
       "dtype: float64"
      ]
     },
     "execution_count": 506,
     "metadata": {},
     "output_type": "execute_result"
    }
   ],
   "source": [
    "numbers.sample(3)      #임의의 값 반환함"
   ]
  },
  {
   "cell_type": "code",
   "execution_count": 507,
   "id": "6c7bc5d9-a722-4961-8b8b-cb22402234e7",
   "metadata": {},
   "outputs": [
    {
     "data": {
      "text/plain": [
       "array(['a', 'b', 'c', 'd'], dtype=object)"
      ]
     },
     "execution_count": 507,
     "metadata": {},
     "output_type": "execute_result"
    }
   ],
   "source": [
    "alphabet = pd.Series(['a', 'b', 'c', 'd', 'a'])\n",
    "alphabet.unique()"
   ]
  },
  {
   "cell_type": "code",
   "execution_count": 508,
   "id": "96786ad5-ab02-4d9e-97ab-45a16110333c",
   "metadata": {},
   "outputs": [
    {
     "data": {
      "text/plain": [
       "4"
      ]
     },
     "execution_count": 508,
     "metadata": {},
     "output_type": "execute_result"
    }
   ],
   "source": [
    "alphabet.nunique()     #시리즈에서 고유한 값의 개수를 반환"
   ]
  },
  {
   "cell_type": "markdown",
   "id": "bd22641b-db62-4e1e-a13d-cae9639fab74",
   "metadata": {},
   "source": [
    "- 산술연산"
   ]
  },
  {
   "cell_type": "code",
   "execution_count": 509,
   "id": "98f2c920-1c99-4c49-aaa9-ba7c536d873c",
   "metadata": {},
   "outputs": [
    {
     "data": {
      "text/plain": [
       "A     5.0\n",
       "B     NaN\n",
       "C    15.0\n",
       "dtype: float64"
      ]
     },
     "execution_count": 509,
     "metadata": {},
     "output_type": "execute_result"
    }
   ],
   "source": [
    "s1 = pd.Series(data = [5, np.nan, 15], index = ['A', 'B', 'C'])\n",
    "s1"
   ]
  },
  {
   "cell_type": "code",
   "execution_count": 510,
   "id": "70463310-2647-4550-99ab-c4e3bfccd451",
   "metadata": {},
   "outputs": [
    {
     "data": {
      "text/plain": [
       "A     8.0\n",
       "B     NaN\n",
       "C    18.0\n",
       "dtype: float64"
      ]
     },
     "execution_count": 510,
     "metadata": {},
     "output_type": "execute_result"
    }
   ],
   "source": [
    "s1 + 3"
   ]
  },
  {
   "cell_type": "code",
   "execution_count": 511,
   "id": "995286d0-58a3-455c-826f-c2d5d3801605",
   "metadata": {},
   "outputs": [
    {
     "data": {
      "text/plain": [
       "A     8.0\n",
       "B     NaN\n",
       "C    18.0\n",
       "dtype: float64"
      ]
     },
     "execution_count": 511,
     "metadata": {},
     "output_type": "execute_result"
    }
   ],
   "source": [
    "s1.add(3)"
   ]
  },
  {
   "cell_type": "code",
   "execution_count": 512,
   "id": "2b5c537a-adba-4748-a77d-b40a81132bc7",
   "metadata": {},
   "outputs": [
    {
     "data": {
      "text/plain": [
       "A     0.0\n",
       "B     NaN\n",
       "C    10.0\n",
       "dtype: float64"
      ]
     },
     "execution_count": 512,
     "metadata": {},
     "output_type": "execute_result"
    }
   ],
   "source": [
    "s1 - 5"
   ]
  },
  {
   "cell_type": "code",
   "execution_count": 513,
   "id": "598fc29e-6fa7-4f36-8cb8-6331e5360de1",
   "metadata": {},
   "outputs": [
    {
     "data": {
      "text/plain": [
       "A     0.0\n",
       "B     NaN\n",
       "C    10.0\n",
       "dtype: float64"
      ]
     },
     "execution_count": 513,
     "metadata": {},
     "output_type": "execute_result"
    }
   ],
   "source": [
    "s1.sub(5)"
   ]
  },
  {
   "cell_type": "code",
   "execution_count": 514,
   "id": "c46f7284-2eb2-4a1d-853c-800d0335b075",
   "metadata": {},
   "outputs": [
    {
     "data": {
      "text/plain": [
       "A     0.0\n",
       "B     NaN\n",
       "C    10.0\n",
       "dtype: float64"
      ]
     },
     "execution_count": 514,
     "metadata": {},
     "output_type": "execute_result"
    }
   ],
   "source": [
    "s1.subtract(5)"
   ]
  },
  {
   "cell_type": "code",
   "execution_count": 515,
   "id": "59b5c67d-391a-48d0-bb10-b02ba9b3d323",
   "metadata": {},
   "outputs": [
    {
     "data": {
      "text/plain": [
       "A    10.0\n",
       "B     NaN\n",
       "C    30.0\n",
       "dtype: float64"
      ]
     },
     "execution_count": 515,
     "metadata": {},
     "output_type": "execute_result"
    }
   ],
   "source": [
    "s1 * 2"
   ]
  },
  {
   "cell_type": "code",
   "execution_count": 516,
   "id": "cd1a7c40-2caf-4bb1-a36f-4fd4e6159eb6",
   "metadata": {},
   "outputs": [
    {
     "data": {
      "text/plain": [
       "A    10.0\n",
       "B     NaN\n",
       "C    30.0\n",
       "dtype: float64"
      ]
     },
     "execution_count": 516,
     "metadata": {},
     "output_type": "execute_result"
    }
   ],
   "source": [
    "s1.mul(2)"
   ]
  },
  {
   "cell_type": "code",
   "execution_count": 517,
   "id": "df5a63ae-73c6-487e-83eb-0006eed3c39f",
   "metadata": {},
   "outputs": [
    {
     "data": {
      "text/plain": [
       "A    10.0\n",
       "B     NaN\n",
       "C    30.0\n",
       "dtype: float64"
      ]
     },
     "execution_count": 517,
     "metadata": {},
     "output_type": "execute_result"
    }
   ],
   "source": [
    "s1.multiply(2)"
   ]
  },
  {
   "cell_type": "code",
   "execution_count": 518,
   "id": "97b9e379-d569-46e3-b35d-83e44e04b9e8",
   "metadata": {},
   "outputs": [
    {
     "data": {
      "text/plain": [
       "A    2.5\n",
       "B    NaN\n",
       "C    7.5\n",
       "dtype: float64"
      ]
     },
     "execution_count": 518,
     "metadata": {},
     "output_type": "execute_result"
    }
   ],
   "source": [
    "s1/2"
   ]
  },
  {
   "cell_type": "code",
   "execution_count": 519,
   "id": "fe1019d8-aca7-4eb6-b91d-b1f3c3ba8ff2",
   "metadata": {},
   "outputs": [
    {
     "data": {
      "text/plain": [
       "A    2.5\n",
       "B    NaN\n",
       "C    7.5\n",
       "dtype: float64"
      ]
     },
     "execution_count": 519,
     "metadata": {},
     "output_type": "execute_result"
    }
   ],
   "source": [
    "s1.div(2)"
   ]
  },
  {
   "cell_type": "code",
   "execution_count": 520,
   "id": "71a672f1-cdfd-44cd-918c-0b5a28b49c98",
   "metadata": {},
   "outputs": [
    {
     "data": {
      "text/plain": [
       "A    2.5\n",
       "B    NaN\n",
       "C    7.5\n",
       "dtype: float64"
      ]
     },
     "execution_count": 520,
     "metadata": {},
     "output_type": "execute_result"
    }
   ],
   "source": [
    "s1.divide(2)"
   ]
  },
  {
   "cell_type": "code",
   "execution_count": 521,
   "id": "99febaba-645c-4842-8a74-4d54067e6ec2",
   "metadata": {},
   "outputs": [
    {
     "data": {
      "text/plain": [
       "A    1.0\n",
       "B    NaN\n",
       "C    3.0\n",
       "dtype: float64"
      ]
     },
     "execution_count": 521,
     "metadata": {},
     "output_type": "execute_result"
    }
   ],
   "source": [
    "s1.floordiv(4)"
   ]
  },
  {
   "cell_type": "code",
   "execution_count": 522,
   "id": "fdde1f2c-f26a-4ab1-b1bd-97f40b5a4e45",
   "metadata": {},
   "outputs": [
    {
     "data": {
      "text/plain": [
       "A    2.0\n",
       "B    NaN\n",
       "C    0.0\n",
       "dtype: float64"
      ]
     },
     "execution_count": 522,
     "metadata": {},
     "output_type": "execute_result"
    }
   ],
   "source": [
    "s1.mod(3)"
   ]
  },
  {
   "cell_type": "code",
   "execution_count": 523,
   "id": "a81bfd8e-d380-46e3-af38-ae8cd0bef582",
   "metadata": {},
   "outputs": [
    {
     "name": "stdout",
     "output_type": "stream",
     "text": [
      "A    1\n",
      "B    2\n",
      "C    3\n",
      "dtype: int64\n",
      "A    4\n",
      "B    5\n",
      "C    6\n",
      "dtype: int64\n"
     ]
    }
   ],
   "source": [
    "s1 = pd.Series([1,2,3], index =['A', 'B', 'C'])\n",
    "s2 = pd.Series([4,5,6], index =['A','B','C'])\n",
    "print(s1, s2, sep='\\n')"
   ]
  },
  {
   "cell_type": "code",
   "execution_count": 524,
   "id": "2a43b3f5-6a08-4fc4-a0a0-c5b8716187f6",
   "metadata": {},
   "outputs": [
    {
     "data": {
      "text/plain": [
       "A    5\n",
       "B    7\n",
       "C    9\n",
       "dtype: int64"
      ]
     },
     "execution_count": 524,
     "metadata": {},
     "output_type": "execute_result"
    }
   ],
   "source": [
    "s1 + s2"
   ]
  },
  {
   "cell_type": "code",
   "execution_count": 525,
   "id": "2d6f604a-a9c1-4c96-a22e-98f0c4a50167",
   "metadata": {},
   "outputs": [],
   "source": [
    "s1 = pd.Series(data=[5, 10, 15], index=['A', 'B', 'C'])\n",
    "s2 = pd.Series(data=[4, 8, 12, 14], index = ['B', 'C', 'D', 'E'])"
   ]
  },
  {
   "cell_type": "code",
   "execution_count": 526,
   "id": "0d1b4189-90b7-4e16-a0fb-f3168b155e63",
   "metadata": {},
   "outputs": [
    {
     "data": {
      "text/plain": [
       "A     NaN\n",
       "B    14.0\n",
       "C    23.0\n",
       "D     NaN\n",
       "E     NaN\n",
       "dtype: float64"
      ]
     },
     "execution_count": 526,
     "metadata": {},
     "output_type": "execute_result"
    }
   ],
   "source": [
    "s1 + s2"
   ]
  },
  {
   "cell_type": "markdown",
   "id": "013ccdf0-5b7d-4616-84c8-aebfd38dc942",
   "metadata": {},
   "source": [
    "## 2-6"
   ]
  },
  {
   "cell_type": "code",
   "execution_count": 527,
   "id": "c67ee069-bdb8-465e-abc7-6d8fd7211bee",
   "metadata": {},
   "outputs": [],
   "source": [
    "cities = pd.Series(data = ['San Francisco', 'Los Angelses', 'Las Vegas', np.nan])"
   ]
  },
  {
   "cell_type": "code",
   "execution_count": 528,
   "id": "38d112ec-df09-4937-8ad6-ce41e3635a38",
   "metadata": {},
   "outputs": [
    {
     "data": {
      "text/plain": [
       "4"
      ]
     },
     "execution_count": 528,
     "metadata": {},
     "output_type": "execute_result"
    }
   ],
   "source": [
    "len(cities)     #nan 값도 포함"
   ]
  },
  {
   "cell_type": "code",
   "execution_count": 529,
   "id": "b7de6313-a0f5-4b74-8bbd-883ef7bb64c4",
   "metadata": {},
   "outputs": [
    {
     "data": {
      "text/plain": [
       "['San Francisco', 'Los Angelses', 'Las Vegas', nan]"
      ]
     },
     "execution_count": 529,
     "metadata": {},
     "output_type": "execute_result"
    }
   ],
   "source": [
    "list(cities)"
   ]
  },
  {
   "cell_type": "code",
   "execution_count": 530,
   "id": "2c58bcf0-b190-4f6a-b998-db2ca5cffb3a",
   "metadata": {},
   "outputs": [
    {
     "data": {
      "text/plain": [
       "{0: 'San Francisco', 1: 'Los Angelses', 2: 'Las Vegas', 3: nan}"
      ]
     },
     "execution_count": 530,
     "metadata": {},
     "output_type": "execute_result"
    }
   ],
   "source": [
    "dict(cities)                   #인덱스 레이블과 값은 딕셔너리의 키와 값으로 변환됨"
   ]
  },
  {
   "cell_type": "code",
   "execution_count": 531,
   "id": "f88de07e-0d38-4cd5-84b0-d1dbea5e7e53",
   "metadata": {},
   "outputs": [
    {
     "data": {
      "text/plain": [
       "False"
      ]
     },
     "execution_count": 531,
     "metadata": {},
     "output_type": "execute_result"
    }
   ],
   "source": [
    "\"Las Vegas\" in cities"
   ]
  }
 ],
 "metadata": {
  "kernelspec": {
   "display_name": "Python 3 (ipykernel)",
   "language": "python",
   "name": "python3"
  },
  "language_info": {
   "codemirror_mode": {
    "name": "ipython",
    "version": 3
   },
   "file_extension": ".py",
   "mimetype": "text/x-python",
   "name": "python",
   "nbconvert_exporter": "python",
   "pygments_lexer": "ipython3",
   "version": "3.8.18"
  }
 },
 "nbformat": 4,
 "nbformat_minor": 5
}
