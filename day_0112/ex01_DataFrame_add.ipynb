{
 "cells": [
  {
   "cell_type": "markdown",
   "id": "f8834435-7bf6-4978-b558-fd8205f56acb",
   "metadata": {},
   "source": [
    "## [ DataFrame에 행/열 추가 ]"
   ]
  },
  {
   "cell_type": "markdown",
   "id": "5e326819-2600-49b2-b5df-da3d6862081a",
   "metadata": {},
   "source": [
    "(1) 모듈 로딩 <hr>"
   ]
  },
  {
   "cell_type": "code",
   "execution_count": 149,
   "id": "9ebc5f99-4ac6-4c5f-a5fe-6969987deb9d",
   "metadata": {},
   "outputs": [],
   "source": [
    "import pandas as pd"
   ]
  },
  {
   "cell_type": "markdown",
   "id": "063d49f0-e853-4b13-9217-8297d6ae7fca",
   "metadata": {},
   "source": [
    "(2) 데이터 준비 <hr>"
   ]
  },
  {
   "cell_type": "code",
   "execution_count": 150,
   "id": "7abc4f76-000b-4cc3-a23d-6951906b89e8",
   "metadata": {},
   "outputs": [],
   "source": [
    "# dict 타입의 데이터 생성\n",
    "exam = {'이름': ['혜인','민지','하니','해린'], \n",
    "        '국어' : [77, 88, 99, 100], \n",
    "        '미술' : [17, 18, 19, 10],\n",
    "        '수학' : [27, 28, 29, 20], \n",
    "        '체육' : [37, 38, 39, 30]}"
   ]
  },
  {
   "cell_type": "markdown",
   "id": "ce59ad65-78b1-4bf8-98df-06bacc8ff326",
   "metadata": {},
   "source": [
    "(3) DataFrame에 데이터 저장 <hr>"
   ]
  },
  {
   "cell_type": "code",
   "execution_count": 151,
   "id": "2831c2d0-0234-4db5-8198-ce987f7d1c5a",
   "metadata": {},
   "outputs": [],
   "source": [
    "examDF = pd.DataFrame(exam)"
   ]
  },
  {
   "cell_type": "code",
   "execution_count": 152,
   "id": "436c54a0-a773-4730-98d3-b1d6d249b77e",
   "metadata": {},
   "outputs": [
    {
     "data": {
      "text/html": [
       "<div>\n",
       "<style scoped>\n",
       "    .dataframe tbody tr th:only-of-type {\n",
       "        vertical-align: middle;\n",
       "    }\n",
       "\n",
       "    .dataframe tbody tr th {\n",
       "        vertical-align: top;\n",
       "    }\n",
       "\n",
       "    .dataframe thead th {\n",
       "        text-align: right;\n",
       "    }\n",
       "</style>\n",
       "<table border=\"1\" class=\"dataframe\">\n",
       "  <thead>\n",
       "    <tr style=\"text-align: right;\">\n",
       "      <th></th>\n",
       "      <th>이름</th>\n",
       "      <th>국어</th>\n",
       "      <th>미술</th>\n",
       "      <th>수학</th>\n",
       "      <th>체육</th>\n",
       "    </tr>\n",
       "  </thead>\n",
       "  <tbody>\n",
       "    <tr>\n",
       "      <th>0</th>\n",
       "      <td>혜인</td>\n",
       "      <td>77</td>\n",
       "      <td>17</td>\n",
       "      <td>27</td>\n",
       "      <td>37</td>\n",
       "    </tr>\n",
       "    <tr>\n",
       "      <th>1</th>\n",
       "      <td>민지</td>\n",
       "      <td>88</td>\n",
       "      <td>18</td>\n",
       "      <td>28</td>\n",
       "      <td>38</td>\n",
       "    </tr>\n",
       "    <tr>\n",
       "      <th>2</th>\n",
       "      <td>하니</td>\n",
       "      <td>99</td>\n",
       "      <td>19</td>\n",
       "      <td>29</td>\n",
       "      <td>39</td>\n",
       "    </tr>\n",
       "    <tr>\n",
       "      <th>3</th>\n",
       "      <td>해린</td>\n",
       "      <td>100</td>\n",
       "      <td>10</td>\n",
       "      <td>20</td>\n",
       "      <td>30</td>\n",
       "    </tr>\n",
       "  </tbody>\n",
       "</table>\n",
       "</div>"
      ],
      "text/plain": [
       "   이름   국어  미술  수학  체육\n",
       "0  혜인   77  17  27  37\n",
       "1  민지   88  18  28  38\n",
       "2  하니   99  19  29  39\n",
       "3  해린  100  10  20  30"
      ]
     },
     "execution_count": 152,
     "metadata": {},
     "output_type": "execute_result"
    }
   ],
   "source": [
    "examDF"
   ]
  },
  {
   "cell_type": "markdown",
   "id": "d00a0d59-d1f3-41fc-927a-658620a17cc2",
   "metadata": {},
   "source": [
    "(4) 저장된 데이터 속성 확인 <hr>"
   ]
  },
  {
   "cell_type": "code",
   "execution_count": 153,
   "id": "a233fd33-b8c7-49f4-a998-1f87d4e5bdeb",
   "metadata": {},
   "outputs": [
    {
     "name": "stdout",
     "output_type": "stream",
     "text": [
      "[ examDF ]\n",
      "index\n",
      "=====> RangeIndex(start=0, stop=4, step=1)\n",
      "columns\n",
      "====> Index(['이름', '국어', '미술', '수학', '체육'], dtype='object')\n",
      "shape\n",
      "=====> (4, 5)\n",
      "ndim\n",
      "=====> 2\n",
      "dtypes\n",
      "=====>\n",
      "이름    object\n",
      "국어     int64\n",
      "미술     int64\n",
      "수학     int64\n",
      "체육     int64\n",
      "dtype: object\n"
     ]
    }
   ],
   "source": [
    "def printAttribute(df, dfname):\n",
    "    print(f'[ {dfname} ]')\n",
    "    print(f'index\\n=====> {df.index}')\n",
    "    print(f'columns\\n====> {df.columns}')\n",
    "    print(f'shape\\n=====> {df.shape}')\n",
    "    print(f'ndim\\n=====> {df.ndim}')\n",
    "    print(f'dtypes\\n=====>\\n{df.dtypes}')         #이러케 되면 시리즈가 출력된다!\n",
    "printAttribute(examDF, 'examDF')"
   ]
  },
  {
   "cell_type": "markdown",
   "id": "a6b9e51e-03f8-4043-92e2-f97bbcd3d875",
   "metadata": {},
   "source": [
    "(5) DataFrame에 컬럼(Column) 추가 <hr>\n",
    "- 방법: DF객체변수명[새로운컬러명] = 값"
   ]
  },
  {
   "cell_type": "code",
   "execution_count": 154,
   "id": "8f75e5fc-5874-4c7a-90bd-ac8448226ea1",
   "metadata": {},
   "outputs": [
    {
     "data": {
      "text/plain": [
       "Index(['이름', '국어', '미술', '수학', '체육'], dtype='object')"
      ]
     },
     "execution_count": 154,
     "metadata": {},
     "output_type": "execute_result"
    }
   ],
   "source": [
    "examDF.columns"
   ]
  },
  {
   "cell_type": "code",
   "execution_count": 155,
   "id": "77fcdb6b-e68e-431a-8103-fcc9dd0e8df9",
   "metadata": {},
   "outputs": [],
   "source": [
    "# 행 개수만큼 값 추가\n",
    "examDF['영어'] = [11, 22, 33, 44]"
   ]
  },
  {
   "cell_type": "code",
   "execution_count": 156,
   "id": "5cc36e3f-af9e-4aa8-bdc0-b1b2f56f4d9b",
   "metadata": {},
   "outputs": [
    {
     "data": {
      "text/html": [
       "<div>\n",
       "<style scoped>\n",
       "    .dataframe tbody tr th:only-of-type {\n",
       "        vertical-align: middle;\n",
       "    }\n",
       "\n",
       "    .dataframe tbody tr th {\n",
       "        vertical-align: top;\n",
       "    }\n",
       "\n",
       "    .dataframe thead th {\n",
       "        text-align: right;\n",
       "    }\n",
       "</style>\n",
       "<table border=\"1\" class=\"dataframe\">\n",
       "  <thead>\n",
       "    <tr style=\"text-align: right;\">\n",
       "      <th></th>\n",
       "      <th>이름</th>\n",
       "      <th>국어</th>\n",
       "      <th>미술</th>\n",
       "      <th>수학</th>\n",
       "      <th>체육</th>\n",
       "      <th>영어</th>\n",
       "    </tr>\n",
       "  </thead>\n",
       "  <tbody>\n",
       "    <tr>\n",
       "      <th>0</th>\n",
       "      <td>혜인</td>\n",
       "      <td>77</td>\n",
       "      <td>17</td>\n",
       "      <td>27</td>\n",
       "      <td>37</td>\n",
       "      <td>11</td>\n",
       "    </tr>\n",
       "    <tr>\n",
       "      <th>1</th>\n",
       "      <td>민지</td>\n",
       "      <td>88</td>\n",
       "      <td>18</td>\n",
       "      <td>28</td>\n",
       "      <td>38</td>\n",
       "      <td>22</td>\n",
       "    </tr>\n",
       "    <tr>\n",
       "      <th>2</th>\n",
       "      <td>하니</td>\n",
       "      <td>99</td>\n",
       "      <td>19</td>\n",
       "      <td>29</td>\n",
       "      <td>39</td>\n",
       "      <td>33</td>\n",
       "    </tr>\n",
       "    <tr>\n",
       "      <th>3</th>\n",
       "      <td>해린</td>\n",
       "      <td>100</td>\n",
       "      <td>10</td>\n",
       "      <td>20</td>\n",
       "      <td>30</td>\n",
       "      <td>44</td>\n",
       "    </tr>\n",
       "  </tbody>\n",
       "</table>\n",
       "</div>"
      ],
      "text/plain": [
       "   이름   국어  미술  수학  체육  영어\n",
       "0  혜인   77  17  27  37  11\n",
       "1  민지   88  18  28  38  22\n",
       "2  하니   99  19  29  39  33\n",
       "3  해린  100  10  20  30  44"
      ]
     },
     "execution_count": 156,
     "metadata": {},
     "output_type": "execute_result"
    }
   ],
   "source": [
    "examDF"
   ]
  },
  {
   "cell_type": "code",
   "execution_count": 157,
   "id": "80bee6ab-9cf3-4e48-b3c2-535814934d04",
   "metadata": {},
   "outputs": [
    {
     "data": {
      "text/html": [
       "<div>\n",
       "<style scoped>\n",
       "    .dataframe tbody tr th:only-of-type {\n",
       "        vertical-align: middle;\n",
       "    }\n",
       "\n",
       "    .dataframe tbody tr th {\n",
       "        vertical-align: top;\n",
       "    }\n",
       "\n",
       "    .dataframe thead th {\n",
       "        text-align: right;\n",
       "    }\n",
       "</style>\n",
       "<table border=\"1\" class=\"dataframe\">\n",
       "  <thead>\n",
       "    <tr style=\"text-align: right;\">\n",
       "      <th></th>\n",
       "      <th>이름</th>\n",
       "      <th>국어</th>\n",
       "      <th>미술</th>\n",
       "      <th>수학</th>\n",
       "      <th>체육</th>\n",
       "      <th>영어</th>\n",
       "      <th>과학</th>\n",
       "    </tr>\n",
       "  </thead>\n",
       "  <tbody>\n",
       "    <tr>\n",
       "      <th>0</th>\n",
       "      <td>혜인</td>\n",
       "      <td>77</td>\n",
       "      <td>17</td>\n",
       "      <td>27</td>\n",
       "      <td>37</td>\n",
       "      <td>11</td>\n",
       "      <td>10</td>\n",
       "    </tr>\n",
       "    <tr>\n",
       "      <th>1</th>\n",
       "      <td>민지</td>\n",
       "      <td>88</td>\n",
       "      <td>18</td>\n",
       "      <td>28</td>\n",
       "      <td>38</td>\n",
       "      <td>22</td>\n",
       "      <td>10</td>\n",
       "    </tr>\n",
       "    <tr>\n",
       "      <th>2</th>\n",
       "      <td>하니</td>\n",
       "      <td>99</td>\n",
       "      <td>19</td>\n",
       "      <td>29</td>\n",
       "      <td>39</td>\n",
       "      <td>33</td>\n",
       "      <td>10</td>\n",
       "    </tr>\n",
       "    <tr>\n",
       "      <th>3</th>\n",
       "      <td>해린</td>\n",
       "      <td>100</td>\n",
       "      <td>10</td>\n",
       "      <td>20</td>\n",
       "      <td>30</td>\n",
       "      <td>44</td>\n",
       "      <td>10</td>\n",
       "    </tr>\n",
       "  </tbody>\n",
       "</table>\n",
       "</div>"
      ],
      "text/plain": [
       "   이름   국어  미술  수학  체육  영어  과학\n",
       "0  혜인   77  17  27  37  11  10\n",
       "1  민지   88  18  28  38  22  10\n",
       "2  하니   99  19  29  39  33  10\n",
       "3  해린  100  10  20  30  44  10"
      ]
     },
     "execution_count": 157,
     "metadata": {},
     "output_type": "execute_result"
    }
   ],
   "source": [
    "# 1개의 데이터 즉 값 추가시 모든 행에 동일값으로 저장\n",
    "examDF['과학'] = 10\n",
    "#[10] 이거는 1개만 준거라 에러발생\n",
    "examDF"
   ]
  },
  {
   "cell_type": "markdown",
   "id": "d5501b15-f484-4a86-bd0f-f3a87a0dbf4a",
   "metadata": {},
   "source": [
    "(6) DataFrame에 행(row) 추가 <hr>\n",
    "- 방법: DF객체변수명.loc[새로운 행인덱스] = [컬럼 수 만큼의 데이터]\n",
    "- 방법: DF객체변수명.loc[새로운 행인덱스] = 데이터\n",
    "- 불가 방법: DF객체변수명.iloc[새로운 행인덱스] = 데이터 => 데이터 존재해야지 인덱스 할당됨"
   ]
  },
  {
   "cell_type": "code",
   "execution_count": 158,
   "id": "2c80248c-cd9c-4f7e-8285-7f8d969fdb86",
   "metadata": {},
   "outputs": [
    {
     "data": {
      "text/plain": [
       "RangeIndex(start=0, stop=4, step=1)"
      ]
     },
     "execution_count": 158,
     "metadata": {},
     "output_type": "execute_result"
    }
   ],
   "source": [
    "examDF.index"
   ]
  },
  {
   "cell_type": "code",
   "execution_count": 159,
   "id": "1bec1bea-b880-492e-a160-9574f2f83e2c",
   "metadata": {},
   "outputs": [],
   "source": [
    "# 컬럼수만큼의 데이터를 가진 행 추가\n",
    "examDF.loc[4] = ['다니엘', 90, 87, 77, 67, 57, 47]"
   ]
  },
  {
   "cell_type": "code",
   "execution_count": 160,
   "id": "15522278-7115-4331-bf5d-b001c7e80d01",
   "metadata": {},
   "outputs": [
    {
     "data": {
      "text/html": [
       "<div>\n",
       "<style scoped>\n",
       "    .dataframe tbody tr th:only-of-type {\n",
       "        vertical-align: middle;\n",
       "    }\n",
       "\n",
       "    .dataframe tbody tr th {\n",
       "        vertical-align: top;\n",
       "    }\n",
       "\n",
       "    .dataframe thead th {\n",
       "        text-align: right;\n",
       "    }\n",
       "</style>\n",
       "<table border=\"1\" class=\"dataframe\">\n",
       "  <thead>\n",
       "    <tr style=\"text-align: right;\">\n",
       "      <th></th>\n",
       "      <th>이름</th>\n",
       "      <th>국어</th>\n",
       "      <th>미술</th>\n",
       "      <th>수학</th>\n",
       "      <th>체육</th>\n",
       "      <th>영어</th>\n",
       "      <th>과학</th>\n",
       "    </tr>\n",
       "  </thead>\n",
       "  <tbody>\n",
       "    <tr>\n",
       "      <th>0</th>\n",
       "      <td>혜인</td>\n",
       "      <td>77</td>\n",
       "      <td>17</td>\n",
       "      <td>27</td>\n",
       "      <td>37</td>\n",
       "      <td>11</td>\n",
       "      <td>10</td>\n",
       "    </tr>\n",
       "    <tr>\n",
       "      <th>1</th>\n",
       "      <td>민지</td>\n",
       "      <td>88</td>\n",
       "      <td>18</td>\n",
       "      <td>28</td>\n",
       "      <td>38</td>\n",
       "      <td>22</td>\n",
       "      <td>10</td>\n",
       "    </tr>\n",
       "    <tr>\n",
       "      <th>2</th>\n",
       "      <td>하니</td>\n",
       "      <td>99</td>\n",
       "      <td>19</td>\n",
       "      <td>29</td>\n",
       "      <td>39</td>\n",
       "      <td>33</td>\n",
       "      <td>10</td>\n",
       "    </tr>\n",
       "    <tr>\n",
       "      <th>3</th>\n",
       "      <td>해린</td>\n",
       "      <td>100</td>\n",
       "      <td>10</td>\n",
       "      <td>20</td>\n",
       "      <td>30</td>\n",
       "      <td>44</td>\n",
       "      <td>10</td>\n",
       "    </tr>\n",
       "    <tr>\n",
       "      <th>4</th>\n",
       "      <td>다니엘</td>\n",
       "      <td>90</td>\n",
       "      <td>87</td>\n",
       "      <td>77</td>\n",
       "      <td>67</td>\n",
       "      <td>57</td>\n",
       "      <td>47</td>\n",
       "    </tr>\n",
       "  </tbody>\n",
       "</table>\n",
       "</div>"
      ],
      "text/plain": [
       "    이름   국어  미술  수학  체육  영어  과학\n",
       "0   혜인   77  17  27  37  11  10\n",
       "1   민지   88  18  28  38  22  10\n",
       "2   하니   99  19  29  39  33  10\n",
       "3   해린  100  10  20  30  44  10\n",
       "4  다니엘   90  87  77  67  57  47"
      ]
     },
     "execution_count": 160,
     "metadata": {},
     "output_type": "execute_result"
    }
   ],
   "source": [
    "examDF"
   ]
  },
  {
   "cell_type": "code",
   "execution_count": 161,
   "id": "e4446bf8-d27e-46a5-ba5a-641fc6f5934f",
   "metadata": {},
   "outputs": [],
   "source": [
    "# 행 추가시 iloc는 사용불가 = why? 데이터 수에 맞게 인덱스 범위 지정이 되기 떄문에\n",
    "# 현재 인덱스에 없는 인덱스로 불가\n",
    "#examDF.iloc[5] = ['방시혁', 90, 87, 77, 67, 57, 47]"
   ]
  },
  {
   "cell_type": "code",
   "execution_count": 162,
   "id": "09d9d3c0-675a-47da-b23c-a654e10057e8",
   "metadata": {},
   "outputs": [],
   "source": [
    "# 1개 데이터 가진 행 추가\n",
    "examDF.loc[5] = '방시혁'"
   ]
  },
  {
   "cell_type": "code",
   "execution_count": 163,
   "id": "c3922443-555e-457d-92b9-2bfc04452a6c",
   "metadata": {},
   "outputs": [
    {
     "data": {
      "text/html": [
       "<div>\n",
       "<style scoped>\n",
       "    .dataframe tbody tr th:only-of-type {\n",
       "        vertical-align: middle;\n",
       "    }\n",
       "\n",
       "    .dataframe tbody tr th {\n",
       "        vertical-align: top;\n",
       "    }\n",
       "\n",
       "    .dataframe thead th {\n",
       "        text-align: right;\n",
       "    }\n",
       "</style>\n",
       "<table border=\"1\" class=\"dataframe\">\n",
       "  <thead>\n",
       "    <tr style=\"text-align: right;\">\n",
       "      <th></th>\n",
       "      <th>이름</th>\n",
       "      <th>국어</th>\n",
       "      <th>미술</th>\n",
       "      <th>수학</th>\n",
       "      <th>체육</th>\n",
       "      <th>영어</th>\n",
       "      <th>과학</th>\n",
       "    </tr>\n",
       "  </thead>\n",
       "  <tbody>\n",
       "    <tr>\n",
       "      <th>0</th>\n",
       "      <td>혜인</td>\n",
       "      <td>77</td>\n",
       "      <td>17</td>\n",
       "      <td>27</td>\n",
       "      <td>37</td>\n",
       "      <td>11</td>\n",
       "      <td>10</td>\n",
       "    </tr>\n",
       "    <tr>\n",
       "      <th>1</th>\n",
       "      <td>민지</td>\n",
       "      <td>88</td>\n",
       "      <td>18</td>\n",
       "      <td>28</td>\n",
       "      <td>38</td>\n",
       "      <td>22</td>\n",
       "      <td>10</td>\n",
       "    </tr>\n",
       "    <tr>\n",
       "      <th>2</th>\n",
       "      <td>하니</td>\n",
       "      <td>99</td>\n",
       "      <td>19</td>\n",
       "      <td>29</td>\n",
       "      <td>39</td>\n",
       "      <td>33</td>\n",
       "      <td>10</td>\n",
       "    </tr>\n",
       "    <tr>\n",
       "      <th>3</th>\n",
       "      <td>해린</td>\n",
       "      <td>100</td>\n",
       "      <td>10</td>\n",
       "      <td>20</td>\n",
       "      <td>30</td>\n",
       "      <td>44</td>\n",
       "      <td>10</td>\n",
       "    </tr>\n",
       "    <tr>\n",
       "      <th>4</th>\n",
       "      <td>다니엘</td>\n",
       "      <td>90</td>\n",
       "      <td>87</td>\n",
       "      <td>77</td>\n",
       "      <td>67</td>\n",
       "      <td>57</td>\n",
       "      <td>47</td>\n",
       "    </tr>\n",
       "    <tr>\n",
       "      <th>5</th>\n",
       "      <td>방시혁</td>\n",
       "      <td>방시혁</td>\n",
       "      <td>방시혁</td>\n",
       "      <td>방시혁</td>\n",
       "      <td>방시혁</td>\n",
       "      <td>방시혁</td>\n",
       "      <td>방시혁</td>\n",
       "    </tr>\n",
       "  </tbody>\n",
       "</table>\n",
       "</div>"
      ],
      "text/plain": [
       "    이름   국어   미술   수학   체육   영어   과학\n",
       "0   혜인   77   17   27   37   11   10\n",
       "1   민지   88   18   28   38   22   10\n",
       "2   하니   99   19   29   39   33   10\n",
       "3   해린  100   10   20   30   44   10\n",
       "4  다니엘   90   87   77   67   57   47\n",
       "5  방시혁  방시혁  방시혁  방시혁  방시혁  방시혁  방시혁"
      ]
     },
     "execution_count": 163,
     "metadata": {},
     "output_type": "execute_result"
    }
   ],
   "source": [
    "examDF"
   ]
  },
  {
   "cell_type": "code",
   "execution_count": null,
   "id": "12d7411c-6d2c-419b-ad80-08ae6561688a",
   "metadata": {},
   "outputs": [],
   "source": []
  }
 ],
 "metadata": {
  "kernelspec": {
   "display_name": "Python 3 (ipykernel)",
   "language": "python",
   "name": "python3"
  },
  "language_info": {
   "codemirror_mode": {
    "name": "ipython",
    "version": 3
   },
   "file_extension": ".py",
   "mimetype": "text/x-python",
   "name": "python",
   "nbconvert_exporter": "python",
   "pygments_lexer": "ipython3",
   "version": "3.8.18"
  }
 },
 "nbformat": 4,
 "nbformat_minor": 5
}
